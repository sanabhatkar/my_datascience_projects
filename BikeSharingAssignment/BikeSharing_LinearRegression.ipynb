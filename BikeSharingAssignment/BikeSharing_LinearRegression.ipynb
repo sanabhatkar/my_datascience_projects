{
 "cells": [
  {
   "cell_type": "markdown",
   "id": "f51e5ec1",
   "metadata": {},
   "source": [
    "# Problem Statement\n",
    "A US bike-sharing provider BoomBikes has recently suffered considerable dips in their revenues due to the ongoing Corona pandemic. The company is finding it very difficult to sustain in the current market scenario. So, it has decided to come up with a mindful business plan to be able to accelerate its revenue as soon as the ongoing lockdown comes to an end, and the economy restores to a healthy state. \n",
    "\n",
    "\n",
    "In such an attempt, BoomBikes aspires to understand the demand for shared bikes among the people after this ongoing quarantine situation ends across the nation due to Covid-19. They have planned this to prepare themselves to cater to the people's needs once the situation gets better all around and stand out from other service providers and make huge profits.\n",
    "\n",
    "They have hired you as an consultant. You are required to model the demand for shared bikes with the available independent variables. It will be used by the management to understand how exactly the demands vary with different features. They can accordingly manipulate the business strategy to meet the demand levels and meet the customer's expectations. Further, the model will be a good way for management to understand the demand dynamics of a new market. \n",
    "\n",
    "Which variables are significant in predicting the demand for shared bikes.\n",
    "How well those variables describe the bike demands\n",
    "Based on various meteorological surveys and people's styles, the service provider firm has gathered a large dataset on daily bike demands across the American market based on some factors."
   ]
  },
  {
   "cell_type": "markdown",
   "id": "c9bc0457",
   "metadata": {},
   "source": [
    "## 1. Let's understand the data"
   ]
  },
  {
   "cell_type": "code",
   "execution_count": 1,
   "id": "b1946a0d",
   "metadata": {},
   "outputs": [],
   "source": [
    "import pandas as pd\n",
    "import numpy as np\n",
    "import matplotlib.pyplot as plt\n",
    "import seaborn as sns\n",
    "import warnings\n",
    "warnings.filterwarnings('ignore')"
   ]
  },
  {
   "cell_type": "code",
   "execution_count": 2,
   "id": "1a15d817",
   "metadata": {},
   "outputs": [
    {
     "data": {
      "text/html": [
       "<div>\n",
       "<style scoped>\n",
       "    .dataframe tbody tr th:only-of-type {\n",
       "        vertical-align: middle;\n",
       "    }\n",
       "\n",
       "    .dataframe tbody tr th {\n",
       "        vertical-align: top;\n",
       "    }\n",
       "\n",
       "    .dataframe thead th {\n",
       "        text-align: right;\n",
       "    }\n",
       "</style>\n",
       "<table border=\"1\" class=\"dataframe\">\n",
       "  <thead>\n",
       "    <tr style=\"text-align: right;\">\n",
       "      <th></th>\n",
       "      <th>instant</th>\n",
       "      <th>dteday</th>\n",
       "      <th>season</th>\n",
       "      <th>yr</th>\n",
       "      <th>mnth</th>\n",
       "      <th>holiday</th>\n",
       "      <th>weekday</th>\n",
       "      <th>workingday</th>\n",
       "      <th>weathersit</th>\n",
       "      <th>temp</th>\n",
       "      <th>atemp</th>\n",
       "      <th>hum</th>\n",
       "      <th>windspeed</th>\n",
       "      <th>casual</th>\n",
       "      <th>registered</th>\n",
       "      <th>cnt</th>\n",
       "    </tr>\n",
       "  </thead>\n",
       "  <tbody>\n",
       "    <tr>\n",
       "      <th>0</th>\n",
       "      <td>1</td>\n",
       "      <td>01-01-2018</td>\n",
       "      <td>1</td>\n",
       "      <td>0</td>\n",
       "      <td>1</td>\n",
       "      <td>0</td>\n",
       "      <td>1</td>\n",
       "      <td>1</td>\n",
       "      <td>2</td>\n",
       "      <td>14.110847</td>\n",
       "      <td>18.18125</td>\n",
       "      <td>80.5833</td>\n",
       "      <td>10.749882</td>\n",
       "      <td>331</td>\n",
       "      <td>654</td>\n",
       "      <td>985</td>\n",
       "    </tr>\n",
       "    <tr>\n",
       "      <th>1</th>\n",
       "      <td>2</td>\n",
       "      <td>02-01-2018</td>\n",
       "      <td>1</td>\n",
       "      <td>0</td>\n",
       "      <td>1</td>\n",
       "      <td>0</td>\n",
       "      <td>2</td>\n",
       "      <td>1</td>\n",
       "      <td>2</td>\n",
       "      <td>14.902598</td>\n",
       "      <td>17.68695</td>\n",
       "      <td>69.6087</td>\n",
       "      <td>16.652113</td>\n",
       "      <td>131</td>\n",
       "      <td>670</td>\n",
       "      <td>801</td>\n",
       "    </tr>\n",
       "    <tr>\n",
       "      <th>2</th>\n",
       "      <td>3</td>\n",
       "      <td>03-01-2018</td>\n",
       "      <td>1</td>\n",
       "      <td>0</td>\n",
       "      <td>1</td>\n",
       "      <td>0</td>\n",
       "      <td>3</td>\n",
       "      <td>1</td>\n",
       "      <td>1</td>\n",
       "      <td>8.050924</td>\n",
       "      <td>9.47025</td>\n",
       "      <td>43.7273</td>\n",
       "      <td>16.636703</td>\n",
       "      <td>120</td>\n",
       "      <td>1229</td>\n",
       "      <td>1349</td>\n",
       "    </tr>\n",
       "    <tr>\n",
       "      <th>3</th>\n",
       "      <td>4</td>\n",
       "      <td>04-01-2018</td>\n",
       "      <td>1</td>\n",
       "      <td>0</td>\n",
       "      <td>1</td>\n",
       "      <td>0</td>\n",
       "      <td>4</td>\n",
       "      <td>1</td>\n",
       "      <td>1</td>\n",
       "      <td>8.200000</td>\n",
       "      <td>10.60610</td>\n",
       "      <td>59.0435</td>\n",
       "      <td>10.739832</td>\n",
       "      <td>108</td>\n",
       "      <td>1454</td>\n",
       "      <td>1562</td>\n",
       "    </tr>\n",
       "    <tr>\n",
       "      <th>4</th>\n",
       "      <td>5</td>\n",
       "      <td>05-01-2018</td>\n",
       "      <td>1</td>\n",
       "      <td>0</td>\n",
       "      <td>1</td>\n",
       "      <td>0</td>\n",
       "      <td>5</td>\n",
       "      <td>1</td>\n",
       "      <td>1</td>\n",
       "      <td>9.305237</td>\n",
       "      <td>11.46350</td>\n",
       "      <td>43.6957</td>\n",
       "      <td>12.522300</td>\n",
       "      <td>82</td>\n",
       "      <td>1518</td>\n",
       "      <td>1600</td>\n",
       "    </tr>\n",
       "  </tbody>\n",
       "</table>\n",
       "</div>"
      ],
      "text/plain": [
       "   instant      dteday  season  yr  mnth  holiday  weekday  workingday  \\\n",
       "0        1  01-01-2018       1   0     1        0        1           1   \n",
       "1        2  02-01-2018       1   0     1        0        2           1   \n",
       "2        3  03-01-2018       1   0     1        0        3           1   \n",
       "3        4  04-01-2018       1   0     1        0        4           1   \n",
       "4        5  05-01-2018       1   0     1        0        5           1   \n",
       "\n",
       "   weathersit       temp     atemp      hum  windspeed  casual  registered  \\\n",
       "0           2  14.110847  18.18125  80.5833  10.749882     331         654   \n",
       "1           2  14.902598  17.68695  69.6087  16.652113     131         670   \n",
       "2           1   8.050924   9.47025  43.7273  16.636703     120        1229   \n",
       "3           1   8.200000  10.60610  59.0435  10.739832     108        1454   \n",
       "4           1   9.305237  11.46350  43.6957  12.522300      82        1518   \n",
       "\n",
       "    cnt  \n",
       "0   985  \n",
       "1   801  \n",
       "2  1349  \n",
       "3  1562  \n",
       "4  1600  "
      ]
     },
     "execution_count": 2,
     "metadata": {},
     "output_type": "execute_result"
    }
   ],
   "source": [
    "boom_bikes = pd.read_csv('day.csv')\n",
    "boom_bikes.head()"
   ]
  },
  {
   "cell_type": "code",
   "execution_count": 3,
   "id": "62069313",
   "metadata": {},
   "outputs": [
    {
     "data": {
      "text/plain": [
       "(730, 16)"
      ]
     },
     "execution_count": 3,
     "metadata": {},
     "output_type": "execute_result"
    }
   ],
   "source": [
    "boom_bikes.shape"
   ]
  },
  {
   "cell_type": "code",
   "execution_count": 4,
   "id": "fee1e5a5",
   "metadata": {},
   "outputs": [
    {
     "name": "stdout",
     "output_type": "stream",
     "text": [
      "<class 'pandas.core.frame.DataFrame'>\n",
      "RangeIndex: 730 entries, 0 to 729\n",
      "Data columns (total 16 columns):\n",
      " #   Column      Non-Null Count  Dtype  \n",
      "---  ------      --------------  -----  \n",
      " 0   instant     730 non-null    int64  \n",
      " 1   dteday      730 non-null    object \n",
      " 2   season      730 non-null    int64  \n",
      " 3   yr          730 non-null    int64  \n",
      " 4   mnth        730 non-null    int64  \n",
      " 5   holiday     730 non-null    int64  \n",
      " 6   weekday     730 non-null    int64  \n",
      " 7   workingday  730 non-null    int64  \n",
      " 8   weathersit  730 non-null    int64  \n",
      " 9   temp        730 non-null    float64\n",
      " 10  atemp       730 non-null    float64\n",
      " 11  hum         730 non-null    float64\n",
      " 12  windspeed   730 non-null    float64\n",
      " 13  casual      730 non-null    int64  \n",
      " 14  registered  730 non-null    int64  \n",
      " 15  cnt         730 non-null    int64  \n",
      "dtypes: float64(4), int64(11), object(1)\n",
      "memory usage: 91.4+ KB\n"
     ]
    }
   ],
   "source": [
    "boom_bikes.info()"
   ]
  },
  {
   "cell_type": "code",
   "execution_count": 5,
   "id": "765b5810",
   "metadata": {},
   "outputs": [
    {
     "data": {
      "text/html": [
       "<div>\n",
       "<style scoped>\n",
       "    .dataframe tbody tr th:only-of-type {\n",
       "        vertical-align: middle;\n",
       "    }\n",
       "\n",
       "    .dataframe tbody tr th {\n",
       "        vertical-align: top;\n",
       "    }\n",
       "\n",
       "    .dataframe thead th {\n",
       "        text-align: right;\n",
       "    }\n",
       "</style>\n",
       "<table border=\"1\" class=\"dataframe\">\n",
       "  <thead>\n",
       "    <tr style=\"text-align: right;\">\n",
       "      <th></th>\n",
       "      <th>instant</th>\n",
       "      <th>season</th>\n",
       "      <th>yr</th>\n",
       "      <th>mnth</th>\n",
       "      <th>holiday</th>\n",
       "      <th>weekday</th>\n",
       "      <th>workingday</th>\n",
       "      <th>weathersit</th>\n",
       "      <th>temp</th>\n",
       "      <th>atemp</th>\n",
       "      <th>hum</th>\n",
       "      <th>windspeed</th>\n",
       "      <th>casual</th>\n",
       "      <th>registered</th>\n",
       "      <th>cnt</th>\n",
       "    </tr>\n",
       "  </thead>\n",
       "  <tbody>\n",
       "    <tr>\n",
       "      <th>count</th>\n",
       "      <td>730.000000</td>\n",
       "      <td>730.000000</td>\n",
       "      <td>730.000000</td>\n",
       "      <td>730.000000</td>\n",
       "      <td>730.000000</td>\n",
       "      <td>730.000000</td>\n",
       "      <td>730.000000</td>\n",
       "      <td>730.000000</td>\n",
       "      <td>730.000000</td>\n",
       "      <td>730.000000</td>\n",
       "      <td>730.000000</td>\n",
       "      <td>730.000000</td>\n",
       "      <td>730.000000</td>\n",
       "      <td>730.000000</td>\n",
       "      <td>730.000000</td>\n",
       "    </tr>\n",
       "    <tr>\n",
       "      <th>mean</th>\n",
       "      <td>365.500000</td>\n",
       "      <td>2.498630</td>\n",
       "      <td>0.500000</td>\n",
       "      <td>6.526027</td>\n",
       "      <td>0.028767</td>\n",
       "      <td>2.995890</td>\n",
       "      <td>0.690411</td>\n",
       "      <td>1.394521</td>\n",
       "      <td>20.319259</td>\n",
       "      <td>23.726322</td>\n",
       "      <td>62.765175</td>\n",
       "      <td>12.763620</td>\n",
       "      <td>849.249315</td>\n",
       "      <td>3658.757534</td>\n",
       "      <td>4508.006849</td>\n",
       "    </tr>\n",
       "    <tr>\n",
       "      <th>std</th>\n",
       "      <td>210.877136</td>\n",
       "      <td>1.110184</td>\n",
       "      <td>0.500343</td>\n",
       "      <td>3.450215</td>\n",
       "      <td>0.167266</td>\n",
       "      <td>2.000339</td>\n",
       "      <td>0.462641</td>\n",
       "      <td>0.544807</td>\n",
       "      <td>7.506729</td>\n",
       "      <td>8.150308</td>\n",
       "      <td>14.237589</td>\n",
       "      <td>5.195841</td>\n",
       "      <td>686.479875</td>\n",
       "      <td>1559.758728</td>\n",
       "      <td>1936.011647</td>\n",
       "    </tr>\n",
       "    <tr>\n",
       "      <th>min</th>\n",
       "      <td>1.000000</td>\n",
       "      <td>1.000000</td>\n",
       "      <td>0.000000</td>\n",
       "      <td>1.000000</td>\n",
       "      <td>0.000000</td>\n",
       "      <td>0.000000</td>\n",
       "      <td>0.000000</td>\n",
       "      <td>1.000000</td>\n",
       "      <td>2.424346</td>\n",
       "      <td>3.953480</td>\n",
       "      <td>0.000000</td>\n",
       "      <td>1.500244</td>\n",
       "      <td>2.000000</td>\n",
       "      <td>20.000000</td>\n",
       "      <td>22.000000</td>\n",
       "    </tr>\n",
       "    <tr>\n",
       "      <th>25%</th>\n",
       "      <td>183.250000</td>\n",
       "      <td>2.000000</td>\n",
       "      <td>0.000000</td>\n",
       "      <td>4.000000</td>\n",
       "      <td>0.000000</td>\n",
       "      <td>1.000000</td>\n",
       "      <td>0.000000</td>\n",
       "      <td>1.000000</td>\n",
       "      <td>13.811885</td>\n",
       "      <td>16.889713</td>\n",
       "      <td>52.000000</td>\n",
       "      <td>9.041650</td>\n",
       "      <td>316.250000</td>\n",
       "      <td>2502.250000</td>\n",
       "      <td>3169.750000</td>\n",
       "    </tr>\n",
       "    <tr>\n",
       "      <th>50%</th>\n",
       "      <td>365.500000</td>\n",
       "      <td>3.000000</td>\n",
       "      <td>0.500000</td>\n",
       "      <td>7.000000</td>\n",
       "      <td>0.000000</td>\n",
       "      <td>3.000000</td>\n",
       "      <td>1.000000</td>\n",
       "      <td>1.000000</td>\n",
       "      <td>20.465826</td>\n",
       "      <td>24.368225</td>\n",
       "      <td>62.625000</td>\n",
       "      <td>12.125325</td>\n",
       "      <td>717.000000</td>\n",
       "      <td>3664.500000</td>\n",
       "      <td>4548.500000</td>\n",
       "    </tr>\n",
       "    <tr>\n",
       "      <th>75%</th>\n",
       "      <td>547.750000</td>\n",
       "      <td>3.000000</td>\n",
       "      <td>1.000000</td>\n",
       "      <td>10.000000</td>\n",
       "      <td>0.000000</td>\n",
       "      <td>5.000000</td>\n",
       "      <td>1.000000</td>\n",
       "      <td>2.000000</td>\n",
       "      <td>26.880615</td>\n",
       "      <td>30.445775</td>\n",
       "      <td>72.989575</td>\n",
       "      <td>15.625589</td>\n",
       "      <td>1096.500000</td>\n",
       "      <td>4783.250000</td>\n",
       "      <td>5966.000000</td>\n",
       "    </tr>\n",
       "    <tr>\n",
       "      <th>max</th>\n",
       "      <td>730.000000</td>\n",
       "      <td>4.000000</td>\n",
       "      <td>1.000000</td>\n",
       "      <td>12.000000</td>\n",
       "      <td>1.000000</td>\n",
       "      <td>6.000000</td>\n",
       "      <td>1.000000</td>\n",
       "      <td>3.000000</td>\n",
       "      <td>35.328347</td>\n",
       "      <td>42.044800</td>\n",
       "      <td>97.250000</td>\n",
       "      <td>34.000021</td>\n",
       "      <td>3410.000000</td>\n",
       "      <td>6946.000000</td>\n",
       "      <td>8714.000000</td>\n",
       "    </tr>\n",
       "  </tbody>\n",
       "</table>\n",
       "</div>"
      ],
      "text/plain": [
       "          instant      season          yr        mnth     holiday     weekday  \\\n",
       "count  730.000000  730.000000  730.000000  730.000000  730.000000  730.000000   \n",
       "mean   365.500000    2.498630    0.500000    6.526027    0.028767    2.995890   \n",
       "std    210.877136    1.110184    0.500343    3.450215    0.167266    2.000339   \n",
       "min      1.000000    1.000000    0.000000    1.000000    0.000000    0.000000   \n",
       "25%    183.250000    2.000000    0.000000    4.000000    0.000000    1.000000   \n",
       "50%    365.500000    3.000000    0.500000    7.000000    0.000000    3.000000   \n",
       "75%    547.750000    3.000000    1.000000   10.000000    0.000000    5.000000   \n",
       "max    730.000000    4.000000    1.000000   12.000000    1.000000    6.000000   \n",
       "\n",
       "       workingday  weathersit        temp       atemp         hum   windspeed  \\\n",
       "count  730.000000  730.000000  730.000000  730.000000  730.000000  730.000000   \n",
       "mean     0.690411    1.394521   20.319259   23.726322   62.765175   12.763620   \n",
       "std      0.462641    0.544807    7.506729    8.150308   14.237589    5.195841   \n",
       "min      0.000000    1.000000    2.424346    3.953480    0.000000    1.500244   \n",
       "25%      0.000000    1.000000   13.811885   16.889713   52.000000    9.041650   \n",
       "50%      1.000000    1.000000   20.465826   24.368225   62.625000   12.125325   \n",
       "75%      1.000000    2.000000   26.880615   30.445775   72.989575   15.625589   \n",
       "max      1.000000    3.000000   35.328347   42.044800   97.250000   34.000021   \n",
       "\n",
       "            casual   registered          cnt  \n",
       "count   730.000000   730.000000   730.000000  \n",
       "mean    849.249315  3658.757534  4508.006849  \n",
       "std     686.479875  1559.758728  1936.011647  \n",
       "min       2.000000    20.000000    22.000000  \n",
       "25%     316.250000  2502.250000  3169.750000  \n",
       "50%     717.000000  3664.500000  4548.500000  \n",
       "75%    1096.500000  4783.250000  5966.000000  \n",
       "max    3410.000000  6946.000000  8714.000000  "
      ]
     },
     "execution_count": 5,
     "metadata": {},
     "output_type": "execute_result"
    }
   ],
   "source": [
    "boom_bikes.describe()"
   ]
  },
  {
   "cell_type": "markdown",
   "id": "765535da",
   "metadata": {},
   "source": [
    "There are no missing values present in the dataset.\n",
    "Lets start with analysis of numerical variables"
   ]
  },
  {
   "cell_type": "markdown",
   "id": "9b8b1a28",
   "metadata": {},
   "source": [
    "## 2. Data visualization"
   ]
  },
  {
   "cell_type": "code",
   "execution_count": 6,
   "id": "5a46b92c",
   "metadata": {},
   "outputs": [
    {
     "data": {
      "text/plain": [
       "Index(['instant', 'dteday', 'season', 'yr', 'mnth', 'holiday', 'weekday',\n",
       "       'workingday', 'weathersit', 'temp', 'atemp', 'hum', 'windspeed',\n",
       "       'casual', 'registered', 'cnt'],\n",
       "      dtype='object')"
      ]
     },
     "execution_count": 6,
     "metadata": {},
     "output_type": "execute_result"
    }
   ],
   "source": [
    "boom_bikes.columns"
   ]
  },
  {
   "cell_type": "markdown",
   "id": "d65df347",
   "metadata": {},
   "source": [
    "#### visualizing numeric variables"
   ]
  },
  {
   "cell_type": "code",
   "execution_count": 7,
   "id": "a51b45a6",
   "metadata": {},
   "outputs": [
    {
     "data": {
      "text/plain": [
       "<Figure size 1440x576 with 0 Axes>"
      ]
     },
     "metadata": {},
     "output_type": "display_data"
    },
    {
     "data": {
      "image/png": "[encoded data removed]",
      "text/plain": [
       "<Figure size 1260x180 with 7 Axes>"
      ]
     },
     "metadata": {
      "needs_background": "light"
     },
     "output_type": "display_data"
    }
   ],
   "source": [
    "plt.figure(figsize=(20,8))\n",
    "sns.pairplot(data=boom_bikes, y_vars='cnt', x_vars=['dteday', 'temp', 'atemp', 'hum', 'windspeed', 'casual',\n",
    "       'registered'])\n",
    "plt.show()"
   ]
  },
  {
   "cell_type": "markdown",
   "id": "c0b7bb12",
   "metadata": {},
   "source": [
    "Looks like there is some relation between cnt and variables temp, atemp, casual and registered."
   ]
  },
  {
   "cell_type": "markdown",
   "id": "7fbbda98",
   "metadata": {},
   "source": [
    "#### visualizing categorical variables"
   ]
  },
  {
   "cell_type": "code",
   "execution_count": 8,
   "id": "4f9deb25",
   "metadata": {},
   "outputs": [
    {
     "data": {
      "image/png": "[encoded data removed]",
      "text/plain": [
       "<Figure size 1080x2160 with 7 Axes>"
      ]
     },
     "metadata": {
      "needs_background": "light"
     },
     "output_type": "display_data"
    }
   ],
   "source": [
    "plt.figure(figsize=(15,30))\n",
    "\n",
    "plt.subplot(4,2,1)\n",
    "sns.boxplot(data=boom_bikes, y='cnt', x='season')\n",
    "\n",
    "plt.subplot(4,2,2)\n",
    "sns.boxplot(data=boom_bikes, y='cnt', x='yr')\n",
    "\n",
    "plt.subplot(4,2,3)\n",
    "sns.boxplot(data=boom_bikes, y='cnt', x='holiday')\n",
    "\n",
    "plt.subplot(4,2,4)\n",
    "sns.boxplot(data=boom_bikes, y='cnt', x='weekday')\n",
    "\n",
    "plt.subplot(4,2,5)\n",
    "sns.boxplot(data=boom_bikes, y='cnt', x='workingday')\n",
    "\n",
    "plt.subplot(4,2,6)\n",
    "sns.boxplot(data=boom_bikes, y='cnt', x='weathersit')\n",
    "\n",
    "plt.subplot(4,2,7)\n",
    "sns.boxplot(data=boom_bikes, y='cnt', x='mnth')\n",
    "\n",
    "plt.show()"
   ]
  },
  {
   "cell_type": "markdown",
   "id": "75910239",
   "metadata": {},
   "source": [
    "Apart from working day and weekday, the median of other variables show some relationship with cnt."
   ]
  },
  {
   "cell_type": "markdown",
   "id": "3ddc7321",
   "metadata": {},
   "source": [
    "#### Checking if working day can be dropped"
   ]
  },
  {
   "cell_type": "code",
   "execution_count": 9,
   "id": "4fc27fc9",
   "metadata": {},
   "outputs": [
    {
     "data": {
      "text/plain": [
       "0    504\n",
       "Name: holiday, dtype: int64"
      ]
     },
     "execution_count": 9,
     "metadata": {},
     "output_type": "execute_result"
    }
   ],
   "source": [
    "boom_bikes[boom_bikes['workingday']==1]['holiday'].value_counts()  ## working day"
   ]
  },
  {
   "cell_type": "code",
   "execution_count": 10,
   "id": "1bbffc6a",
   "metadata": {},
   "outputs": [
    {
     "data": {
      "text/plain": [
       "0    205\n",
       "1     21\n",
       "Name: holiday, dtype: int64"
      ]
     },
     "execution_count": 10,
     "metadata": {},
     "output_type": "execute_result"
    }
   ],
   "source": [
    "boom_bikes[boom_bikes['workingday']==0]['holiday'].value_counts()   ##either weekend or holiday"
   ]
  },
  {
   "cell_type": "code",
   "execution_count": 11,
   "id": "e5ae9b45",
   "metadata": {},
   "outputs": [
    {
     "data": {
      "image/png": "[encoded data removed]",
      "text/plain": [
       "<Figure size 432x288 with 1 Axes>"
      ]
     },
     "metadata": {
      "needs_background": "light"
     },
     "output_type": "display_data"
    }
   ],
   "source": [
    "sns.boxplot(data=boom_bikes, y='cnt', x='workingday', hue='holiday')\n",
    "plt.show()"
   ]
  },
  {
   "cell_type": "code",
   "execution_count": 12,
   "id": "e0fc9b13",
   "metadata": {},
   "outputs": [
    {
     "data": {
      "image/png": "[encoded data removed]",
      "text/plain": [
       "<Figure size 432x288 with 1 Axes>"
      ]
     },
     "metadata": {
      "needs_background": "light"
     },
     "output_type": "display_data"
    }
   ],
   "source": [
    "sns.countplot(data=boom_bikes[boom_bikes['workingday']==0], x='weekday', hue='holiday')\n",
    "plt.show()"
   ]
  },
  {
   "cell_type": "markdown",
   "id": "abd95517",
   "metadata": {},
   "source": [
    "Above graph is for a non-working day (working day = 0). Can see that fewer number of sundays and saturdays were marked as holidays. If its not a working day and if its not a holiday then it means those are weekends. We can drop the holiday=1 rows if they are very less significant in number"
   ]
  },
  {
   "cell_type": "code",
   "execution_count": 13,
   "id": "b8bf0426",
   "metadata": {},
   "outputs": [
    {
     "data": {
      "text/plain": [
       "6    103\n",
       "0    102\n",
       "Name: weekday, dtype: int64"
      ]
     },
     "execution_count": 13,
     "metadata": {},
     "output_type": "execute_result"
    }
   ],
   "source": [
    "boom_bikes[(boom_bikes['workingday']==0) & (boom_bikes['holiday']==0)].weekday.value_counts()"
   ]
  },
  {
   "cell_type": "markdown",
   "id": "6ebe194d",
   "metadata": {},
   "source": [
    "When it was not a holiday and also people were not working, are all weekends given by weekday column."
   ]
  },
  {
   "cell_type": "code",
   "execution_count": 14,
   "id": "03ea8c9f",
   "metadata": {},
   "outputs": [
    {
     "data": {
      "text/html": [
       "<div>\n",
       "<style scoped>\n",
       "    .dataframe tbody tr th:only-of-type {\n",
       "        vertical-align: middle;\n",
       "    }\n",
       "\n",
       "    .dataframe tbody tr th {\n",
       "        vertical-align: top;\n",
       "    }\n",
       "\n",
       "    .dataframe thead th {\n",
       "        text-align: right;\n",
       "    }\n",
       "</style>\n",
       "<table border=\"1\" class=\"dataframe\">\n",
       "  <thead>\n",
       "    <tr style=\"text-align: right;\">\n",
       "      <th></th>\n",
       "      <th>instant</th>\n",
       "      <th>dteday</th>\n",
       "      <th>season</th>\n",
       "      <th>yr</th>\n",
       "      <th>mnth</th>\n",
       "      <th>holiday</th>\n",
       "      <th>weekday</th>\n",
       "      <th>workingday</th>\n",
       "      <th>weathersit</th>\n",
       "      <th>temp</th>\n",
       "      <th>atemp</th>\n",
       "      <th>hum</th>\n",
       "      <th>windspeed</th>\n",
       "      <th>casual</th>\n",
       "      <th>registered</th>\n",
       "      <th>cnt</th>\n",
       "    </tr>\n",
       "  </thead>\n",
       "  <tbody>\n",
       "  </tbody>\n",
       "</table>\n",
       "</div>"
      ],
      "text/plain": [
       "Empty DataFrame\n",
       "Columns: [instant, dteday, season, yr, mnth, holiday, weekday, workingday, weathersit, temp, atemp, hum, windspeed, casual, registered, cnt]\n",
       "Index: []"
      ]
     },
     "execution_count": 14,
     "metadata": {},
     "output_type": "execute_result"
    }
   ],
   "source": [
    "boom_bikes[(boom_bikes['workingday']==1) & (boom_bikes['holiday']==1)]"
   ]
  },
  {
   "cell_type": "markdown",
   "id": "c34b0db7",
   "metadata": {},
   "source": [
    "There are no records where holiday was a working day"
   ]
  },
  {
   "cell_type": "code",
   "execution_count": 15,
   "id": "7e273bb7",
   "metadata": {},
   "outputs": [
    {
     "data": {
      "text/plain": [
       "21"
      ]
     },
     "execution_count": 15,
     "metadata": {},
     "output_type": "execute_result"
    }
   ],
   "source": [
    "boom_bikes[(boom_bikes['workingday']==0) & (boom_bikes['holiday']==1)].value_counts().sum()"
   ]
  },
  {
   "cell_type": "code",
   "execution_count": 16,
   "id": "8f4cba5a",
   "metadata": {},
   "outputs": [
    {
     "data": {
      "text/plain": [
       "504"
      ]
     },
     "execution_count": 16,
     "metadata": {},
     "output_type": "execute_result"
    }
   ],
   "source": [
    "boom_bikes[(boom_bikes['workingday']==1) & (boom_bikes['holiday']==0)].value_counts().sum()"
   ]
  },
  {
   "cell_type": "markdown",
   "id": "fc2d18a3",
   "metadata": {},
   "source": [
    "#### We can drop the column 'workingday' as the information it provides is redundant.\n",
    "#### Also we will drop instant and dteday column as it is as good as index variable"
   ]
  },
  {
   "cell_type": "code",
   "execution_count": 17,
   "id": "d4e386fd",
   "metadata": {},
   "outputs": [],
   "source": [
    "boom_bikes.drop(['workingday','dteday','instant'],inplace=True, axis=1)"
   ]
  },
  {
   "cell_type": "code",
   "execution_count": 18,
   "id": "79abd4e9",
   "metadata": {},
   "outputs": [
    {
     "data": {
      "text/html": [
       "<div>\n",
       "<style scoped>\n",
       "    .dataframe tbody tr th:only-of-type {\n",
       "        vertical-align: middle;\n",
       "    }\n",
       "\n",
       "    .dataframe tbody tr th {\n",
       "        vertical-align: top;\n",
       "    }\n",
       "\n",
       "    .dataframe thead th {\n",
       "        text-align: right;\n",
       "    }\n",
       "</style>\n",
       "<table border=\"1\" class=\"dataframe\">\n",
       "  <thead>\n",
       "    <tr style=\"text-align: right;\">\n",
       "      <th></th>\n",
       "      <th>season</th>\n",
       "      <th>yr</th>\n",
       "      <th>mnth</th>\n",
       "      <th>holiday</th>\n",
       "      <th>weekday</th>\n",
       "      <th>weathersit</th>\n",
       "      <th>temp</th>\n",
       "      <th>atemp</th>\n",
       "      <th>hum</th>\n",
       "      <th>windspeed</th>\n",
       "      <th>casual</th>\n",
       "      <th>registered</th>\n",
       "      <th>cnt</th>\n",
       "    </tr>\n",
       "  </thead>\n",
       "  <tbody>\n",
       "    <tr>\n",
       "      <th>0</th>\n",
       "      <td>1</td>\n",
       "      <td>0</td>\n",
       "      <td>1</td>\n",
       "      <td>0</td>\n",
       "      <td>1</td>\n",
       "      <td>2</td>\n",
       "      <td>14.110847</td>\n",
       "      <td>18.18125</td>\n",
       "      <td>80.5833</td>\n",
       "      <td>10.749882</td>\n",
       "      <td>331</td>\n",
       "      <td>654</td>\n",
       "      <td>985</td>\n",
       "    </tr>\n",
       "    <tr>\n",
       "      <th>1</th>\n",
       "      <td>1</td>\n",
       "      <td>0</td>\n",
       "      <td>1</td>\n",
       "      <td>0</td>\n",
       "      <td>2</td>\n",
       "      <td>2</td>\n",
       "      <td>14.902598</td>\n",
       "      <td>17.68695</td>\n",
       "      <td>69.6087</td>\n",
       "      <td>16.652113</td>\n",
       "      <td>131</td>\n",
       "      <td>670</td>\n",
       "      <td>801</td>\n",
       "    </tr>\n",
       "    <tr>\n",
       "      <th>2</th>\n",
       "      <td>1</td>\n",
       "      <td>0</td>\n",
       "      <td>1</td>\n",
       "      <td>0</td>\n",
       "      <td>3</td>\n",
       "      <td>1</td>\n",
       "      <td>8.050924</td>\n",
       "      <td>9.47025</td>\n",
       "      <td>43.7273</td>\n",
       "      <td>16.636703</td>\n",
       "      <td>120</td>\n",
       "      <td>1229</td>\n",
       "      <td>1349</td>\n",
       "    </tr>\n",
       "    <tr>\n",
       "      <th>3</th>\n",
       "      <td>1</td>\n",
       "      <td>0</td>\n",
       "      <td>1</td>\n",
       "      <td>0</td>\n",
       "      <td>4</td>\n",
       "      <td>1</td>\n",
       "      <td>8.200000</td>\n",
       "      <td>10.60610</td>\n",
       "      <td>59.0435</td>\n",
       "      <td>10.739832</td>\n",
       "      <td>108</td>\n",
       "      <td>1454</td>\n",
       "      <td>1562</td>\n",
       "    </tr>\n",
       "    <tr>\n",
       "      <th>4</th>\n",
       "      <td>1</td>\n",
       "      <td>0</td>\n",
       "      <td>1</td>\n",
       "      <td>0</td>\n",
       "      <td>5</td>\n",
       "      <td>1</td>\n",
       "      <td>9.305237</td>\n",
       "      <td>11.46350</td>\n",
       "      <td>43.6957</td>\n",
       "      <td>12.522300</td>\n",
       "      <td>82</td>\n",
       "      <td>1518</td>\n",
       "      <td>1600</td>\n",
       "    </tr>\n",
       "  </tbody>\n",
       "</table>\n",
       "</div>"
      ],
      "text/plain": [
       "   season  yr  mnth  holiday  weekday  weathersit       temp     atemp  \\\n",
       "0       1   0     1        0        1           2  14.110847  18.18125   \n",
       "1       1   0     1        0        2           2  14.902598  17.68695   \n",
       "2       1   0     1        0        3           1   8.050924   9.47025   \n",
       "3       1   0     1        0        4           1   8.200000  10.60610   \n",
       "4       1   0     1        0        5           1   9.305237  11.46350   \n",
       "\n",
       "       hum  windspeed  casual  registered   cnt  \n",
       "0  80.5833  10.749882     331         654   985  \n",
       "1  69.6087  16.652113     131         670   801  \n",
       "2  43.7273  16.636703     120        1229  1349  \n",
       "3  59.0435  10.739832     108        1454  1562  \n",
       "4  43.6957  12.522300      82        1518  1600  "
      ]
     },
     "execution_count": 18,
     "metadata": {},
     "output_type": "execute_result"
    }
   ],
   "source": [
    "boom_bikes.head()"
   ]
  },
  {
   "cell_type": "markdown",
   "id": "07bab330",
   "metadata": {},
   "source": [
    "### Data Preparation"
   ]
  },
  {
   "cell_type": "markdown",
   "id": "d1224353",
   "metadata": {},
   "source": [
    "We can skip this method and use prefix attribute from get_dummies method instead "
   ]
  },
  {
   "cell_type": "code",
   "execution_count": 19,
   "id": "1a6b108f",
   "metadata": {},
   "outputs": [
    {
     "data": {
      "text/plain": [
       "fall      188\n",
       "summer    184\n",
       "spring    180\n",
       "winter    178\n",
       "Name: season, dtype: int64"
      ]
     },
     "execution_count": 19,
     "metadata": {},
     "output_type": "execute_result"
    }
   ],
   "source": [
    "varlist = ['season']\n",
    "\n",
    "boom_bikes[varlist] = boom_bikes[varlist].apply(lambda x: x.map({1:'spring', 2:'summer', 3:'fall', 4:'winter'}))\n",
    "\n",
    "boom_bikes['season'].value_counts()"
   ]
  },
  {
   "cell_type": "code",
   "execution_count": 20,
   "id": "75f79705",
   "metadata": {},
   "outputs": [
    {
     "data": {
      "text/plain": [
       "may    62\n",
       "jan    62\n",
       "mar    62\n",
       "aug    62\n",
       "oct    62\n",
       "dec    62\n",
       "jul    62\n",
       "nov    60\n",
       "apr    60\n",
       "jun    60\n",
       "sep    60\n",
       "feb    56\n",
       "Name: mnth, dtype: int64"
      ]
     },
     "execution_count": 20,
     "metadata": {},
     "output_type": "execute_result"
    }
   ],
   "source": [
    "varlist = ['mnth']\n",
    "\n",
    "boom_bikes[varlist] = boom_bikes[varlist].apply(lambda x: x.map({1:'jan', 2:'feb', 3:'mar', 4:'apr',5:'may',\n",
    "                                                                6:'jun',7:'jul',8:'aug',9:'sep',10:'oct',\n",
    "                                                                11:'nov',12:'dec'}))\n",
    "\n",
    "boom_bikes['mnth'].value_counts()"
   ]
  },
  {
   "cell_type": "code",
   "execution_count": 21,
   "id": "1fab5444",
   "metadata": {},
   "outputs": [
    {
     "data": {
      "text/plain": [
       "Tue    105\n",
       "Mon    105\n",
       "Thu    104\n",
       "Sat    104\n",
       "Fri    104\n",
       "Sun    104\n",
       "Wed    104\n",
       "Name: weekday, dtype: int64"
      ]
     },
     "execution_count": 21,
     "metadata": {},
     "output_type": "execute_result"
    }
   ],
   "source": [
    "varlist = ['weekday']\n",
    "\n",
    "boom_bikes[varlist] = boom_bikes[varlist].apply(lambda x: x.map({0:'Sun',1:'Mon',2:'Tue',3:'Wed',4:'Thu',5:'Fri',6:'Sat'}))\n",
    "\n",
    "boom_bikes['weekday'].value_counts()"
   ]
  },
  {
   "cell_type": "code",
   "execution_count": 22,
   "id": "d3eede4b",
   "metadata": {},
   "outputs": [
    {
     "data": {
      "text/plain": [
       "WCAT1    463\n",
       "WCAT2    246\n",
       "WCAT3     21\n",
       "Name: weathersit, dtype: int64"
      ]
     },
     "execution_count": 22,
     "metadata": {},
     "output_type": "execute_result"
    }
   ],
   "source": [
    "varlist = ['weathersit']\n",
    "\n",
    "boom_bikes[varlist] = boom_bikes[varlist].apply(lambda x: x.map({1:'WCAT1',2:'WCAT2',3:'WCAT3',4:'WCAT4'}))\n",
    "\n",
    "boom_bikes['weathersit'].value_counts()"
   ]
  },
  {
   "cell_type": "code",
   "execution_count": 23,
   "id": "c12d3c5d",
   "metadata": {},
   "outputs": [
    {
     "data": {
      "text/html": [
       "<div>\n",
       "<style scoped>\n",
       "    .dataframe tbody tr th:only-of-type {\n",
       "        vertical-align: middle;\n",
       "    }\n",
       "\n",
       "    .dataframe tbody tr th {\n",
       "        vertical-align: top;\n",
       "    }\n",
       "\n",
       "    .dataframe thead th {\n",
       "        text-align: right;\n",
       "    }\n",
       "</style>\n",
       "<table border=\"1\" class=\"dataframe\">\n",
       "  <thead>\n",
       "    <tr style=\"text-align: right;\">\n",
       "      <th></th>\n",
       "      <th>season</th>\n",
       "      <th>yr</th>\n",
       "      <th>mnth</th>\n",
       "      <th>holiday</th>\n",
       "      <th>weekday</th>\n",
       "      <th>weathersit</th>\n",
       "      <th>temp</th>\n",
       "      <th>atemp</th>\n",
       "      <th>hum</th>\n",
       "      <th>windspeed</th>\n",
       "      <th>casual</th>\n",
       "      <th>registered</th>\n",
       "      <th>cnt</th>\n",
       "    </tr>\n",
       "  </thead>\n",
       "  <tbody>\n",
       "    <tr>\n",
       "      <th>0</th>\n",
       "      <td>spring</td>\n",
       "      <td>0</td>\n",
       "      <td>jan</td>\n",
       "      <td>0</td>\n",
       "      <td>Mon</td>\n",
       "      <td>WCAT2</td>\n",
       "      <td>14.0</td>\n",
       "      <td>18.0</td>\n",
       "      <td>80.5833</td>\n",
       "      <td>10.749882</td>\n",
       "      <td>331</td>\n",
       "      <td>654</td>\n",
       "      <td>985</td>\n",
       "    </tr>\n",
       "    <tr>\n",
       "      <th>1</th>\n",
       "      <td>spring</td>\n",
       "      <td>0</td>\n",
       "      <td>jan</td>\n",
       "      <td>0</td>\n",
       "      <td>Tue</td>\n",
       "      <td>WCAT2</td>\n",
       "      <td>15.0</td>\n",
       "      <td>18.0</td>\n",
       "      <td>69.6087</td>\n",
       "      <td>16.652113</td>\n",
       "      <td>131</td>\n",
       "      <td>670</td>\n",
       "      <td>801</td>\n",
       "    </tr>\n",
       "    <tr>\n",
       "      <th>2</th>\n",
       "      <td>spring</td>\n",
       "      <td>0</td>\n",
       "      <td>jan</td>\n",
       "      <td>0</td>\n",
       "      <td>Wed</td>\n",
       "      <td>WCAT1</td>\n",
       "      <td>8.0</td>\n",
       "      <td>9.0</td>\n",
       "      <td>43.7273</td>\n",
       "      <td>16.636703</td>\n",
       "      <td>120</td>\n",
       "      <td>1229</td>\n",
       "      <td>1349</td>\n",
       "    </tr>\n",
       "    <tr>\n",
       "      <th>3</th>\n",
       "      <td>spring</td>\n",
       "      <td>0</td>\n",
       "      <td>jan</td>\n",
       "      <td>0</td>\n",
       "      <td>Thu</td>\n",
       "      <td>WCAT1</td>\n",
       "      <td>8.0</td>\n",
       "      <td>11.0</td>\n",
       "      <td>59.0435</td>\n",
       "      <td>10.739832</td>\n",
       "      <td>108</td>\n",
       "      <td>1454</td>\n",
       "      <td>1562</td>\n",
       "    </tr>\n",
       "    <tr>\n",
       "      <th>4</th>\n",
       "      <td>spring</td>\n",
       "      <td>0</td>\n",
       "      <td>jan</td>\n",
       "      <td>0</td>\n",
       "      <td>Fri</td>\n",
       "      <td>WCAT1</td>\n",
       "      <td>9.0</td>\n",
       "      <td>11.0</td>\n",
       "      <td>43.6957</td>\n",
       "      <td>12.522300</td>\n",
       "      <td>82</td>\n",
       "      <td>1518</td>\n",
       "      <td>1600</td>\n",
       "    </tr>\n",
       "  </tbody>\n",
       "</table>\n",
       "</div>"
      ],
      "text/plain": [
       "   season  yr mnth  holiday weekday weathersit  temp  atemp      hum  \\\n",
       "0  spring   0  jan        0     Mon      WCAT2  14.0   18.0  80.5833   \n",
       "1  spring   0  jan        0     Tue      WCAT2  15.0   18.0  69.6087   \n",
       "2  spring   0  jan        0     Wed      WCAT1   8.0    9.0  43.7273   \n",
       "3  spring   0  jan        0     Thu      WCAT1   8.0   11.0  59.0435   \n",
       "4  spring   0  jan        0     Fri      WCAT1   9.0   11.0  43.6957   \n",
       "\n",
       "   windspeed  casual  registered   cnt  \n",
       "0  10.749882     331         654   985  \n",
       "1  16.652113     131         670   801  \n",
       "2  16.636703     120        1229  1349  \n",
       "3  10.739832     108        1454  1562  \n",
       "4  12.522300      82        1518  1600  "
      ]
     },
     "execution_count": 23,
     "metadata": {},
     "output_type": "execute_result"
    }
   ],
   "source": [
    "#rounding off the temperatures to nearest integer\n",
    "varlist = ['temp','atemp']\n",
    "\n",
    "boom_bikes[varlist] = boom_bikes[varlist].apply(lambda x: round(x))\n",
    "\n",
    "boom_bikes.head()"
   ]
  },
  {
   "cell_type": "code",
   "execution_count": 24,
   "id": "82cc059c",
   "metadata": {},
   "outputs": [
    {
     "data": {
      "text/html": [
       "<div>\n",
       "<style scoped>\n",
       "    .dataframe tbody tr th:only-of-type {\n",
       "        vertical-align: middle;\n",
       "    }\n",
       "\n",
       "    .dataframe tbody tr th {\n",
       "        vertical-align: top;\n",
       "    }\n",
       "\n",
       "    .dataframe thead th {\n",
       "        text-align: right;\n",
       "    }\n",
       "</style>\n",
       "<table border=\"1\" class=\"dataframe\">\n",
       "  <thead>\n",
       "    <tr style=\"text-align: right;\">\n",
       "      <th></th>\n",
       "      <th>season</th>\n",
       "      <th>yr</th>\n",
       "      <th>mnth</th>\n",
       "      <th>holiday</th>\n",
       "      <th>weekday</th>\n",
       "      <th>weathersit</th>\n",
       "      <th>temp</th>\n",
       "      <th>atemp</th>\n",
       "      <th>hum</th>\n",
       "      <th>windspeed</th>\n",
       "      <th>casual</th>\n",
       "      <th>registered</th>\n",
       "      <th>cnt</th>\n",
       "    </tr>\n",
       "  </thead>\n",
       "  <tbody>\n",
       "    <tr>\n",
       "      <th>0</th>\n",
       "      <td>spring</td>\n",
       "      <td>0</td>\n",
       "      <td>jan</td>\n",
       "      <td>0</td>\n",
       "      <td>Mon</td>\n",
       "      <td>WCAT2</td>\n",
       "      <td>14.0</td>\n",
       "      <td>18.0</td>\n",
       "      <td>80.58</td>\n",
       "      <td>10.75</td>\n",
       "      <td>331</td>\n",
       "      <td>654</td>\n",
       "      <td>985</td>\n",
       "    </tr>\n",
       "    <tr>\n",
       "      <th>1</th>\n",
       "      <td>spring</td>\n",
       "      <td>0</td>\n",
       "      <td>jan</td>\n",
       "      <td>0</td>\n",
       "      <td>Tue</td>\n",
       "      <td>WCAT2</td>\n",
       "      <td>15.0</td>\n",
       "      <td>18.0</td>\n",
       "      <td>69.61</td>\n",
       "      <td>16.65</td>\n",
       "      <td>131</td>\n",
       "      <td>670</td>\n",
       "      <td>801</td>\n",
       "    </tr>\n",
       "    <tr>\n",
       "      <th>2</th>\n",
       "      <td>spring</td>\n",
       "      <td>0</td>\n",
       "      <td>jan</td>\n",
       "      <td>0</td>\n",
       "      <td>Wed</td>\n",
       "      <td>WCAT1</td>\n",
       "      <td>8.0</td>\n",
       "      <td>9.0</td>\n",
       "      <td>43.73</td>\n",
       "      <td>16.64</td>\n",
       "      <td>120</td>\n",
       "      <td>1229</td>\n",
       "      <td>1349</td>\n",
       "    </tr>\n",
       "    <tr>\n",
       "      <th>3</th>\n",
       "      <td>spring</td>\n",
       "      <td>0</td>\n",
       "      <td>jan</td>\n",
       "      <td>0</td>\n",
       "      <td>Thu</td>\n",
       "      <td>WCAT1</td>\n",
       "      <td>8.0</td>\n",
       "      <td>11.0</td>\n",
       "      <td>59.04</td>\n",
       "      <td>10.74</td>\n",
       "      <td>108</td>\n",
       "      <td>1454</td>\n",
       "      <td>1562</td>\n",
       "    </tr>\n",
       "    <tr>\n",
       "      <th>4</th>\n",
       "      <td>spring</td>\n",
       "      <td>0</td>\n",
       "      <td>jan</td>\n",
       "      <td>0</td>\n",
       "      <td>Fri</td>\n",
       "      <td>WCAT1</td>\n",
       "      <td>9.0</td>\n",
       "      <td>11.0</td>\n",
       "      <td>43.70</td>\n",
       "      <td>12.52</td>\n",
       "      <td>82</td>\n",
       "      <td>1518</td>\n",
       "      <td>1600</td>\n",
       "    </tr>\n",
       "  </tbody>\n",
       "</table>\n",
       "</div>"
      ],
      "text/plain": [
       "   season  yr mnth  holiday weekday weathersit  temp  atemp    hum  windspeed  \\\n",
       "0  spring   0  jan        0     Mon      WCAT2  14.0   18.0  80.58      10.75   \n",
       "1  spring   0  jan        0     Tue      WCAT2  15.0   18.0  69.61      16.65   \n",
       "2  spring   0  jan        0     Wed      WCAT1   8.0    9.0  43.73      16.64   \n",
       "3  spring   0  jan        0     Thu      WCAT1   8.0   11.0  59.04      10.74   \n",
       "4  spring   0  jan        0     Fri      WCAT1   9.0   11.0  43.70      12.52   \n",
       "\n",
       "   casual  registered   cnt  \n",
       "0     331         654   985  \n",
       "1     131         670   801  \n",
       "2     120        1229  1349  \n",
       "3     108        1454  1562  \n",
       "4      82        1518  1600  "
      ]
     },
     "execution_count": 24,
     "metadata": {},
     "output_type": "execute_result"
    }
   ],
   "source": [
    "#rounding off the speed and humidity to two decimals\n",
    "varlist = ['hum','windspeed']\n",
    "\n",
    "boom_bikes[varlist] = boom_bikes[varlist].apply(lambda x: round(x,2))\n",
    "\n",
    "boom_bikes.head()"
   ]
  },
  {
   "cell_type": "markdown",
   "id": "b3fdeac9",
   "metadata": {},
   "source": [
    "### We would use encoders to create dummy variables for the nominal values in the data"
   ]
  },
  {
   "cell_type": "code",
   "execution_count": 25,
   "id": "aedf13bd",
   "metadata": {},
   "outputs": [
    {
     "data": {
      "text/html": [
       "<div>\n",
       "<style scoped>\n",
       "    .dataframe tbody tr th:only-of-type {\n",
       "        vertical-align: middle;\n",
       "    }\n",
       "\n",
       "    .dataframe tbody tr th {\n",
       "        vertical-align: top;\n",
       "    }\n",
       "\n",
       "    .dataframe thead th {\n",
       "        text-align: right;\n",
       "    }\n",
       "</style>\n",
       "<table border=\"1\" class=\"dataframe\">\n",
       "  <thead>\n",
       "    <tr style=\"text-align: right;\">\n",
       "      <th></th>\n",
       "      <th>spring</th>\n",
       "      <th>summer</th>\n",
       "      <th>winter</th>\n",
       "    </tr>\n",
       "  </thead>\n",
       "  <tbody>\n",
       "    <tr>\n",
       "      <th>0</th>\n",
       "      <td>1</td>\n",
       "      <td>0</td>\n",
       "      <td>0</td>\n",
       "    </tr>\n",
       "    <tr>\n",
       "      <th>1</th>\n",
       "      <td>1</td>\n",
       "      <td>0</td>\n",
       "      <td>0</td>\n",
       "    </tr>\n",
       "    <tr>\n",
       "      <th>2</th>\n",
       "      <td>1</td>\n",
       "      <td>0</td>\n",
       "      <td>0</td>\n",
       "    </tr>\n",
       "    <tr>\n",
       "      <th>3</th>\n",
       "      <td>1</td>\n",
       "      <td>0</td>\n",
       "      <td>0</td>\n",
       "    </tr>\n",
       "    <tr>\n",
       "      <th>4</th>\n",
       "      <td>1</td>\n",
       "      <td>0</td>\n",
       "      <td>0</td>\n",
       "    </tr>\n",
       "  </tbody>\n",
       "</table>\n",
       "</div>"
      ],
      "text/plain": [
       "   spring  summer  winter\n",
       "0       1       0       0\n",
       "1       1       0       0\n",
       "2       1       0       0\n",
       "3       1       0       0\n",
       "4       1       0       0"
      ]
     },
     "execution_count": 25,
     "metadata": {},
     "output_type": "execute_result"
    }
   ],
   "source": [
    "seasons = pd.get_dummies(boom_bikes['season'], drop_first=True)\n",
    "\n",
    "seasons.head()"
   ]
  },
  {
   "cell_type": "markdown",
   "id": "b5183bb5",
   "metadata": {},
   "source": [
    "Dropped the fall column as 000 means fall\n",
    "- `100` will correspond to `spring`\n",
    "- `010` will correspond to `summer`\n",
    "- `001` will correspond to `winter`"
   ]
  },
  {
   "cell_type": "code",
   "execution_count": 26,
   "id": "a1a7cfa7",
   "metadata": {},
   "outputs": [
    {
     "data": {
      "text/html": [
       "<div>\n",
       "<style scoped>\n",
       "    .dataframe tbody tr th:only-of-type {\n",
       "        vertical-align: middle;\n",
       "    }\n",
       "\n",
       "    .dataframe tbody tr th {\n",
       "        vertical-align: top;\n",
       "    }\n",
       "\n",
       "    .dataframe thead th {\n",
       "        text-align: right;\n",
       "    }\n",
       "</style>\n",
       "<table border=\"1\" class=\"dataframe\">\n",
       "  <thead>\n",
       "    <tr style=\"text-align: right;\">\n",
       "      <th></th>\n",
       "      <th>season</th>\n",
       "      <th>yr</th>\n",
       "      <th>mnth</th>\n",
       "      <th>holiday</th>\n",
       "      <th>weekday</th>\n",
       "      <th>weathersit</th>\n",
       "      <th>temp</th>\n",
       "      <th>atemp</th>\n",
       "      <th>hum</th>\n",
       "      <th>windspeed</th>\n",
       "      <th>casual</th>\n",
       "      <th>registered</th>\n",
       "      <th>cnt</th>\n",
       "      <th>spring</th>\n",
       "      <th>summer</th>\n",
       "      <th>winter</th>\n",
       "    </tr>\n",
       "  </thead>\n",
       "  <tbody>\n",
       "    <tr>\n",
       "      <th>0</th>\n",
       "      <td>spring</td>\n",
       "      <td>0</td>\n",
       "      <td>jan</td>\n",
       "      <td>0</td>\n",
       "      <td>Mon</td>\n",
       "      <td>WCAT2</td>\n",
       "      <td>14.0</td>\n",
       "      <td>18.0</td>\n",
       "      <td>80.58</td>\n",
       "      <td>10.75</td>\n",
       "      <td>331</td>\n",
       "      <td>654</td>\n",
       "      <td>985</td>\n",
       "      <td>1</td>\n",
       "      <td>0</td>\n",
       "      <td>0</td>\n",
       "    </tr>\n",
       "    <tr>\n",
       "      <th>1</th>\n",
       "      <td>spring</td>\n",
       "      <td>0</td>\n",
       "      <td>jan</td>\n",
       "      <td>0</td>\n",
       "      <td>Tue</td>\n",
       "      <td>WCAT2</td>\n",
       "      <td>15.0</td>\n",
       "      <td>18.0</td>\n",
       "      <td>69.61</td>\n",
       "      <td>16.65</td>\n",
       "      <td>131</td>\n",
       "      <td>670</td>\n",
       "      <td>801</td>\n",
       "      <td>1</td>\n",
       "      <td>0</td>\n",
       "      <td>0</td>\n",
       "    </tr>\n",
       "    <tr>\n",
       "      <th>2</th>\n",
       "      <td>spring</td>\n",
       "      <td>0</td>\n",
       "      <td>jan</td>\n",
       "      <td>0</td>\n",
       "      <td>Wed</td>\n",
       "      <td>WCAT1</td>\n",
       "      <td>8.0</td>\n",
       "      <td>9.0</td>\n",
       "      <td>43.73</td>\n",
       "      <td>16.64</td>\n",
       "      <td>120</td>\n",
       "      <td>1229</td>\n",
       "      <td>1349</td>\n",
       "      <td>1</td>\n",
       "      <td>0</td>\n",
       "      <td>0</td>\n",
       "    </tr>\n",
       "    <tr>\n",
       "      <th>3</th>\n",
       "      <td>spring</td>\n",
       "      <td>0</td>\n",
       "      <td>jan</td>\n",
       "      <td>0</td>\n",
       "      <td>Thu</td>\n",
       "      <td>WCAT1</td>\n",
       "      <td>8.0</td>\n",
       "      <td>11.0</td>\n",
       "      <td>59.04</td>\n",
       "      <td>10.74</td>\n",
       "      <td>108</td>\n",
       "      <td>1454</td>\n",
       "      <td>1562</td>\n",
       "      <td>1</td>\n",
       "      <td>0</td>\n",
       "      <td>0</td>\n",
       "    </tr>\n",
       "    <tr>\n",
       "      <th>4</th>\n",
       "      <td>spring</td>\n",
       "      <td>0</td>\n",
       "      <td>jan</td>\n",
       "      <td>0</td>\n",
       "      <td>Fri</td>\n",
       "      <td>WCAT1</td>\n",
       "      <td>9.0</td>\n",
       "      <td>11.0</td>\n",
       "      <td>43.70</td>\n",
       "      <td>12.52</td>\n",
       "      <td>82</td>\n",
       "      <td>1518</td>\n",
       "      <td>1600</td>\n",
       "      <td>1</td>\n",
       "      <td>0</td>\n",
       "      <td>0</td>\n",
       "    </tr>\n",
       "  </tbody>\n",
       "</table>\n",
       "</div>"
      ],
      "text/plain": [
       "   season  yr mnth  holiday weekday weathersit  temp  atemp    hum  windspeed  \\\n",
       "0  spring   0  jan        0     Mon      WCAT2  14.0   18.0  80.58      10.75   \n",
       "1  spring   0  jan        0     Tue      WCAT2  15.0   18.0  69.61      16.65   \n",
       "2  spring   0  jan        0     Wed      WCAT1   8.0    9.0  43.73      16.64   \n",
       "3  spring   0  jan        0     Thu      WCAT1   8.0   11.0  59.04      10.74   \n",
       "4  spring   0  jan        0     Fri      WCAT1   9.0   11.0  43.70      12.52   \n",
       "\n",
       "   casual  registered   cnt  spring  summer  winter  \n",
       "0     331         654   985       1       0       0  \n",
       "1     131         670   801       1       0       0  \n",
       "2     120        1229  1349       1       0       0  \n",
       "3     108        1454  1562       1       0       0  \n",
       "4      82        1518  1600       1       0       0  "
      ]
     },
     "execution_count": 26,
     "metadata": {},
     "output_type": "execute_result"
    }
   ],
   "source": [
    "boom_bikes = pd.concat([boom_bikes, seasons], axis=1)\n",
    "boom_bikes.head()"
   ]
  },
  {
   "cell_type": "code",
   "execution_count": 27,
   "id": "2321bd15",
   "metadata": {},
   "outputs": [
    {
     "data": {
      "text/html": [
       "<div>\n",
       "<style scoped>\n",
       "    .dataframe tbody tr th:only-of-type {\n",
       "        vertical-align: middle;\n",
       "    }\n",
       "\n",
       "    .dataframe tbody tr th {\n",
       "        vertical-align: top;\n",
       "    }\n",
       "\n",
       "    .dataframe thead th {\n",
       "        text-align: right;\n",
       "    }\n",
       "</style>\n",
       "<table border=\"1\" class=\"dataframe\">\n",
       "  <thead>\n",
       "    <tr style=\"text-align: right;\">\n",
       "      <th></th>\n",
       "      <th>aug</th>\n",
       "      <th>dec</th>\n",
       "      <th>feb</th>\n",
       "      <th>jan</th>\n",
       "      <th>jul</th>\n",
       "      <th>jun</th>\n",
       "      <th>mar</th>\n",
       "      <th>may</th>\n",
       "      <th>nov</th>\n",
       "      <th>oct</th>\n",
       "      <th>sep</th>\n",
       "    </tr>\n",
       "  </thead>\n",
       "  <tbody>\n",
       "    <tr>\n",
       "      <th>0</th>\n",
       "      <td>0</td>\n",
       "      <td>0</td>\n",
       "      <td>0</td>\n",
       "      <td>1</td>\n",
       "      <td>0</td>\n",
       "      <td>0</td>\n",
       "      <td>0</td>\n",
       "      <td>0</td>\n",
       "      <td>0</td>\n",
       "      <td>0</td>\n",
       "      <td>0</td>\n",
       "    </tr>\n",
       "    <tr>\n",
       "      <th>1</th>\n",
       "      <td>0</td>\n",
       "      <td>0</td>\n",
       "      <td>0</td>\n",
       "      <td>1</td>\n",
       "      <td>0</td>\n",
       "      <td>0</td>\n",
       "      <td>0</td>\n",
       "      <td>0</td>\n",
       "      <td>0</td>\n",
       "      <td>0</td>\n",
       "      <td>0</td>\n",
       "    </tr>\n",
       "    <tr>\n",
       "      <th>2</th>\n",
       "      <td>0</td>\n",
       "      <td>0</td>\n",
       "      <td>0</td>\n",
       "      <td>1</td>\n",
       "      <td>0</td>\n",
       "      <td>0</td>\n",
       "      <td>0</td>\n",
       "      <td>0</td>\n",
       "      <td>0</td>\n",
       "      <td>0</td>\n",
       "      <td>0</td>\n",
       "    </tr>\n",
       "    <tr>\n",
       "      <th>3</th>\n",
       "      <td>0</td>\n",
       "      <td>0</td>\n",
       "      <td>0</td>\n",
       "      <td>1</td>\n",
       "      <td>0</td>\n",
       "      <td>0</td>\n",
       "      <td>0</td>\n",
       "      <td>0</td>\n",
       "      <td>0</td>\n",
       "      <td>0</td>\n",
       "      <td>0</td>\n",
       "    </tr>\n",
       "    <tr>\n",
       "      <th>4</th>\n",
       "      <td>0</td>\n",
       "      <td>0</td>\n",
       "      <td>0</td>\n",
       "      <td>1</td>\n",
       "      <td>0</td>\n",
       "      <td>0</td>\n",
       "      <td>0</td>\n",
       "      <td>0</td>\n",
       "      <td>0</td>\n",
       "      <td>0</td>\n",
       "      <td>0</td>\n",
       "    </tr>\n",
       "  </tbody>\n",
       "</table>\n",
       "</div>"
      ],
      "text/plain": [
       "   aug  dec  feb  jan  jul  jun  mar  may  nov  oct  sep\n",
       "0    0    0    0    1    0    0    0    0    0    0    0\n",
       "1    0    0    0    1    0    0    0    0    0    0    0\n",
       "2    0    0    0    1    0    0    0    0    0    0    0\n",
       "3    0    0    0    1    0    0    0    0    0    0    0\n",
       "4    0    0    0    1    0    0    0    0    0    0    0"
      ]
     },
     "execution_count": 27,
     "metadata": {},
     "output_type": "execute_result"
    }
   ],
   "source": [
    "months = pd.get_dummies(boom_bikes['mnth'], drop_first=True)\n",
    "\n",
    "months.head()"
   ]
  },
  {
   "cell_type": "markdown",
   "id": "c8f6c2a6",
   "metadata": {},
   "source": [
    "all 0s is apr"
   ]
  },
  {
   "cell_type": "code",
   "execution_count": 28,
   "id": "a3cbfbed",
   "metadata": {},
   "outputs": [
    {
     "data": {
      "text/html": [
       "<div>\n",
       "<style scoped>\n",
       "    .dataframe tbody tr th:only-of-type {\n",
       "        vertical-align: middle;\n",
       "    }\n",
       "\n",
       "    .dataframe tbody tr th {\n",
       "        vertical-align: top;\n",
       "    }\n",
       "\n",
       "    .dataframe thead th {\n",
       "        text-align: right;\n",
       "    }\n",
       "</style>\n",
       "<table border=\"1\" class=\"dataframe\">\n",
       "  <thead>\n",
       "    <tr style=\"text-align: right;\">\n",
       "      <th></th>\n",
       "      <th>season</th>\n",
       "      <th>yr</th>\n",
       "      <th>mnth</th>\n",
       "      <th>holiday</th>\n",
       "      <th>weekday</th>\n",
       "      <th>weathersit</th>\n",
       "      <th>temp</th>\n",
       "      <th>atemp</th>\n",
       "      <th>hum</th>\n",
       "      <th>windspeed</th>\n",
       "      <th>...</th>\n",
       "      <th>dec</th>\n",
       "      <th>feb</th>\n",
       "      <th>jan</th>\n",
       "      <th>jul</th>\n",
       "      <th>jun</th>\n",
       "      <th>mar</th>\n",
       "      <th>may</th>\n",
       "      <th>nov</th>\n",
       "      <th>oct</th>\n",
       "      <th>sep</th>\n",
       "    </tr>\n",
       "  </thead>\n",
       "  <tbody>\n",
       "    <tr>\n",
       "      <th>0</th>\n",
       "      <td>spring</td>\n",
       "      <td>0</td>\n",
       "      <td>jan</td>\n",
       "      <td>0</td>\n",
       "      <td>Mon</td>\n",
       "      <td>WCAT2</td>\n",
       "      <td>14.0</td>\n",
       "      <td>18.0</td>\n",
       "      <td>80.58</td>\n",
       "      <td>10.75</td>\n",
       "      <td>...</td>\n",
       "      <td>0</td>\n",
       "      <td>0</td>\n",
       "      <td>1</td>\n",
       "      <td>0</td>\n",
       "      <td>0</td>\n",
       "      <td>0</td>\n",
       "      <td>0</td>\n",
       "      <td>0</td>\n",
       "      <td>0</td>\n",
       "      <td>0</td>\n",
       "    </tr>\n",
       "    <tr>\n",
       "      <th>1</th>\n",
       "      <td>spring</td>\n",
       "      <td>0</td>\n",
       "      <td>jan</td>\n",
       "      <td>0</td>\n",
       "      <td>Tue</td>\n",
       "      <td>WCAT2</td>\n",
       "      <td>15.0</td>\n",
       "      <td>18.0</td>\n",
       "      <td>69.61</td>\n",
       "      <td>16.65</td>\n",
       "      <td>...</td>\n",
       "      <td>0</td>\n",
       "      <td>0</td>\n",
       "      <td>1</td>\n",
       "      <td>0</td>\n",
       "      <td>0</td>\n",
       "      <td>0</td>\n",
       "      <td>0</td>\n",
       "      <td>0</td>\n",
       "      <td>0</td>\n",
       "      <td>0</td>\n",
       "    </tr>\n",
       "    <tr>\n",
       "      <th>2</th>\n",
       "      <td>spring</td>\n",
       "      <td>0</td>\n",
       "      <td>jan</td>\n",
       "      <td>0</td>\n",
       "      <td>Wed</td>\n",
       "      <td>WCAT1</td>\n",
       "      <td>8.0</td>\n",
       "      <td>9.0</td>\n",
       "      <td>43.73</td>\n",
       "      <td>16.64</td>\n",
       "      <td>...</td>\n",
       "      <td>0</td>\n",
       "      <td>0</td>\n",
       "      <td>1</td>\n",
       "      <td>0</td>\n",
       "      <td>0</td>\n",
       "      <td>0</td>\n",
       "      <td>0</td>\n",
       "      <td>0</td>\n",
       "      <td>0</td>\n",
       "      <td>0</td>\n",
       "    </tr>\n",
       "    <tr>\n",
       "      <th>3</th>\n",
       "      <td>spring</td>\n",
       "      <td>0</td>\n",
       "      <td>jan</td>\n",
       "      <td>0</td>\n",
       "      <td>Thu</td>\n",
       "      <td>WCAT1</td>\n",
       "      <td>8.0</td>\n",
       "      <td>11.0</td>\n",
       "      <td>59.04</td>\n",
       "      <td>10.74</td>\n",
       "      <td>...</td>\n",
       "      <td>0</td>\n",
       "      <td>0</td>\n",
       "      <td>1</td>\n",
       "      <td>0</td>\n",
       "      <td>0</td>\n",
       "      <td>0</td>\n",
       "      <td>0</td>\n",
       "      <td>0</td>\n",
       "      <td>0</td>\n",
       "      <td>0</td>\n",
       "    </tr>\n",
       "    <tr>\n",
       "      <th>4</th>\n",
       "      <td>spring</td>\n",
       "      <td>0</td>\n",
       "      <td>jan</td>\n",
       "      <td>0</td>\n",
       "      <td>Fri</td>\n",
       "      <td>WCAT1</td>\n",
       "      <td>9.0</td>\n",
       "      <td>11.0</td>\n",
       "      <td>43.70</td>\n",
       "      <td>12.52</td>\n",
       "      <td>...</td>\n",
       "      <td>0</td>\n",
       "      <td>0</td>\n",
       "      <td>1</td>\n",
       "      <td>0</td>\n",
       "      <td>0</td>\n",
       "      <td>0</td>\n",
       "      <td>0</td>\n",
       "      <td>0</td>\n",
       "      <td>0</td>\n",
       "      <td>0</td>\n",
       "    </tr>\n",
       "  </tbody>\n",
       "</table>\n",
       "<p>5 rows × 27 columns</p>\n",
       "</div>"
      ],
      "text/plain": [
       "   season  yr mnth  holiday weekday weathersit  temp  atemp    hum  windspeed  \\\n",
       "0  spring   0  jan        0     Mon      WCAT2  14.0   18.0  80.58      10.75   \n",
       "1  spring   0  jan        0     Tue      WCAT2  15.0   18.0  69.61      16.65   \n",
       "2  spring   0  jan        0     Wed      WCAT1   8.0    9.0  43.73      16.64   \n",
       "3  spring   0  jan        0     Thu      WCAT1   8.0   11.0  59.04      10.74   \n",
       "4  spring   0  jan        0     Fri      WCAT1   9.0   11.0  43.70      12.52   \n",
       "\n",
       "   ...  dec  feb  jan  jul  jun  mar  may  nov  oct  sep  \n",
       "0  ...    0    0    1    0    0    0    0    0    0    0  \n",
       "1  ...    0    0    1    0    0    0    0    0    0    0  \n",
       "2  ...    0    0    1    0    0    0    0    0    0    0  \n",
       "3  ...    0    0    1    0    0    0    0    0    0    0  \n",
       "4  ...    0    0    1    0    0    0    0    0    0    0  \n",
       "\n",
       "[5 rows x 27 columns]"
      ]
     },
     "execution_count": 28,
     "metadata": {},
     "output_type": "execute_result"
    }
   ],
   "source": [
    "boom_bikes = pd.concat([boom_bikes, months], axis=1)\n",
    "boom_bikes.head()"
   ]
  },
  {
   "cell_type": "code",
   "execution_count": 29,
   "id": "c40c0f38",
   "metadata": {},
   "outputs": [
    {
     "data": {
      "text/html": [
       "<div>\n",
       "<style scoped>\n",
       "    .dataframe tbody tr th:only-of-type {\n",
       "        vertical-align: middle;\n",
       "    }\n",
       "\n",
       "    .dataframe tbody tr th {\n",
       "        vertical-align: top;\n",
       "    }\n",
       "\n",
       "    .dataframe thead th {\n",
       "        text-align: right;\n",
       "    }\n",
       "</style>\n",
       "<table border=\"1\" class=\"dataframe\">\n",
       "  <thead>\n",
       "    <tr style=\"text-align: right;\">\n",
       "      <th></th>\n",
       "      <th>Mon</th>\n",
       "      <th>Sat</th>\n",
       "      <th>Sun</th>\n",
       "      <th>Thu</th>\n",
       "      <th>Tue</th>\n",
       "      <th>Wed</th>\n",
       "    </tr>\n",
       "  </thead>\n",
       "  <tbody>\n",
       "    <tr>\n",
       "      <th>0</th>\n",
       "      <td>1</td>\n",
       "      <td>0</td>\n",
       "      <td>0</td>\n",
       "      <td>0</td>\n",
       "      <td>0</td>\n",
       "      <td>0</td>\n",
       "    </tr>\n",
       "    <tr>\n",
       "      <th>1</th>\n",
       "      <td>0</td>\n",
       "      <td>0</td>\n",
       "      <td>0</td>\n",
       "      <td>0</td>\n",
       "      <td>1</td>\n",
       "      <td>0</td>\n",
       "    </tr>\n",
       "    <tr>\n",
       "      <th>2</th>\n",
       "      <td>0</td>\n",
       "      <td>0</td>\n",
       "      <td>0</td>\n",
       "      <td>0</td>\n",
       "      <td>0</td>\n",
       "      <td>1</td>\n",
       "    </tr>\n",
       "    <tr>\n",
       "      <th>3</th>\n",
       "      <td>0</td>\n",
       "      <td>0</td>\n",
       "      <td>0</td>\n",
       "      <td>1</td>\n",
       "      <td>0</td>\n",
       "      <td>0</td>\n",
       "    </tr>\n",
       "    <tr>\n",
       "      <th>4</th>\n",
       "      <td>0</td>\n",
       "      <td>0</td>\n",
       "      <td>0</td>\n",
       "      <td>0</td>\n",
       "      <td>0</td>\n",
       "      <td>0</td>\n",
       "    </tr>\n",
       "  </tbody>\n",
       "</table>\n",
       "</div>"
      ],
      "text/plain": [
       "   Mon  Sat  Sun  Thu  Tue  Wed\n",
       "0    1    0    0    0    0    0\n",
       "1    0    0    0    0    1    0\n",
       "2    0    0    0    0    0    1\n",
       "3    0    0    0    1    0    0\n",
       "4    0    0    0    0    0    0"
      ]
     },
     "execution_count": 29,
     "metadata": {},
     "output_type": "execute_result"
    }
   ],
   "source": [
    "weekday = pd.get_dummies(boom_bikes['weekday'], drop_first=True)\n",
    "\n",
    "weekday.head()"
   ]
  },
  {
   "cell_type": "code",
   "execution_count": 30,
   "id": "05c986e9",
   "metadata": {},
   "outputs": [
    {
     "data": {
      "text/html": [
       "<div>\n",
       "<style scoped>\n",
       "    .dataframe tbody tr th:only-of-type {\n",
       "        vertical-align: middle;\n",
       "    }\n",
       "\n",
       "    .dataframe tbody tr th {\n",
       "        vertical-align: top;\n",
       "    }\n",
       "\n",
       "    .dataframe thead th {\n",
       "        text-align: right;\n",
       "    }\n",
       "</style>\n",
       "<table border=\"1\" class=\"dataframe\">\n",
       "  <thead>\n",
       "    <tr style=\"text-align: right;\">\n",
       "      <th></th>\n",
       "      <th>season</th>\n",
       "      <th>yr</th>\n",
       "      <th>mnth</th>\n",
       "      <th>holiday</th>\n",
       "      <th>weekday</th>\n",
       "      <th>weathersit</th>\n",
       "      <th>temp</th>\n",
       "      <th>atemp</th>\n",
       "      <th>hum</th>\n",
       "      <th>windspeed</th>\n",
       "      <th>...</th>\n",
       "      <th>may</th>\n",
       "      <th>nov</th>\n",
       "      <th>oct</th>\n",
       "      <th>sep</th>\n",
       "      <th>Mon</th>\n",
       "      <th>Sat</th>\n",
       "      <th>Sun</th>\n",
       "      <th>Thu</th>\n",
       "      <th>Tue</th>\n",
       "      <th>Wed</th>\n",
       "    </tr>\n",
       "  </thead>\n",
       "  <tbody>\n",
       "    <tr>\n",
       "      <th>0</th>\n",
       "      <td>spring</td>\n",
       "      <td>0</td>\n",
       "      <td>jan</td>\n",
       "      <td>0</td>\n",
       "      <td>Mon</td>\n",
       "      <td>WCAT2</td>\n",
       "      <td>14.0</td>\n",
       "      <td>18.0</td>\n",
       "      <td>80.58</td>\n",
       "      <td>10.75</td>\n",
       "      <td>...</td>\n",
       "      <td>0</td>\n",
       "      <td>0</td>\n",
       "      <td>0</td>\n",
       "      <td>0</td>\n",
       "      <td>1</td>\n",
       "      <td>0</td>\n",
       "      <td>0</td>\n",
       "      <td>0</td>\n",
       "      <td>0</td>\n",
       "      <td>0</td>\n",
       "    </tr>\n",
       "    <tr>\n",
       "      <th>1</th>\n",
       "      <td>spring</td>\n",
       "      <td>0</td>\n",
       "      <td>jan</td>\n",
       "      <td>0</td>\n",
       "      <td>Tue</td>\n",
       "      <td>WCAT2</td>\n",
       "      <td>15.0</td>\n",
       "      <td>18.0</td>\n",
       "      <td>69.61</td>\n",
       "      <td>16.65</td>\n",
       "      <td>...</td>\n",
       "      <td>0</td>\n",
       "      <td>0</td>\n",
       "      <td>0</td>\n",
       "      <td>0</td>\n",
       "      <td>0</td>\n",
       "      <td>0</td>\n",
       "      <td>0</td>\n",
       "      <td>0</td>\n",
       "      <td>1</td>\n",
       "      <td>0</td>\n",
       "    </tr>\n",
       "    <tr>\n",
       "      <th>2</th>\n",
       "      <td>spring</td>\n",
       "      <td>0</td>\n",
       "      <td>jan</td>\n",
       "      <td>0</td>\n",
       "      <td>Wed</td>\n",
       "      <td>WCAT1</td>\n",
       "      <td>8.0</td>\n",
       "      <td>9.0</td>\n",
       "      <td>43.73</td>\n",
       "      <td>16.64</td>\n",
       "      <td>...</td>\n",
       "      <td>0</td>\n",
       "      <td>0</td>\n",
       "      <td>0</td>\n",
       "      <td>0</td>\n",
       "      <td>0</td>\n",
       "      <td>0</td>\n",
       "      <td>0</td>\n",
       "      <td>0</td>\n",
       "      <td>0</td>\n",
       "      <td>1</td>\n",
       "    </tr>\n",
       "    <tr>\n",
       "      <th>3</th>\n",
       "      <td>spring</td>\n",
       "      <td>0</td>\n",
       "      <td>jan</td>\n",
       "      <td>0</td>\n",
       "      <td>Thu</td>\n",
       "      <td>WCAT1</td>\n",
       "      <td>8.0</td>\n",
       "      <td>11.0</td>\n",
       "      <td>59.04</td>\n",
       "      <td>10.74</td>\n",
       "      <td>...</td>\n",
       "      <td>0</td>\n",
       "      <td>0</td>\n",
       "      <td>0</td>\n",
       "      <td>0</td>\n",
       "      <td>0</td>\n",
       "      <td>0</td>\n",
       "      <td>0</td>\n",
       "      <td>1</td>\n",
       "      <td>0</td>\n",
       "      <td>0</td>\n",
       "    </tr>\n",
       "    <tr>\n",
       "      <th>4</th>\n",
       "      <td>spring</td>\n",
       "      <td>0</td>\n",
       "      <td>jan</td>\n",
       "      <td>0</td>\n",
       "      <td>Fri</td>\n",
       "      <td>WCAT1</td>\n",
       "      <td>9.0</td>\n",
       "      <td>11.0</td>\n",
       "      <td>43.70</td>\n",
       "      <td>12.52</td>\n",
       "      <td>...</td>\n",
       "      <td>0</td>\n",
       "      <td>0</td>\n",
       "      <td>0</td>\n",
       "      <td>0</td>\n",
       "      <td>0</td>\n",
       "      <td>0</td>\n",
       "      <td>0</td>\n",
       "      <td>0</td>\n",
       "      <td>0</td>\n",
       "      <td>0</td>\n",
       "    </tr>\n",
       "  </tbody>\n",
       "</table>\n",
       "<p>5 rows × 33 columns</p>\n",
       "</div>"
      ],
      "text/plain": [
       "   season  yr mnth  holiday weekday weathersit  temp  atemp    hum  windspeed  \\\n",
       "0  spring   0  jan        0     Mon      WCAT2  14.0   18.0  80.58      10.75   \n",
       "1  spring   0  jan        0     Tue      WCAT2  15.0   18.0  69.61      16.65   \n",
       "2  spring   0  jan        0     Wed      WCAT1   8.0    9.0  43.73      16.64   \n",
       "3  spring   0  jan        0     Thu      WCAT1   8.0   11.0  59.04      10.74   \n",
       "4  spring   0  jan        0     Fri      WCAT1   9.0   11.0  43.70      12.52   \n",
       "\n",
       "   ...  may  nov  oct  sep  Mon  Sat  Sun  Thu  Tue  Wed  \n",
       "0  ...    0    0    0    0    1    0    0    0    0    0  \n",
       "1  ...    0    0    0    0    0    0    0    0    1    0  \n",
       "2  ...    0    0    0    0    0    0    0    0    0    1  \n",
       "3  ...    0    0    0    0    0    0    0    1    0    0  \n",
       "4  ...    0    0    0    0    0    0    0    0    0    0  \n",
       "\n",
       "[5 rows x 33 columns]"
      ]
     },
     "execution_count": 30,
     "metadata": {},
     "output_type": "execute_result"
    }
   ],
   "source": [
    "boom_bikes = pd.concat([boom_bikes, weekday], axis=1)\n",
    "boom_bikes.head()"
   ]
  },
  {
   "cell_type": "code",
   "execution_count": 31,
   "id": "65f7145e",
   "metadata": {},
   "outputs": [
    {
     "data": {
      "text/html": [
       "<div>\n",
       "<style scoped>\n",
       "    .dataframe tbody tr th:only-of-type {\n",
       "        vertical-align: middle;\n",
       "    }\n",
       "\n",
       "    .dataframe tbody tr th {\n",
       "        vertical-align: top;\n",
       "    }\n",
       "\n",
       "    .dataframe thead th {\n",
       "        text-align: right;\n",
       "    }\n",
       "</style>\n",
       "<table border=\"1\" class=\"dataframe\">\n",
       "  <thead>\n",
       "    <tr style=\"text-align: right;\">\n",
       "      <th></th>\n",
       "      <th>WCAT2</th>\n",
       "      <th>WCAT3</th>\n",
       "    </tr>\n",
       "  </thead>\n",
       "  <tbody>\n",
       "    <tr>\n",
       "      <th>0</th>\n",
       "      <td>1</td>\n",
       "      <td>0</td>\n",
       "    </tr>\n",
       "    <tr>\n",
       "      <th>1</th>\n",
       "      <td>1</td>\n",
       "      <td>0</td>\n",
       "    </tr>\n",
       "    <tr>\n",
       "      <th>2</th>\n",
       "      <td>0</td>\n",
       "      <td>0</td>\n",
       "    </tr>\n",
       "    <tr>\n",
       "      <th>3</th>\n",
       "      <td>0</td>\n",
       "      <td>0</td>\n",
       "    </tr>\n",
       "    <tr>\n",
       "      <th>4</th>\n",
       "      <td>0</td>\n",
       "      <td>0</td>\n",
       "    </tr>\n",
       "  </tbody>\n",
       "</table>\n",
       "</div>"
      ],
      "text/plain": [
       "   WCAT2  WCAT3\n",
       "0      1      0\n",
       "1      1      0\n",
       "2      0      0\n",
       "3      0      0\n",
       "4      0      0"
      ]
     },
     "execution_count": 31,
     "metadata": {},
     "output_type": "execute_result"
    }
   ],
   "source": [
    "weathersit = pd.get_dummies(boom_bikes['weathersit'], drop_first=True)\n",
    "\n",
    "weathersit.head()"
   ]
  },
  {
   "cell_type": "markdown",
   "id": "09fa9395",
   "metadata": {},
   "source": [
    "since we did not have any value with WCAT4, 00 means WCAT1"
   ]
  },
  {
   "cell_type": "code",
   "execution_count": 32,
   "id": "f1c62a06",
   "metadata": {},
   "outputs": [
    {
     "data": {
      "text/html": [
       "<div>\n",
       "<style scoped>\n",
       "    .dataframe tbody tr th:only-of-type {\n",
       "        vertical-align: middle;\n",
       "    }\n",
       "\n",
       "    .dataframe tbody tr th {\n",
       "        vertical-align: top;\n",
       "    }\n",
       "\n",
       "    .dataframe thead th {\n",
       "        text-align: right;\n",
       "    }\n",
       "</style>\n",
       "<table border=\"1\" class=\"dataframe\">\n",
       "  <thead>\n",
       "    <tr style=\"text-align: right;\">\n",
       "      <th></th>\n",
       "      <th>season</th>\n",
       "      <th>yr</th>\n",
       "      <th>mnth</th>\n",
       "      <th>holiday</th>\n",
       "      <th>weekday</th>\n",
       "      <th>weathersit</th>\n",
       "      <th>temp</th>\n",
       "      <th>atemp</th>\n",
       "      <th>hum</th>\n",
       "      <th>windspeed</th>\n",
       "      <th>...</th>\n",
       "      <th>oct</th>\n",
       "      <th>sep</th>\n",
       "      <th>Mon</th>\n",
       "      <th>Sat</th>\n",
       "      <th>Sun</th>\n",
       "      <th>Thu</th>\n",
       "      <th>Tue</th>\n",
       "      <th>Wed</th>\n",
       "      <th>WCAT2</th>\n",
       "      <th>WCAT3</th>\n",
       "    </tr>\n",
       "  </thead>\n",
       "  <tbody>\n",
       "    <tr>\n",
       "      <th>0</th>\n",
       "      <td>spring</td>\n",
       "      <td>0</td>\n",
       "      <td>jan</td>\n",
       "      <td>0</td>\n",
       "      <td>Mon</td>\n",
       "      <td>WCAT2</td>\n",
       "      <td>14.0</td>\n",
       "      <td>18.0</td>\n",
       "      <td>80.58</td>\n",
       "      <td>10.75</td>\n",
       "      <td>...</td>\n",
       "      <td>0</td>\n",
       "      <td>0</td>\n",
       "      <td>1</td>\n",
       "      <td>0</td>\n",
       "      <td>0</td>\n",
       "      <td>0</td>\n",
       "      <td>0</td>\n",
       "      <td>0</td>\n",
       "      <td>1</td>\n",
       "      <td>0</td>\n",
       "    </tr>\n",
       "    <tr>\n",
       "      <th>1</th>\n",
       "      <td>spring</td>\n",
       "      <td>0</td>\n",
       "      <td>jan</td>\n",
       "      <td>0</td>\n",
       "      <td>Tue</td>\n",
       "      <td>WCAT2</td>\n",
       "      <td>15.0</td>\n",
       "      <td>18.0</td>\n",
       "      <td>69.61</td>\n",
       "      <td>16.65</td>\n",
       "      <td>...</td>\n",
       "      <td>0</td>\n",
       "      <td>0</td>\n",
       "      <td>0</td>\n",
       "      <td>0</td>\n",
       "      <td>0</td>\n",
       "      <td>0</td>\n",
       "      <td>1</td>\n",
       "      <td>0</td>\n",
       "      <td>1</td>\n",
       "      <td>0</td>\n",
       "    </tr>\n",
       "    <tr>\n",
       "      <th>2</th>\n",
       "      <td>spring</td>\n",
       "      <td>0</td>\n",
       "      <td>jan</td>\n",
       "      <td>0</td>\n",
       "      <td>Wed</td>\n",
       "      <td>WCAT1</td>\n",
       "      <td>8.0</td>\n",
       "      <td>9.0</td>\n",
       "      <td>43.73</td>\n",
       "      <td>16.64</td>\n",
       "      <td>...</td>\n",
       "      <td>0</td>\n",
       "      <td>0</td>\n",
       "      <td>0</td>\n",
       "      <td>0</td>\n",
       "      <td>0</td>\n",
       "      <td>0</td>\n",
       "      <td>0</td>\n",
       "      <td>1</td>\n",
       "      <td>0</td>\n",
       "      <td>0</td>\n",
       "    </tr>\n",
       "    <tr>\n",
       "      <th>3</th>\n",
       "      <td>spring</td>\n",
       "      <td>0</td>\n",
       "      <td>jan</td>\n",
       "      <td>0</td>\n",
       "      <td>Thu</td>\n",
       "      <td>WCAT1</td>\n",
       "      <td>8.0</td>\n",
       "      <td>11.0</td>\n",
       "      <td>59.04</td>\n",
       "      <td>10.74</td>\n",
       "      <td>...</td>\n",
       "      <td>0</td>\n",
       "      <td>0</td>\n",
       "      <td>0</td>\n",
       "      <td>0</td>\n",
       "      <td>0</td>\n",
       "      <td>1</td>\n",
       "      <td>0</td>\n",
       "      <td>0</td>\n",
       "      <td>0</td>\n",
       "      <td>0</td>\n",
       "    </tr>\n",
       "    <tr>\n",
       "      <th>4</th>\n",
       "      <td>spring</td>\n",
       "      <td>0</td>\n",
       "      <td>jan</td>\n",
       "      <td>0</td>\n",
       "      <td>Fri</td>\n",
       "      <td>WCAT1</td>\n",
       "      <td>9.0</td>\n",
       "      <td>11.0</td>\n",
       "      <td>43.70</td>\n",
       "      <td>12.52</td>\n",
       "      <td>...</td>\n",
       "      <td>0</td>\n",
       "      <td>0</td>\n",
       "      <td>0</td>\n",
       "      <td>0</td>\n",
       "      <td>0</td>\n",
       "      <td>0</td>\n",
       "      <td>0</td>\n",
       "      <td>0</td>\n",
       "      <td>0</td>\n",
       "      <td>0</td>\n",
       "    </tr>\n",
       "  </tbody>\n",
       "</table>\n",
       "<p>5 rows × 35 columns</p>\n",
       "</div>"
      ],
      "text/plain": [
       "   season  yr mnth  holiday weekday weathersit  temp  atemp    hum  windspeed  \\\n",
       "0  spring   0  jan        0     Mon      WCAT2  14.0   18.0  80.58      10.75   \n",
       "1  spring   0  jan        0     Tue      WCAT2  15.0   18.0  69.61      16.65   \n",
       "2  spring   0  jan        0     Wed      WCAT1   8.0    9.0  43.73      16.64   \n",
       "3  spring   0  jan        0     Thu      WCAT1   8.0   11.0  59.04      10.74   \n",
       "4  spring   0  jan        0     Fri      WCAT1   9.0   11.0  43.70      12.52   \n",
       "\n",
       "   ...  oct  sep  Mon  Sat  Sun  Thu  Tue  Wed  WCAT2  WCAT3  \n",
       "0  ...    0    0    1    0    0    0    0    0      1      0  \n",
       "1  ...    0    0    0    0    0    0    1    0      1      0  \n",
       "2  ...    0    0    0    0    0    0    0    1      0      0  \n",
       "3  ...    0    0    0    0    0    1    0    0      0      0  \n",
       "4  ...    0    0    0    0    0    0    0    0      0      0  \n",
       "\n",
       "[5 rows x 35 columns]"
      ]
     },
     "execution_count": 32,
     "metadata": {},
     "output_type": "execute_result"
    }
   ],
   "source": [
    "boom_bikes = pd.concat([boom_bikes, weathersit], axis=1)\n",
    "boom_bikes.head()"
   ]
  },
  {
   "cell_type": "code",
   "execution_count": 33,
   "id": "c015d2ab",
   "metadata": {},
   "outputs": [
    {
     "data": {
      "text/html": [
       "<div>\n",
       "<style scoped>\n",
       "    .dataframe tbody tr th:only-of-type {\n",
       "        vertical-align: middle;\n",
       "    }\n",
       "\n",
       "    .dataframe tbody tr th {\n",
       "        vertical-align: top;\n",
       "    }\n",
       "\n",
       "    .dataframe thead th {\n",
       "        text-align: right;\n",
       "    }\n",
       "</style>\n",
       "<table border=\"1\" class=\"dataframe\">\n",
       "  <thead>\n",
       "    <tr style=\"text-align: right;\">\n",
       "      <th></th>\n",
       "      <th>yr</th>\n",
       "      <th>holiday</th>\n",
       "      <th>temp</th>\n",
       "      <th>atemp</th>\n",
       "      <th>hum</th>\n",
       "      <th>windspeed</th>\n",
       "      <th>casual</th>\n",
       "      <th>registered</th>\n",
       "      <th>cnt</th>\n",
       "      <th>spring</th>\n",
       "      <th>...</th>\n",
       "      <th>oct</th>\n",
       "      <th>sep</th>\n",
       "      <th>Mon</th>\n",
       "      <th>Sat</th>\n",
       "      <th>Sun</th>\n",
       "      <th>Thu</th>\n",
       "      <th>Tue</th>\n",
       "      <th>Wed</th>\n",
       "      <th>WCAT2</th>\n",
       "      <th>WCAT3</th>\n",
       "    </tr>\n",
       "  </thead>\n",
       "  <tbody>\n",
       "    <tr>\n",
       "      <th>0</th>\n",
       "      <td>0</td>\n",
       "      <td>0</td>\n",
       "      <td>14.0</td>\n",
       "      <td>18.0</td>\n",
       "      <td>80.58</td>\n",
       "      <td>10.75</td>\n",
       "      <td>331</td>\n",
       "      <td>654</td>\n",
       "      <td>985</td>\n",
       "      <td>1</td>\n",
       "      <td>...</td>\n",
       "      <td>0</td>\n",
       "      <td>0</td>\n",
       "      <td>1</td>\n",
       "      <td>0</td>\n",
       "      <td>0</td>\n",
       "      <td>0</td>\n",
       "      <td>0</td>\n",
       "      <td>0</td>\n",
       "      <td>1</td>\n",
       "      <td>0</td>\n",
       "    </tr>\n",
       "    <tr>\n",
       "      <th>1</th>\n",
       "      <td>0</td>\n",
       "      <td>0</td>\n",
       "      <td>15.0</td>\n",
       "      <td>18.0</td>\n",
       "      <td>69.61</td>\n",
       "      <td>16.65</td>\n",
       "      <td>131</td>\n",
       "      <td>670</td>\n",
       "      <td>801</td>\n",
       "      <td>1</td>\n",
       "      <td>...</td>\n",
       "      <td>0</td>\n",
       "      <td>0</td>\n",
       "      <td>0</td>\n",
       "      <td>0</td>\n",
       "      <td>0</td>\n",
       "      <td>0</td>\n",
       "      <td>1</td>\n",
       "      <td>0</td>\n",
       "      <td>1</td>\n",
       "      <td>0</td>\n",
       "    </tr>\n",
       "    <tr>\n",
       "      <th>2</th>\n",
       "      <td>0</td>\n",
       "      <td>0</td>\n",
       "      <td>8.0</td>\n",
       "      <td>9.0</td>\n",
       "      <td>43.73</td>\n",
       "      <td>16.64</td>\n",
       "      <td>120</td>\n",
       "      <td>1229</td>\n",
       "      <td>1349</td>\n",
       "      <td>1</td>\n",
       "      <td>...</td>\n",
       "      <td>0</td>\n",
       "      <td>0</td>\n",
       "      <td>0</td>\n",
       "      <td>0</td>\n",
       "      <td>0</td>\n",
       "      <td>0</td>\n",
       "      <td>0</td>\n",
       "      <td>1</td>\n",
       "      <td>0</td>\n",
       "      <td>0</td>\n",
       "    </tr>\n",
       "    <tr>\n",
       "      <th>3</th>\n",
       "      <td>0</td>\n",
       "      <td>0</td>\n",
       "      <td>8.0</td>\n",
       "      <td>11.0</td>\n",
       "      <td>59.04</td>\n",
       "      <td>10.74</td>\n",
       "      <td>108</td>\n",
       "      <td>1454</td>\n",
       "      <td>1562</td>\n",
       "      <td>1</td>\n",
       "      <td>...</td>\n",
       "      <td>0</td>\n",
       "      <td>0</td>\n",
       "      <td>0</td>\n",
       "      <td>0</td>\n",
       "      <td>0</td>\n",
       "      <td>1</td>\n",
       "      <td>0</td>\n",
       "      <td>0</td>\n",
       "      <td>0</td>\n",
       "      <td>0</td>\n",
       "    </tr>\n",
       "    <tr>\n",
       "      <th>4</th>\n",
       "      <td>0</td>\n",
       "      <td>0</td>\n",
       "      <td>9.0</td>\n",
       "      <td>11.0</td>\n",
       "      <td>43.70</td>\n",
       "      <td>12.52</td>\n",
       "      <td>82</td>\n",
       "      <td>1518</td>\n",
       "      <td>1600</td>\n",
       "      <td>1</td>\n",
       "      <td>...</td>\n",
       "      <td>0</td>\n",
       "      <td>0</td>\n",
       "      <td>0</td>\n",
       "      <td>0</td>\n",
       "      <td>0</td>\n",
       "      <td>0</td>\n",
       "      <td>0</td>\n",
       "      <td>0</td>\n",
       "      <td>0</td>\n",
       "      <td>0</td>\n",
       "    </tr>\n",
       "  </tbody>\n",
       "</table>\n",
       "<p>5 rows × 31 columns</p>\n",
       "</div>"
      ],
      "text/plain": [
       "   yr  holiday  temp  atemp    hum  windspeed  casual  registered   cnt  \\\n",
       "0   0        0  14.0   18.0  80.58      10.75     331         654   985   \n",
       "1   0        0  15.0   18.0  69.61      16.65     131         670   801   \n",
       "2   0        0   8.0    9.0  43.73      16.64     120        1229  1349   \n",
       "3   0        0   8.0   11.0  59.04      10.74     108        1454  1562   \n",
       "4   0        0   9.0   11.0  43.70      12.52      82        1518  1600   \n",
       "\n",
       "   spring  ...  oct  sep  Mon  Sat  Sun  Thu  Tue  Wed  WCAT2  WCAT3  \n",
       "0       1  ...    0    0    1    0    0    0    0    0      1      0  \n",
       "1       1  ...    0    0    0    0    0    0    1    0      1      0  \n",
       "2       1  ...    0    0    0    0    0    0    0    1      0      0  \n",
       "3       1  ...    0    0    0    0    0    1    0    0      0      0  \n",
       "4       1  ...    0    0    0    0    0    0    0    0      0      0  \n",
       "\n",
       "[5 rows x 31 columns]"
      ]
     },
     "execution_count": 33,
     "metadata": {},
     "output_type": "execute_result"
    }
   ],
   "source": [
    "#dropping all originals columns corresponding to dummies.\n",
    "boom_bikes.drop(['season','mnth','weekday','weathersit'],axis=1,inplace=True)\n",
    "boom_bikes.head()"
   ]
  },
  {
   "cell_type": "markdown",
   "id": "80d2919d",
   "metadata": {},
   "source": [
    "## Let's split our data into train and test blocks with ratio of 70:30 respectively"
   ]
  },
  {
   "cell_type": "code",
   "execution_count": 34,
   "id": "cf05f5bd",
   "metadata": {},
   "outputs": [],
   "source": [
    "import statsmodels\n",
    "import statsmodels.api as sm\n",
    "from sklearn.model_selection import train_test_split"
   ]
  },
  {
   "cell_type": "code",
   "execution_count": 35,
   "id": "0814f958",
   "metadata": {},
   "outputs": [],
   "source": [
    "np.random.seed(0)\n",
    "df_train, df_test = train_test_split(boom_bikes, train_size=0.7, test_size=0.3, random_state=100)"
   ]
  },
  {
   "cell_type": "code",
   "execution_count": 36,
   "id": "f8de611f",
   "metadata": {},
   "outputs": [
    {
     "data": {
      "text/plain": [
       "(510, 31)"
      ]
     },
     "execution_count": 36,
     "metadata": {},
     "output_type": "execute_result"
    }
   ],
   "source": [
    "df_train.shape"
   ]
  },
  {
   "cell_type": "code",
   "execution_count": 37,
   "id": "acee1ad7",
   "metadata": {},
   "outputs": [
    {
     "data": {
      "text/plain": [
       "(219, 31)"
      ]
     },
     "execution_count": 37,
     "metadata": {},
     "output_type": "execute_result"
    }
   ],
   "source": [
    "df_test.shape"
   ]
  },
  {
   "cell_type": "markdown",
   "id": "f655fcc3",
   "metadata": {},
   "source": [
    "#### Scaling of categorical variables"
   ]
  },
  {
   "cell_type": "code",
   "execution_count": 38,
   "id": "857d3f56",
   "metadata": {},
   "outputs": [],
   "source": [
    "from sklearn.preprocessing import MinMaxScaler"
   ]
  },
  {
   "cell_type": "code",
   "execution_count": 39,
   "id": "39d0db95",
   "metadata": {},
   "outputs": [],
   "source": [
    "scaler = MinMaxScaler()"
   ]
  },
  {
   "cell_type": "code",
   "execution_count": 40,
   "id": "97f04507",
   "metadata": {},
   "outputs": [
    {
     "data": {
      "text/plain": [
       "Index(['yr', 'holiday', 'temp', 'atemp', 'hum', 'windspeed', 'casual',\n",
       "       'registered', 'cnt', 'spring', 'summer', 'winter', 'aug', 'dec', 'feb',\n",
       "       'jan', 'jul', 'jun', 'mar', 'may', 'nov', 'oct', 'sep', 'Mon', 'Sat',\n",
       "       'Sun', 'Thu', 'Tue', 'Wed', 'WCAT2', 'WCAT3'],\n",
       "      dtype='object')"
      ]
     },
     "execution_count": 40,
     "metadata": {},
     "output_type": "execute_result"
    }
   ],
   "source": [
    "df_train.columns"
   ]
  },
  {
   "cell_type": "code",
   "execution_count": 41,
   "id": "2e23c683",
   "metadata": {},
   "outputs": [],
   "source": [
    "num_vars= ['temp', 'atemp', 'hum', 'windspeed', 'casual',\n",
    "       'registered', 'cnt']"
   ]
  },
  {
   "cell_type": "code",
   "execution_count": 42,
   "id": "35004643",
   "metadata": {},
   "outputs": [],
   "source": [
    "df_train[num_vars] = scaler.fit_transform(df_train[num_vars])"
   ]
  },
  {
   "cell_type": "code",
   "execution_count": 43,
   "id": "329227cb",
   "metadata": {},
   "outputs": [
    {
     "data": {
      "text/html": [
       "<div>\n",
       "<style scoped>\n",
       "    .dataframe tbody tr th:only-of-type {\n",
       "        vertical-align: middle;\n",
       "    }\n",
       "\n",
       "    .dataframe tbody tr th {\n",
       "        vertical-align: top;\n",
       "    }\n",
       "\n",
       "    .dataframe thead th {\n",
       "        text-align: right;\n",
       "    }\n",
       "</style>\n",
       "<table border=\"1\" class=\"dataframe\">\n",
       "  <thead>\n",
       "    <tr style=\"text-align: right;\">\n",
       "      <th></th>\n",
       "      <th>yr</th>\n",
       "      <th>holiday</th>\n",
       "      <th>temp</th>\n",
       "      <th>atemp</th>\n",
       "      <th>hum</th>\n",
       "      <th>windspeed</th>\n",
       "      <th>casual</th>\n",
       "      <th>registered</th>\n",
       "      <th>cnt</th>\n",
       "      <th>spring</th>\n",
       "      <th>...</th>\n",
       "      <th>oct</th>\n",
       "      <th>sep</th>\n",
       "      <th>Mon</th>\n",
       "      <th>Sat</th>\n",
       "      <th>Sun</th>\n",
       "      <th>Thu</th>\n",
       "      <th>Tue</th>\n",
       "      <th>Wed</th>\n",
       "      <th>WCAT2</th>\n",
       "      <th>WCAT3</th>\n",
       "    </tr>\n",
       "  </thead>\n",
       "  <tbody>\n",
       "    <tr>\n",
       "      <th>count</th>\n",
       "      <td>510.000000</td>\n",
       "      <td>510.000000</td>\n",
       "      <td>510.000000</td>\n",
       "      <td>510.000000</td>\n",
       "      <td>510.000000</td>\n",
       "      <td>510.000000</td>\n",
       "      <td>510.000000</td>\n",
       "      <td>510.000000</td>\n",
       "      <td>510.000000</td>\n",
       "      <td>510.000000</td>\n",
       "      <td>...</td>\n",
       "      <td>510.000000</td>\n",
       "      <td>510.000000</td>\n",
       "      <td>510.000000</td>\n",
       "      <td>510.000000</td>\n",
       "      <td>510.000000</td>\n",
       "      <td>510.000000</td>\n",
       "      <td>510.000000</td>\n",
       "      <td>510.000000</td>\n",
       "      <td>510.000000</td>\n",
       "      <td>510.000000</td>\n",
       "    </tr>\n",
       "    <tr>\n",
       "      <th>mean</th>\n",
       "      <td>0.507843</td>\n",
       "      <td>0.025490</td>\n",
       "      <td>0.548723</td>\n",
       "      <td>0.513725</td>\n",
       "      <td>0.650378</td>\n",
       "      <td>0.320866</td>\n",
       "      <td>0.254661</td>\n",
       "      <td>0.523944</td>\n",
       "      <td>0.513620</td>\n",
       "      <td>0.243137</td>\n",
       "      <td>...</td>\n",
       "      <td>0.086275</td>\n",
       "      <td>0.080392</td>\n",
       "      <td>0.154902</td>\n",
       "      <td>0.129412</td>\n",
       "      <td>0.137255</td>\n",
       "      <td>0.143137</td>\n",
       "      <td>0.152941</td>\n",
       "      <td>0.135294</td>\n",
       "      <td>0.343137</td>\n",
       "      <td>0.029412</td>\n",
       "    </tr>\n",
       "    <tr>\n",
       "      <th>std</th>\n",
       "      <td>0.500429</td>\n",
       "      <td>0.157763</td>\n",
       "      <td>0.226302</td>\n",
       "      <td>0.213081</td>\n",
       "      <td>0.145885</td>\n",
       "      <td>0.169770</td>\n",
       "      <td>0.206011</td>\n",
       "      <td>0.228175</td>\n",
       "      <td>0.224593</td>\n",
       "      <td>0.429398</td>\n",
       "      <td>...</td>\n",
       "      <td>0.281045</td>\n",
       "      <td>0.272166</td>\n",
       "      <td>0.362166</td>\n",
       "      <td>0.335985</td>\n",
       "      <td>0.344454</td>\n",
       "      <td>0.350557</td>\n",
       "      <td>0.360284</td>\n",
       "      <td>0.342373</td>\n",
       "      <td>0.475223</td>\n",
       "      <td>0.169124</td>\n",
       "    </tr>\n",
       "    <tr>\n",
       "      <th>min</th>\n",
       "      <td>0.000000</td>\n",
       "      <td>0.000000</td>\n",
       "      <td>0.000000</td>\n",
       "      <td>0.000000</td>\n",
       "      <td>0.000000</td>\n",
       "      <td>0.000000</td>\n",
       "      <td>0.000000</td>\n",
       "      <td>0.000000</td>\n",
       "      <td>0.000000</td>\n",
       "      <td>0.000000</td>\n",
       "      <td>...</td>\n",
       "      <td>0.000000</td>\n",
       "      <td>0.000000</td>\n",
       "      <td>0.000000</td>\n",
       "      <td>0.000000</td>\n",
       "      <td>0.000000</td>\n",
       "      <td>0.000000</td>\n",
       "      <td>0.000000</td>\n",
       "      <td>0.000000</td>\n",
       "      <td>0.000000</td>\n",
       "      <td>0.000000</td>\n",
       "    </tr>\n",
       "    <tr>\n",
       "      <th>25%</th>\n",
       "      <td>0.000000</td>\n",
       "      <td>0.000000</td>\n",
       "      <td>0.363636</td>\n",
       "      <td>0.342105</td>\n",
       "      <td>0.538644</td>\n",
       "      <td>0.199230</td>\n",
       "      <td>0.094179</td>\n",
       "      <td>0.353487</td>\n",
       "      <td>0.356420</td>\n",
       "      <td>0.000000</td>\n",
       "      <td>...</td>\n",
       "      <td>0.000000</td>\n",
       "      <td>0.000000</td>\n",
       "      <td>0.000000</td>\n",
       "      <td>0.000000</td>\n",
       "      <td>0.000000</td>\n",
       "      <td>0.000000</td>\n",
       "      <td>0.000000</td>\n",
       "      <td>0.000000</td>\n",
       "      <td>0.000000</td>\n",
       "      <td>0.000000</td>\n",
       "    </tr>\n",
       "    <tr>\n",
       "      <th>50%</th>\n",
       "      <td>1.000000</td>\n",
       "      <td>0.000000</td>\n",
       "      <td>0.545455</td>\n",
       "      <td>0.526316</td>\n",
       "      <td>0.653751</td>\n",
       "      <td>0.296760</td>\n",
       "      <td>0.212740</td>\n",
       "      <td>0.525123</td>\n",
       "      <td>0.518638</td>\n",
       "      <td>0.000000</td>\n",
       "      <td>...</td>\n",
       "      <td>0.000000</td>\n",
       "      <td>0.000000</td>\n",
       "      <td>0.000000</td>\n",
       "      <td>0.000000</td>\n",
       "      <td>0.000000</td>\n",
       "      <td>0.000000</td>\n",
       "      <td>0.000000</td>\n",
       "      <td>0.000000</td>\n",
       "      <td>0.000000</td>\n",
       "      <td>0.000000</td>\n",
       "    </tr>\n",
       "    <tr>\n",
       "      <th>75%</th>\n",
       "      <td>1.000000</td>\n",
       "      <td>0.000000</td>\n",
       "      <td>0.757576</td>\n",
       "      <td>0.684211</td>\n",
       "      <td>0.754818</td>\n",
       "      <td>0.414501</td>\n",
       "      <td>0.327415</td>\n",
       "      <td>0.696073</td>\n",
       "      <td>0.684710</td>\n",
       "      <td>0.000000</td>\n",
       "      <td>...</td>\n",
       "      <td>0.000000</td>\n",
       "      <td>0.000000</td>\n",
       "      <td>0.000000</td>\n",
       "      <td>0.000000</td>\n",
       "      <td>0.000000</td>\n",
       "      <td>0.000000</td>\n",
       "      <td>0.000000</td>\n",
       "      <td>0.000000</td>\n",
       "      <td>1.000000</td>\n",
       "      <td>0.000000</td>\n",
       "    </tr>\n",
       "    <tr>\n",
       "      <th>max</th>\n",
       "      <td>1.000000</td>\n",
       "      <td>1.000000</td>\n",
       "      <td>1.000000</td>\n",
       "      <td>1.000000</td>\n",
       "      <td>1.000000</td>\n",
       "      <td>1.000000</td>\n",
       "      <td>1.000000</td>\n",
       "      <td>1.000000</td>\n",
       "      <td>1.000000</td>\n",
       "      <td>1.000000</td>\n",
       "      <td>...</td>\n",
       "      <td>1.000000</td>\n",
       "      <td>1.000000</td>\n",
       "      <td>1.000000</td>\n",
       "      <td>1.000000</td>\n",
       "      <td>1.000000</td>\n",
       "      <td>1.000000</td>\n",
       "      <td>1.000000</td>\n",
       "      <td>1.000000</td>\n",
       "      <td>1.000000</td>\n",
       "      <td>1.000000</td>\n",
       "    </tr>\n",
       "  </tbody>\n",
       "</table>\n",
       "<p>8 rows × 31 columns</p>\n",
       "</div>"
      ],
      "text/plain": [
       "               yr     holiday        temp       atemp         hum   windspeed  \\\n",
       "count  510.000000  510.000000  510.000000  510.000000  510.000000  510.000000   \n",
       "mean     0.507843    0.025490    0.548723    0.513725    0.650378    0.320866   \n",
       "std      0.500429    0.157763    0.226302    0.213081    0.145885    0.169770   \n",
       "min      0.000000    0.000000    0.000000    0.000000    0.000000    0.000000   \n",
       "25%      0.000000    0.000000    0.363636    0.342105    0.538644    0.199230   \n",
       "50%      1.000000    0.000000    0.545455    0.526316    0.653751    0.296760   \n",
       "75%      1.000000    0.000000    0.757576    0.684211    0.754818    0.414501   \n",
       "max      1.000000    1.000000    1.000000    1.000000    1.000000    1.000000   \n",
       "\n",
       "           casual  registered         cnt      spring  ...         oct  \\\n",
       "count  510.000000  510.000000  510.000000  510.000000  ...  510.000000   \n",
       "mean     0.254661    0.523944    0.513620    0.243137  ...    0.086275   \n",
       "std      0.206011    0.228175    0.224593    0.429398  ...    0.281045   \n",
       "min      0.000000    0.000000    0.000000    0.000000  ...    0.000000   \n",
       "25%      0.094179    0.353487    0.356420    0.000000  ...    0.000000   \n",
       "50%      0.212740    0.525123    0.518638    0.000000  ...    0.000000   \n",
       "75%      0.327415    0.696073    0.684710    0.000000  ...    0.000000   \n",
       "max      1.000000    1.000000    1.000000    1.000000  ...    1.000000   \n",
       "\n",
       "              sep         Mon         Sat         Sun         Thu         Tue  \\\n",
       "count  510.000000  510.000000  510.000000  510.000000  510.000000  510.000000   \n",
       "mean     0.080392    0.154902    0.129412    0.137255    0.143137    0.152941   \n",
       "std      0.272166    0.362166    0.335985    0.344454    0.350557    0.360284   \n",
       "min      0.000000    0.000000    0.000000    0.000000    0.000000    0.000000   \n",
       "25%      0.000000    0.000000    0.000000    0.000000    0.000000    0.000000   \n",
       "50%      0.000000    0.000000    0.000000    0.000000    0.000000    0.000000   \n",
       "75%      0.000000    0.000000    0.000000    0.000000    0.000000    0.000000   \n",
       "max      1.000000    1.000000    1.000000    1.000000    1.000000    1.000000   \n",
       "\n",
       "              Wed       WCAT2       WCAT3  \n",
       "count  510.000000  510.000000  510.000000  \n",
       "mean     0.135294    0.343137    0.029412  \n",
       "std      0.342373    0.475223    0.169124  \n",
       "min      0.000000    0.000000    0.000000  \n",
       "25%      0.000000    0.000000    0.000000  \n",
       "50%      0.000000    0.000000    0.000000  \n",
       "75%      0.000000    1.000000    0.000000  \n",
       "max      1.000000    1.000000    1.000000  \n",
       "\n",
       "[8 rows x 31 columns]"
      ]
     },
     "execution_count": 43,
     "metadata": {},
     "output_type": "execute_result"
    }
   ],
   "source": [
    "df_train.describe()"
   ]
  },
  {
   "cell_type": "code",
   "execution_count": 44,
   "id": "0f34e6f2",
   "metadata": {},
   "outputs": [
    {
     "data": {
      "text/html": [
       "<div>\n",
       "<style scoped>\n",
       "    .dataframe tbody tr th:only-of-type {\n",
       "        vertical-align: middle;\n",
       "    }\n",
       "\n",
       "    .dataframe tbody tr th {\n",
       "        vertical-align: top;\n",
       "    }\n",
       "\n",
       "    .dataframe thead th {\n",
       "        text-align: right;\n",
       "    }\n",
       "</style>\n",
       "<table border=\"1\" class=\"dataframe\">\n",
       "  <thead>\n",
       "    <tr style=\"text-align: right;\">\n",
       "      <th></th>\n",
       "      <th>yr</th>\n",
       "      <th>holiday</th>\n",
       "      <th>temp</th>\n",
       "      <th>atemp</th>\n",
       "      <th>hum</th>\n",
       "      <th>windspeed</th>\n",
       "      <th>casual</th>\n",
       "      <th>registered</th>\n",
       "      <th>cnt</th>\n",
       "      <th>spring</th>\n",
       "      <th>...</th>\n",
       "      <th>oct</th>\n",
       "      <th>sep</th>\n",
       "      <th>Mon</th>\n",
       "      <th>Sat</th>\n",
       "      <th>Sun</th>\n",
       "      <th>Thu</th>\n",
       "      <th>Tue</th>\n",
       "      <th>Wed</th>\n",
       "      <th>WCAT2</th>\n",
       "      <th>WCAT3</th>\n",
       "    </tr>\n",
       "  </thead>\n",
       "  <tbody>\n",
       "    <tr>\n",
       "      <th>653</th>\n",
       "      <td>1</td>\n",
       "      <td>0</td>\n",
       "      <td>0.515152</td>\n",
       "      <td>0.500000</td>\n",
       "      <td>0.575330</td>\n",
       "      <td>0.300930</td>\n",
       "      <td>0.280402</td>\n",
       "      <td>0.951776</td>\n",
       "      <td>0.864243</td>\n",
       "      <td>0</td>\n",
       "      <td>...</td>\n",
       "      <td>1</td>\n",
       "      <td>0</td>\n",
       "      <td>0</td>\n",
       "      <td>0</td>\n",
       "      <td>0</td>\n",
       "      <td>0</td>\n",
       "      <td>0</td>\n",
       "      <td>1</td>\n",
       "      <td>0</td>\n",
       "      <td>0</td>\n",
       "    </tr>\n",
       "    <tr>\n",
       "      <th>576</th>\n",
       "      <td>1</td>\n",
       "      <td>0</td>\n",
       "      <td>0.818182</td>\n",
       "      <td>0.763158</td>\n",
       "      <td>0.725680</td>\n",
       "      <td>0.264678</td>\n",
       "      <td>0.294422</td>\n",
       "      <td>0.899220</td>\n",
       "      <td>0.827658</td>\n",
       "      <td>0</td>\n",
       "      <td>...</td>\n",
       "      <td>0</td>\n",
       "      <td>0</td>\n",
       "      <td>0</td>\n",
       "      <td>0</td>\n",
       "      <td>0</td>\n",
       "      <td>0</td>\n",
       "      <td>0</td>\n",
       "      <td>1</td>\n",
       "      <td>0</td>\n",
       "      <td>0</td>\n",
       "    </tr>\n",
       "    <tr>\n",
       "      <th>426</th>\n",
       "      <td>1</td>\n",
       "      <td>0</td>\n",
       "      <td>0.454545</td>\n",
       "      <td>0.447368</td>\n",
       "      <td>0.640148</td>\n",
       "      <td>0.255374</td>\n",
       "      <td>0.290765</td>\n",
       "      <td>0.446145</td>\n",
       "      <td>0.465255</td>\n",
       "      <td>1</td>\n",
       "      <td>...</td>\n",
       "      <td>0</td>\n",
       "      <td>0</td>\n",
       "      <td>0</td>\n",
       "      <td>0</td>\n",
       "      <td>1</td>\n",
       "      <td>0</td>\n",
       "      <td>0</td>\n",
       "      <td>0</td>\n",
       "      <td>1</td>\n",
       "      <td>0</td>\n",
       "    </tr>\n",
       "    <tr>\n",
       "      <th>728</th>\n",
       "      <td>1</td>\n",
       "      <td>0</td>\n",
       "      <td>0.242424</td>\n",
       "      <td>0.210526</td>\n",
       "      <td>0.498042</td>\n",
       "      <td>0.663138</td>\n",
       "      <td>0.110332</td>\n",
       "      <td>0.203869</td>\n",
       "      <td>0.204096</td>\n",
       "      <td>1</td>\n",
       "      <td>...</td>\n",
       "      <td>0</td>\n",
       "      <td>0</td>\n",
       "      <td>1</td>\n",
       "      <td>0</td>\n",
       "      <td>0</td>\n",
       "      <td>0</td>\n",
       "      <td>0</td>\n",
       "      <td>0</td>\n",
       "      <td>0</td>\n",
       "      <td>0</td>\n",
       "    </tr>\n",
       "    <tr>\n",
       "      <th>482</th>\n",
       "      <td>1</td>\n",
       "      <td>0</td>\n",
       "      <td>0.393939</td>\n",
       "      <td>0.394737</td>\n",
       "      <td>0.504534</td>\n",
       "      <td>0.188643</td>\n",
       "      <td>0.340750</td>\n",
       "      <td>0.444701</td>\n",
       "      <td>0.482973</td>\n",
       "      <td>0</td>\n",
       "      <td>...</td>\n",
       "      <td>0</td>\n",
       "      <td>0</td>\n",
       "      <td>0</td>\n",
       "      <td>0</td>\n",
       "      <td>1</td>\n",
       "      <td>0</td>\n",
       "      <td>0</td>\n",
       "      <td>0</td>\n",
       "      <td>1</td>\n",
       "      <td>0</td>\n",
       "    </tr>\n",
       "  </tbody>\n",
       "</table>\n",
       "<p>5 rows × 31 columns</p>\n",
       "</div>"
      ],
      "text/plain": [
       "     yr  holiday      temp     atemp       hum  windspeed    casual  \\\n",
       "653   1        0  0.515152  0.500000  0.575330   0.300930  0.280402   \n",
       "576   1        0  0.818182  0.763158  0.725680   0.264678  0.294422   \n",
       "426   1        0  0.454545  0.447368  0.640148   0.255374  0.290765   \n",
       "728   1        0  0.242424  0.210526  0.498042   0.663138  0.110332   \n",
       "482   1        0  0.393939  0.394737  0.504534   0.188643  0.340750   \n",
       "\n",
       "     registered       cnt  spring  ...  oct  sep  Mon  Sat  Sun  Thu  Tue  \\\n",
       "653    0.951776  0.864243       0  ...    1    0    0    0    0    0    0   \n",
       "576    0.899220  0.827658       0  ...    0    0    0    0    0    0    0   \n",
       "426    0.446145  0.465255       1  ...    0    0    0    0    1    0    0   \n",
       "728    0.203869  0.204096       1  ...    0    0    1    0    0    0    0   \n",
       "482    0.444701  0.482973       0  ...    0    0    0    0    1    0    0   \n",
       "\n",
       "     Wed  WCAT2  WCAT3  \n",
       "653    1      0      0  \n",
       "576    1      0      0  \n",
       "426    0      1      0  \n",
       "728    0      0      0  \n",
       "482    0      1      0  \n",
       "\n",
       "[5 rows x 31 columns]"
      ]
     },
     "execution_count": 44,
     "metadata": {},
     "output_type": "execute_result"
    }
   ],
   "source": [
    "df_train.head()"
   ]
  },
  {
   "cell_type": "code",
   "execution_count": 45,
   "id": "796efaec",
   "metadata": {
    "scrolled": true
   },
   "outputs": [
    {
     "data": {
      "image/png": "[encoded data removed]",
      "text/plain": [
       "<Figure size 1440x1080 with 2 Axes>"
      ]
     },
     "metadata": {
      "needs_background": "light"
     },
     "output_type": "display_data"
    }
   ],
   "source": [
    "plt.figure(figsize = (20, 15))\n",
    "sns.heatmap(df_train.corr(), annot = True, cmap=\"RdYlGn\")\n",
    "plt.show()"
   ]
  },
  {
   "cell_type": "markdown",
   "id": "058e4796",
   "metadata": {},
   "source": [
    "#### We can see a high correlation between registered and cnt variable. so lets plot it and check if there is a linear relation. It looks like there is."
   ]
  },
  {
   "cell_type": "code",
   "execution_count": 46,
   "id": "aa81c60d",
   "metadata": {},
   "outputs": [
    {
     "data": {
      "image/png": "[encoded data removed]",
      "text/plain": [
       "<Figure size 432x288 with 1 Axes>"
      ]
     },
     "metadata": {
      "needs_background": "light"
     },
     "output_type": "display_data"
    }
   ],
   "source": [
    "sns.scatterplot(data=boom_bikes, x='registered', y='cnt')\n",
    "plt.show()"
   ]
  },
  {
   "cell_type": "markdown",
   "id": "8130d302",
   "metadata": {},
   "source": [
    "Lets start by building model with registered."
   ]
  },
  {
   "cell_type": "markdown",
   "id": "20274164",
   "metadata": {},
   "source": [
    "## Model building using manual forward approach"
   ]
  },
  {
   "cell_type": "markdown",
   "id": "4f46e3b2",
   "metadata": {},
   "source": [
    "#### Dividing train into X and y"
   ]
  },
  {
   "cell_type": "code",
   "execution_count": 47,
   "id": "98ebfe69",
   "metadata": {},
   "outputs": [],
   "source": [
    "y_train = df_train['cnt']\n",
    "X_train = df_train['registered']"
   ]
  },
  {
   "cell_type": "code",
   "execution_count": 48,
   "id": "c5aa1896",
   "metadata": {},
   "outputs": [
    {
     "data": {
      "text/plain": [
       "653    0.864243\n",
       "576    0.827658\n",
       "426    0.465255\n",
       "728    0.204096\n",
       "482    0.482973\n",
       "Name: cnt, dtype: float64"
      ]
     },
     "execution_count": 48,
     "metadata": {},
     "output_type": "execute_result"
    }
   ],
   "source": [
    "y_train.head()"
   ]
  },
  {
   "cell_type": "code",
   "execution_count": 49,
   "id": "0df6a6b8",
   "metadata": {},
   "outputs": [
    {
     "data": {
      "text/plain": [
       "const         0.024532\n",
       "registered    0.933473\n",
       "dtype: float64"
      ]
     },
     "execution_count": 49,
     "metadata": {},
     "output_type": "execute_result"
    }
   ],
   "source": [
    "X_train_sm = sm.add_constant(X_train)\n",
    "\n",
    "lr = sm.OLS(y_train, X_train_sm)\n",
    "\n",
    "lr_1 = lr.fit()\n",
    "\n",
    "lr_1.params"
   ]
  },
  {
   "cell_type": "code",
   "execution_count": 50,
   "id": "3cafde6c",
   "metadata": {},
   "outputs": [
    {
     "name": "stdout",
     "output_type": "stream",
     "text": [
      "                            OLS Regression Results                            \n",
      "==============================================================================\n",
      "Dep. Variable:                    cnt   R-squared:                       0.899\n",
      "Model:                            OLS   Adj. R-squared:                  0.899\n",
      "Method:                 Least Squares   F-statistic:                     4541.\n",
      "Date:                Wed, 08 Dec 2021   Prob (F-statistic):          1.75e-255\n",
      "Time:                        15:29:58   Log-Likelihood:                 624.12\n",
      "No. Observations:                 510   AIC:                            -1244.\n",
      "Df Residuals:                     508   BIC:                            -1236.\n",
      "Df Model:                           1                                         \n",
      "Covariance Type:            nonrobust                                         \n",
      "==============================================================================\n",
      "                 coef    std err          t      P>|t|      [0.025      0.975]\n",
      "------------------------------------------------------------------------------\n",
      "const          0.0245      0.008      3.099      0.002       0.009       0.040\n",
      "registered     0.9335      0.014     67.388      0.000       0.906       0.961\n",
      "==============================================================================\n",
      "Omnibus:                      134.360   Durbin-Watson:                   1.883\n",
      "Prob(Omnibus):                  0.000   Jarque-Bera (JB):              255.307\n",
      "Skew:                           1.511   Prob(JB):                     3.64e-56\n",
      "Kurtosis:                       4.699   Cond. No.                         5.64\n",
      "==============================================================================\n",
      "\n",
      "Notes:\n",
      "[1] Standard Errors assume that the covariance matrix of the errors is correctly specified.\n"
     ]
    }
   ],
   "source": [
    "print(lr_1.summary())"
   ]
  },
  {
   "cell_type": "markdown",
   "id": "09275e1e",
   "metadata": {},
   "source": [
    "#### 0.89 seems a pretty good r2 value, also F probablistic value is very low. Lets next highly correlated variable and check for r2 value. spring has a very high negative correlation with cnt. lets add it and check"
   ]
  },
  {
   "cell_type": "code",
   "execution_count": 51,
   "id": "02349333",
   "metadata": {},
   "outputs": [],
   "source": [
    "X_train = df_train[['registered','spring']]"
   ]
  },
  {
   "cell_type": "code",
   "execution_count": 52,
   "id": "750e45b4",
   "metadata": {},
   "outputs": [
    {
     "data": {
      "text/html": [
       "<div>\n",
       "<style scoped>\n",
       "    .dataframe tbody tr th:only-of-type {\n",
       "        vertical-align: middle;\n",
       "    }\n",
       "\n",
       "    .dataframe tbody tr th {\n",
       "        vertical-align: top;\n",
       "    }\n",
       "\n",
       "    .dataframe thead th {\n",
       "        text-align: right;\n",
       "    }\n",
       "</style>\n",
       "<table border=\"1\" class=\"dataframe\">\n",
       "  <thead>\n",
       "    <tr style=\"text-align: right;\">\n",
       "      <th></th>\n",
       "      <th>const</th>\n",
       "      <th>registered</th>\n",
       "      <th>spring</th>\n",
       "    </tr>\n",
       "  </thead>\n",
       "  <tbody>\n",
       "    <tr>\n",
       "      <th>653</th>\n",
       "      <td>1.0</td>\n",
       "      <td>0.951776</td>\n",
       "      <td>0</td>\n",
       "    </tr>\n",
       "    <tr>\n",
       "      <th>576</th>\n",
       "      <td>1.0</td>\n",
       "      <td>0.899220</td>\n",
       "      <td>0</td>\n",
       "    </tr>\n",
       "    <tr>\n",
       "      <th>426</th>\n",
       "      <td>1.0</td>\n",
       "      <td>0.446145</td>\n",
       "      <td>1</td>\n",
       "    </tr>\n",
       "    <tr>\n",
       "      <th>728</th>\n",
       "      <td>1.0</td>\n",
       "      <td>0.203869</td>\n",
       "      <td>1</td>\n",
       "    </tr>\n",
       "    <tr>\n",
       "      <th>482</th>\n",
       "      <td>1.0</td>\n",
       "      <td>0.444701</td>\n",
       "      <td>0</td>\n",
       "    </tr>\n",
       "  </tbody>\n",
       "</table>\n",
       "</div>"
      ],
      "text/plain": [
       "     const  registered  spring\n",
       "653    1.0    0.951776       0\n",
       "576    1.0    0.899220       0\n",
       "426    1.0    0.446145       1\n",
       "728    1.0    0.203869       1\n",
       "482    1.0    0.444701       0"
      ]
     },
     "execution_count": 52,
     "metadata": {},
     "output_type": "execute_result"
    }
   ],
   "source": [
    "X_train_sm = sm.add_constant(X_train)\n",
    "\n",
    "X_train_sm.head()"
   ]
  },
  {
   "cell_type": "code",
   "execution_count": 53,
   "id": "5c55c94a",
   "metadata": {},
   "outputs": [
    {
     "data": {
      "text/plain": [
       "const         0.063295\n",
       "registered    0.883961\n",
       "spring       -0.052735\n",
       "dtype: float64"
      ]
     },
     "execution_count": 53,
     "metadata": {},
     "output_type": "execute_result"
    }
   ],
   "source": [
    "lr = sm.OLS(y_train, X_train_sm)\n",
    "\n",
    "lr_2 = lr.fit()\n",
    "\n",
    "lr_2.params"
   ]
  },
  {
   "cell_type": "code",
   "execution_count": 54,
   "id": "85de63a8",
   "metadata": {},
   "outputs": [
    {
     "name": "stdout",
     "output_type": "stream",
     "text": [
      "                            OLS Regression Results                            \n",
      "==============================================================================\n",
      "Dep. Variable:                    cnt   R-squared:                       0.907\n",
      "Model:                            OLS   Adj. R-squared:                  0.907\n",
      "Method:                 Least Squares   F-statistic:                     2473.\n",
      "Date:                Wed, 08 Dec 2021   Prob (F-statistic):          3.03e-262\n",
      "Time:                        15:29:58   Log-Likelihood:                 644.24\n",
      "No. Observations:                 510   AIC:                            -1282.\n",
      "Df Residuals:                     507   BIC:                            -1270.\n",
      "Df Model:                           2                                         \n",
      "Covariance Type:            nonrobust                                         \n",
      "==============================================================================\n",
      "                 coef    std err          t      P>|t|      [0.025      0.975]\n",
      "------------------------------------------------------------------------------\n",
      "const          0.0633      0.010      6.525      0.000       0.044       0.082\n",
      "registered     0.8840      0.015     57.474      0.000       0.854       0.914\n",
      "spring        -0.0527      0.008     -6.453      0.000      -0.069      -0.037\n",
      "==============================================================================\n",
      "Omnibus:                      133.133   Durbin-Watson:                   1.915\n",
      "Prob(Omnibus):                  0.000   Jarque-Bera (JB):              260.658\n",
      "Skew:                           1.461   Prob(JB):                     2.50e-57\n",
      "Kurtosis:                       4.931   Cond. No.                         7.08\n",
      "==============================================================================\n",
      "\n",
      "Notes:\n",
      "[1] Standard Errors assume that the covariance matrix of the errors is correctly specified.\n"
     ]
    }
   ],
   "source": [
    "print(lr_2.summary())"
   ]
  },
  {
   "cell_type": "markdown",
   "id": "37b5c3da",
   "metadata": {},
   "source": [
    "The R2 value has increased to 0.907. Lets add another correlated variable, now casual"
   ]
  },
  {
   "cell_type": "code",
   "execution_count": 55,
   "id": "a7d160ec",
   "metadata": {},
   "outputs": [
    {
     "data": {
      "text/html": [
       "<div>\n",
       "<style scoped>\n",
       "    .dataframe tbody tr th:only-of-type {\n",
       "        vertical-align: middle;\n",
       "    }\n",
       "\n",
       "    .dataframe tbody tr th {\n",
       "        vertical-align: top;\n",
       "    }\n",
       "\n",
       "    .dataframe thead th {\n",
       "        text-align: right;\n",
       "    }\n",
       "</style>\n",
       "<table border=\"1\" class=\"dataframe\">\n",
       "  <thead>\n",
       "    <tr style=\"text-align: right;\">\n",
       "      <th></th>\n",
       "      <th>const</th>\n",
       "      <th>registered</th>\n",
       "      <th>spring</th>\n",
       "      <th>casual</th>\n",
       "    </tr>\n",
       "  </thead>\n",
       "  <tbody>\n",
       "    <tr>\n",
       "      <th>653</th>\n",
       "      <td>1.0</td>\n",
       "      <td>0.951776</td>\n",
       "      <td>0</td>\n",
       "      <td>0.280402</td>\n",
       "    </tr>\n",
       "    <tr>\n",
       "      <th>576</th>\n",
       "      <td>1.0</td>\n",
       "      <td>0.899220</td>\n",
       "      <td>0</td>\n",
       "      <td>0.294422</td>\n",
       "    </tr>\n",
       "    <tr>\n",
       "      <th>426</th>\n",
       "      <td>1.0</td>\n",
       "      <td>0.446145</td>\n",
       "      <td>1</td>\n",
       "      <td>0.290765</td>\n",
       "    </tr>\n",
       "    <tr>\n",
       "      <th>728</th>\n",
       "      <td>1.0</td>\n",
       "      <td>0.203869</td>\n",
       "      <td>1</td>\n",
       "      <td>0.110332</td>\n",
       "    </tr>\n",
       "    <tr>\n",
       "      <th>482</th>\n",
       "      <td>1.0</td>\n",
       "      <td>0.444701</td>\n",
       "      <td>0</td>\n",
       "      <td>0.340750</td>\n",
       "    </tr>\n",
       "  </tbody>\n",
       "</table>\n",
       "</div>"
      ],
      "text/plain": [
       "     const  registered  spring    casual\n",
       "653    1.0    0.951776       0  0.280402\n",
       "576    1.0    0.899220       0  0.294422\n",
       "426    1.0    0.446145       1  0.290765\n",
       "728    1.0    0.203869       1  0.110332\n",
       "482    1.0    0.444701       0  0.340750"
      ]
     },
     "execution_count": 55,
     "metadata": {},
     "output_type": "execute_result"
    }
   ],
   "source": [
    "X_train_sm = sm.add_constant(df_train[['registered','spring','casual']])\n",
    "X_train_sm.head()"
   ]
  },
  {
   "cell_type": "code",
   "execution_count": 56,
   "id": "59461e30",
   "metadata": {},
   "outputs": [],
   "source": [
    "lr = sm.OLS(y_train, X_train_sm)\n",
    "\n",
    "lr_3 = lr.fit()\n",
    "\n"
   ]
  },
  {
   "cell_type": "code",
   "execution_count": 57,
   "id": "1daaa722",
   "metadata": {},
   "outputs": [
    {
     "name": "stdout",
     "output_type": "stream",
     "text": [
      "                            OLS Regression Results                            \n",
      "==============================================================================\n",
      "Dep. Variable:                    cnt   R-squared:                       1.000\n",
      "Model:                            OLS   Adj. R-squared:                  1.000\n",
      "Method:                 Least Squares   F-statistic:                 1.915e+32\n",
      "Date:                Wed, 08 Dec 2021   Prob (F-statistic):               0.00\n",
      "Time:                        15:29:58   Log-Likelihood:                 17686.\n",
      "No. Observations:                 510   AIC:                        -3.536e+04\n",
      "Df Residuals:                     506   BIC:                        -3.535e+04\n",
      "Df Model:                           3                                         \n",
      "Covariance Type:            nonrobust                                         \n",
      "==============================================================================\n",
      "                 coef    std err          t      P>|t|      [0.025      0.975]\n",
      "------------------------------------------------------------------------------\n",
      "const       3.296e-16   3.11e-17     10.592      0.000    2.68e-16    3.91e-16\n",
      "registered     0.7968   4.89e-17   1.63e+16      0.000       0.797       0.797\n",
      "spring     -3.088e-16   2.62e-17    -11.788      0.000    -3.6e-16   -2.57e-16\n",
      "casual         0.3775   5.17e-17   7.31e+15      0.000       0.377       0.377\n",
      "==============================================================================\n",
      "Omnibus:                       55.837   Durbin-Watson:                   0.912\n",
      "Prob(Omnibus):                  0.000   Jarque-Bera (JB):               46.192\n",
      "Skew:                           0.649   Prob(JB):                     9.32e-11\n",
      "Kurtosis:                       2.301   Cond. No.                         7.35\n",
      "==============================================================================\n",
      "\n",
      "Notes:\n",
      "[1] Standard Errors assume that the covariance matrix of the errors is correctly specified.\n"
     ]
    }
   ],
   "source": [
    "print(lr_3.summary())"
   ]
  },
  {
   "cell_type": "markdown",
   "id": "b6ab41c3",
   "metadata": {},
   "source": [
    "#### We have achieved perfect value of R2 as 1 and Prob(F-statistic) is also 0. P values are also zero for all the independent variables used in model."
   ]
  },
  {
   "cell_type": "markdown",
   "id": "63b1a991",
   "metadata": {},
   "source": [
    "Lets add next correlated variable atemp and look what happens."
   ]
  },
  {
   "cell_type": "code",
   "execution_count": 58,
   "id": "a03be958",
   "metadata": {},
   "outputs": [
    {
     "data": {
      "text/html": [
       "<div>\n",
       "<style scoped>\n",
       "    .dataframe tbody tr th:only-of-type {\n",
       "        vertical-align: middle;\n",
       "    }\n",
       "\n",
       "    .dataframe tbody tr th {\n",
       "        vertical-align: top;\n",
       "    }\n",
       "\n",
       "    .dataframe thead th {\n",
       "        text-align: right;\n",
       "    }\n",
       "</style>\n",
       "<table border=\"1\" class=\"dataframe\">\n",
       "  <thead>\n",
       "    <tr style=\"text-align: right;\">\n",
       "      <th></th>\n",
       "      <th>const</th>\n",
       "      <th>registered</th>\n",
       "      <th>spring</th>\n",
       "      <th>casual</th>\n",
       "      <th>atemp</th>\n",
       "    </tr>\n",
       "  </thead>\n",
       "  <tbody>\n",
       "    <tr>\n",
       "      <th>653</th>\n",
       "      <td>1.0</td>\n",
       "      <td>0.951776</td>\n",
       "      <td>0</td>\n",
       "      <td>0.280402</td>\n",
       "      <td>0.500000</td>\n",
       "    </tr>\n",
       "    <tr>\n",
       "      <th>576</th>\n",
       "      <td>1.0</td>\n",
       "      <td>0.899220</td>\n",
       "      <td>0</td>\n",
       "      <td>0.294422</td>\n",
       "      <td>0.763158</td>\n",
       "    </tr>\n",
       "    <tr>\n",
       "      <th>426</th>\n",
       "      <td>1.0</td>\n",
       "      <td>0.446145</td>\n",
       "      <td>1</td>\n",
       "      <td>0.290765</td>\n",
       "      <td>0.447368</td>\n",
       "    </tr>\n",
       "    <tr>\n",
       "      <th>728</th>\n",
       "      <td>1.0</td>\n",
       "      <td>0.203869</td>\n",
       "      <td>1</td>\n",
       "      <td>0.110332</td>\n",
       "      <td>0.210526</td>\n",
       "    </tr>\n",
       "    <tr>\n",
       "      <th>482</th>\n",
       "      <td>1.0</td>\n",
       "      <td>0.444701</td>\n",
       "      <td>0</td>\n",
       "      <td>0.340750</td>\n",
       "      <td>0.394737</td>\n",
       "    </tr>\n",
       "  </tbody>\n",
       "</table>\n",
       "</div>"
      ],
      "text/plain": [
       "     const  registered  spring    casual     atemp\n",
       "653    1.0    0.951776       0  0.280402  0.500000\n",
       "576    1.0    0.899220       0  0.294422  0.763158\n",
       "426    1.0    0.446145       1  0.290765  0.447368\n",
       "728    1.0    0.203869       1  0.110332  0.210526\n",
       "482    1.0    0.444701       0  0.340750  0.394737"
      ]
     },
     "execution_count": 58,
     "metadata": {},
     "output_type": "execute_result"
    }
   ],
   "source": [
    "X_train_sm = sm.add_constant(df_train[['registered','spring','casual','atemp']])\n",
    "X_train_sm.head()"
   ]
  },
  {
   "cell_type": "code",
   "execution_count": 59,
   "id": "4abee66c",
   "metadata": {},
   "outputs": [],
   "source": [
    "lr = sm.OLS(y_train, X_train_sm)\n",
    "\n",
    "lr_4 = lr.fit()"
   ]
  },
  {
   "cell_type": "code",
   "execution_count": 60,
   "id": "3ed41886",
   "metadata": {},
   "outputs": [
    {
     "name": "stdout",
     "output_type": "stream",
     "text": [
      "                            OLS Regression Results                            \n",
      "==============================================================================\n",
      "Dep. Variable:                    cnt   R-squared:                       1.000\n",
      "Model:                            OLS   Adj. R-squared:                  1.000\n",
      "Method:                 Least Squares   F-statistic:                 1.595e+32\n",
      "Date:                Wed, 08 Dec 2021   Prob (F-statistic):               0.00\n",
      "Time:                        15:29:58   Log-Likelihood:                 17713.\n",
      "No. Observations:                 510   AIC:                        -3.542e+04\n",
      "Df Residuals:                     505   BIC:                        -3.539e+04\n",
      "Df Model:                           4                                         \n",
      "Covariance Type:            nonrobust                                         \n",
      "==============================================================================\n",
      "                 coef    std err          t      P>|t|      [0.025      0.975]\n",
      "------------------------------------------------------------------------------\n",
      "const       9.021e-17   3.63e-17      2.484      0.013    1.88e-17    1.62e-16\n",
      "registered     0.7968   4.88e-17   1.63e+16      0.000       0.797       0.797\n",
      "spring              0   2.71e-17          0      1.000   -5.31e-17    5.31e-17\n",
      "casual         0.3775   5.25e-17   7.19e+15      0.000       0.377       0.377\n",
      "atemp      -3.608e-16    6.1e-17     -5.916      0.000   -4.81e-16   -2.41e-16\n",
      "==============================================================================\n",
      "Omnibus:                       21.179   Durbin-Watson:                   0.689\n",
      "Prob(Omnibus):                  0.000   Jarque-Bera (JB):               21.009\n",
      "Skew:                           0.457   Prob(JB):                     2.74e-05\n",
      "Kurtosis:                       2.609   Cond. No.                         10.3\n",
      "==============================================================================\n",
      "\n",
      "Notes:\n",
      "[1] Standard Errors assume that the covariance matrix of the errors is correctly specified.\n"
     ]
    }
   ],
   "source": [
    "print(lr_4.summary())"
   ]
  },
  {
   "cell_type": "markdown",
   "id": "6622d514",
   "metadata": {},
   "source": [
    "#### R2 value remains unchanged and Adj. R2 also is unchanged, Prob F statistic is also 0, p value however for spring has changed to 1. means that there is some correlation between atemp and spring. Lets drop atemp from our model for now and take next highly correlated variable i.e. temp"
   ]
  },
  {
   "cell_type": "code",
   "execution_count": 61,
   "id": "78428edc",
   "metadata": {},
   "outputs": [
    {
     "data": {
      "text/html": [
       "<div>\n",
       "<style scoped>\n",
       "    .dataframe tbody tr th:only-of-type {\n",
       "        vertical-align: middle;\n",
       "    }\n",
       "\n",
       "    .dataframe tbody tr th {\n",
       "        vertical-align: top;\n",
       "    }\n",
       "\n",
       "    .dataframe thead th {\n",
       "        text-align: right;\n",
       "    }\n",
       "</style>\n",
       "<table border=\"1\" class=\"dataframe\">\n",
       "  <thead>\n",
       "    <tr style=\"text-align: right;\">\n",
       "      <th></th>\n",
       "      <th>const</th>\n",
       "      <th>registered</th>\n",
       "      <th>spring</th>\n",
       "      <th>casual</th>\n",
       "      <th>temp</th>\n",
       "    </tr>\n",
       "  </thead>\n",
       "  <tbody>\n",
       "    <tr>\n",
       "      <th>653</th>\n",
       "      <td>1.0</td>\n",
       "      <td>0.951776</td>\n",
       "      <td>0</td>\n",
       "      <td>0.280402</td>\n",
       "      <td>0.515152</td>\n",
       "    </tr>\n",
       "    <tr>\n",
       "      <th>576</th>\n",
       "      <td>1.0</td>\n",
       "      <td>0.899220</td>\n",
       "      <td>0</td>\n",
       "      <td>0.294422</td>\n",
       "      <td>0.818182</td>\n",
       "    </tr>\n",
       "    <tr>\n",
       "      <th>426</th>\n",
       "      <td>1.0</td>\n",
       "      <td>0.446145</td>\n",
       "      <td>1</td>\n",
       "      <td>0.290765</td>\n",
       "      <td>0.454545</td>\n",
       "    </tr>\n",
       "    <tr>\n",
       "      <th>728</th>\n",
       "      <td>1.0</td>\n",
       "      <td>0.203869</td>\n",
       "      <td>1</td>\n",
       "      <td>0.110332</td>\n",
       "      <td>0.242424</td>\n",
       "    </tr>\n",
       "    <tr>\n",
       "      <th>482</th>\n",
       "      <td>1.0</td>\n",
       "      <td>0.444701</td>\n",
       "      <td>0</td>\n",
       "      <td>0.340750</td>\n",
       "      <td>0.393939</td>\n",
       "    </tr>\n",
       "  </tbody>\n",
       "</table>\n",
       "</div>"
      ],
      "text/plain": [
       "     const  registered  spring    casual      temp\n",
       "653    1.0    0.951776       0  0.280402  0.515152\n",
       "576    1.0    0.899220       0  0.294422  0.818182\n",
       "426    1.0    0.446145       1  0.290765  0.454545\n",
       "728    1.0    0.203869       1  0.110332  0.242424\n",
       "482    1.0    0.444701       0  0.340750  0.393939"
      ]
     },
     "execution_count": 61,
     "metadata": {},
     "output_type": "execute_result"
    }
   ],
   "source": [
    "X_train_sm = sm.add_constant(df_train[['registered','spring','casual','temp']])\n",
    "X_train_sm.head()"
   ]
  },
  {
   "cell_type": "code",
   "execution_count": 62,
   "id": "08ec05f2",
   "metadata": {},
   "outputs": [
    {
     "name": "stdout",
     "output_type": "stream",
     "text": [
      "                            OLS Regression Results                            \n",
      "==============================================================================\n",
      "Dep. Variable:                    cnt   R-squared:                       1.000\n",
      "Model:                            OLS   Adj. R-squared:                  1.000\n",
      "Method:                 Least Squares   F-statistic:                 3.864e+32\n",
      "Date:                Wed, 08 Dec 2021   Prob (F-statistic):               0.00\n",
      "Time:                        15:29:58   Log-Likelihood:                 17939.\n",
      "No. Observations:                 510   AIC:                        -3.587e+04\n",
      "Df Residuals:                     505   BIC:                        -3.585e+04\n",
      "Df Model:                           4                                         \n",
      "Covariance Type:            nonrobust                                         \n",
      "==============================================================================\n",
      "                 coef    std err          t      P>|t|      [0.025      0.975]\n",
      "------------------------------------------------------------------------------\n",
      "const       6.939e-17   2.34e-17      2.970      0.003    2.35e-17    1.15e-16\n",
      "registered     0.7968   3.13e-17   2.55e+16      0.000       0.797       0.797\n",
      "spring     -1.388e-17   1.73e-17     -0.801      0.424   -4.79e-17    2.02e-17\n",
      "casual         0.3775   3.37e-17   1.12e+16      0.000       0.377       0.377\n",
      "temp       -1.388e-16   3.65e-17     -3.798      0.000   -2.11e-16    -6.7e-17\n",
      "==============================================================================\n",
      "Omnibus:                       29.009   Durbin-Watson:                   0.806\n",
      "Prob(Omnibus):                  0.000   Jarque-Bera (JB):               32.839\n",
      "Skew:                           0.621   Prob(JB):                     7.40e-08\n",
      "Kurtosis:                       3.047   Cond. No.                         9.95\n",
      "==============================================================================\n",
      "\n",
      "Notes:\n",
      "[1] Standard Errors assume that the covariance matrix of the errors is correctly specified.\n"
     ]
    }
   ],
   "source": [
    "lr = sm.OLS(y_train, X_train_sm)\n",
    "\n",
    "lr_5 = lr.fit()\n",
    "\n",
    "print(lr_5.summary())"
   ]
  },
  {
   "cell_type": "markdown",
   "id": "8929a642",
   "metadata": {},
   "source": [
    "#### R2 value remains unchanged and Adj. R2 also is unchanged, Prob F statistic is also 0, p value however for spring has changed to 0.4. means that there is some correlation between temp and spring. Lets drop temp from our model for now and take next highly correlated variable i.e. yr"
   ]
  },
  {
   "cell_type": "code",
   "execution_count": 63,
   "id": "88874fdd",
   "metadata": {},
   "outputs": [
    {
     "data": {
      "text/html": [
       "<div>\n",
       "<style scoped>\n",
       "    .dataframe tbody tr th:only-of-type {\n",
       "        vertical-align: middle;\n",
       "    }\n",
       "\n",
       "    .dataframe tbody tr th {\n",
       "        vertical-align: top;\n",
       "    }\n",
       "\n",
       "    .dataframe thead th {\n",
       "        text-align: right;\n",
       "    }\n",
       "</style>\n",
       "<table border=\"1\" class=\"dataframe\">\n",
       "  <thead>\n",
       "    <tr style=\"text-align: right;\">\n",
       "      <th></th>\n",
       "      <th>const</th>\n",
       "      <th>registered</th>\n",
       "      <th>spring</th>\n",
       "      <th>casual</th>\n",
       "      <th>yr</th>\n",
       "    </tr>\n",
       "  </thead>\n",
       "  <tbody>\n",
       "    <tr>\n",
       "      <th>653</th>\n",
       "      <td>1.0</td>\n",
       "      <td>0.951776</td>\n",
       "      <td>0</td>\n",
       "      <td>0.280402</td>\n",
       "      <td>1</td>\n",
       "    </tr>\n",
       "    <tr>\n",
       "      <th>576</th>\n",
       "      <td>1.0</td>\n",
       "      <td>0.899220</td>\n",
       "      <td>0</td>\n",
       "      <td>0.294422</td>\n",
       "      <td>1</td>\n",
       "    </tr>\n",
       "    <tr>\n",
       "      <th>426</th>\n",
       "      <td>1.0</td>\n",
       "      <td>0.446145</td>\n",
       "      <td>1</td>\n",
       "      <td>0.290765</td>\n",
       "      <td>1</td>\n",
       "    </tr>\n",
       "    <tr>\n",
       "      <th>728</th>\n",
       "      <td>1.0</td>\n",
       "      <td>0.203869</td>\n",
       "      <td>1</td>\n",
       "      <td>0.110332</td>\n",
       "      <td>1</td>\n",
       "    </tr>\n",
       "    <tr>\n",
       "      <th>482</th>\n",
       "      <td>1.0</td>\n",
       "      <td>0.444701</td>\n",
       "      <td>0</td>\n",
       "      <td>0.340750</td>\n",
       "      <td>1</td>\n",
       "    </tr>\n",
       "  </tbody>\n",
       "</table>\n",
       "</div>"
      ],
      "text/plain": [
       "     const  registered  spring    casual  yr\n",
       "653    1.0    0.951776       0  0.280402   1\n",
       "576    1.0    0.899220       0  0.294422   1\n",
       "426    1.0    0.446145       1  0.290765   1\n",
       "728    1.0    0.203869       1  0.110332   1\n",
       "482    1.0    0.444701       0  0.340750   1"
      ]
     },
     "execution_count": 63,
     "metadata": {},
     "output_type": "execute_result"
    }
   ],
   "source": [
    "X_train_sm = sm.add_constant(df_train[['registered','spring','casual','yr']])\n",
    "X_train_sm.head()"
   ]
  },
  {
   "cell_type": "code",
   "execution_count": 64,
   "id": "6637a2ee",
   "metadata": {},
   "outputs": [
    {
     "name": "stdout",
     "output_type": "stream",
     "text": [
      "                            OLS Regression Results                            \n",
      "==============================================================================\n",
      "Dep. Variable:                    cnt   R-squared:                       1.000\n",
      "Model:                            OLS   Adj. R-squared:                  1.000\n",
      "Method:                 Least Squares   F-statistic:                 1.016e+33\n",
      "Date:                Wed, 08 Dec 2021   Prob (F-statistic):               0.00\n",
      "Time:                        15:29:58   Log-Likelihood:                 18185.\n",
      "No. Observations:                 510   AIC:                        -3.636e+04\n",
      "Df Residuals:                     505   BIC:                        -3.634e+04\n",
      "Df Model:                           4                                         \n",
      "Covariance Type:            nonrobust                                         \n",
      "==============================================================================\n",
      "                 coef    std err          t      P>|t|      [0.025      0.975]\n",
      "------------------------------------------------------------------------------\n",
      "const       1.544e-16    1.3e-17     11.915      0.000    1.29e-16     1.8e-16\n",
      "registered     0.7968   2.49e-17    3.2e+16      0.000       0.797       0.797\n",
      "spring     -4.857e-17   1.09e-17     -4.473      0.000   -6.99e-17   -2.72e-17\n",
      "casual         0.3775   1.96e-17   1.92e+16      0.000       0.377       0.377\n",
      "yr          3.816e-17    9.9e-18      3.856      0.000    1.87e-17    5.76e-17\n",
      "==============================================================================\n",
      "Omnibus:                       38.808   Durbin-Watson:                   1.979\n",
      "Prob(Omnibus):                  0.000   Jarque-Bera (JB):               45.693\n",
      "Skew:                           0.692   Prob(JB):                     1.20e-10\n",
      "Kurtosis:                       3.485   Cond. No.                         10.8\n",
      "==============================================================================\n",
      "\n",
      "Notes:\n",
      "[1] Standard Errors assume that the covariance matrix of the errors is correctly specified.\n"
     ]
    }
   ],
   "source": [
    "lr = sm.OLS(y_train, X_train_sm)\n",
    "\n",
    "lr_6 = lr.fit()\n",
    "\n",
    "print(lr_6.summary())"
   ]
  },
  {
   "cell_type": "markdown",
   "id": "af58872e",
   "metadata": {},
   "source": [
    "### Looks like a perfect model right now with all values in limit. r2=1, adj. r2=1, prob fstats = 0, p values 0."
   ]
  },
  {
   "cell_type": "markdown",
   "id": "4273ae3f",
   "metadata": {},
   "source": [
    "### We have more independent variables but their correlation is not significant. We will for now settle for lr_6 model as our final model.\n"
   ]
  },
  {
   "cell_type": "code",
   "execution_count": 65,
   "id": "6afc2203",
   "metadata": {},
   "outputs": [],
   "source": [
    "y_train_predict = lr_6.predict(X_train_sm)"
   ]
  },
  {
   "cell_type": "code",
   "execution_count": 66,
   "id": "567f0308",
   "metadata": {},
   "outputs": [],
   "source": [
    "res = y_train - y_train_predict"
   ]
  },
  {
   "cell_type": "code",
   "execution_count": 67,
   "id": "7db7c731",
   "metadata": {},
   "outputs": [
    {
     "data": {
      "image/png": "[encoded data removed]",
      "text/plain": [
       "<Figure size 432x288 with 1 Axes>"
      ]
     },
     "metadata": {
      "needs_background": "light"
     },
     "output_type": "display_data"
    }
   ],
   "source": [
    "sns.distplot(res, bins=20)\n",
    "plt.show()"
   ]
  },
  {
   "cell_type": "code",
   "execution_count": 68,
   "id": "6c8c0985",
   "metadata": {},
   "outputs": [],
   "source": [
    "# Check for the VIF values of the feature variables. \n",
    "from statsmodels.stats.outliers_influence import variance_inflation_factor"
   ]
  },
  {
   "cell_type": "code",
   "execution_count": 69,
   "id": "0d30cf0a",
   "metadata": {},
   "outputs": [],
   "source": [
    "def get_VIF(X):\n",
    "    vif = pd.DataFrame()\n",
    "    vif['Features'] = X.columns\n",
    "    vif['VIF'] = [variance_inflation_factor(X.values,i) for i in range(X.shape[1])]\n",
    "    vif['VIF'] = round(vif['VIF'], 2)\n",
    "    vif = vif.sort_values(by = \"VIF\", ascending = False)\n",
    "    print(vif)"
   ]
  },
  {
   "cell_type": "code",
   "execution_count": 70,
   "id": "ceab80e9",
   "metadata": {},
   "outputs": [],
   "source": [
    "from sklearn.feature_selection import RFE\n",
    "from sklearn.linear_model import LinearRegression"
   ]
  },
  {
   "cell_type": "code",
   "execution_count": 71,
   "id": "7c8a358c",
   "metadata": {},
   "outputs": [],
   "source": [
    "y_train = df_train['cnt']\n",
    "X_train = df_train.loc[:,df_train.columns != 'cnt']"
   ]
  },
  {
   "cell_type": "code",
   "execution_count": 72,
   "id": "2f133611",
   "metadata": {},
   "outputs": [],
   "source": [
    "lr = LinearRegression()\n",
    "\n",
    "lr.fit(X_train, y_train)\n",
    "\n",
    "rfe = RFE(lr, 10)   #select top 10 features\n",
    "\n",
    "rfe = rfe.fit(X_train, y_train)"
   ]
  },
  {
   "cell_type": "code",
   "execution_count": 73,
   "id": "9ee24a29",
   "metadata": {},
   "outputs": [
    {
     "data": {
      "text/plain": [
       "[('yr', False, 9),\n",
       " ('holiday', True, 1),\n",
       " ('temp', True, 1),\n",
       " ('atemp', True, 1),\n",
       " ('hum', False, 15),\n",
       " ('windspeed', False, 2),\n",
       " ('casual', True, 1),\n",
       " ('registered', True, 1),\n",
       " ('spring', True, 1),\n",
       " ('summer', True, 1),\n",
       " ('winter', False, 3),\n",
       " ('aug', False, 13),\n",
       " ('dec', True, 1),\n",
       " ('feb', False, 4),\n",
       " ('jan', True, 1),\n",
       " ('jul', False, 16),\n",
       " ('jun', False, 5),\n",
       " ('mar', False, 21),\n",
       " ('may', True, 1),\n",
       " ('nov', False, 17),\n",
       " ('oct', False, 14),\n",
       " ('sep', False, 10),\n",
       " ('Mon', False, 8),\n",
       " ('Sat', False, 12),\n",
       " ('Sun', False, 7),\n",
       " ('Thu', False, 11),\n",
       " ('Tue', False, 20),\n",
       " ('Wed', False, 19),\n",
       " ('WCAT2', False, 18),\n",
       " ('WCAT3', False, 6)]"
      ]
     },
     "execution_count": 73,
     "metadata": {},
     "output_type": "execute_result"
    }
   ],
   "source": [
    "list(zip(X_train.columns, rfe.support_, rfe.ranking_))"
   ]
  },
  {
   "cell_type": "code",
   "execution_count": 74,
   "id": "b4286917",
   "metadata": {},
   "outputs": [
    {
     "data": {
      "text/plain": [
       "Index(['holiday', 'temp', 'atemp', 'casual', 'registered', 'spring', 'summer',\n",
       "       'dec', 'jan', 'may'],\n",
       "      dtype='object')"
      ]
     },
     "execution_count": 74,
     "metadata": {},
     "output_type": "execute_result"
    }
   ],
   "source": [
    "# creating list of columns for which rfe support is true. These will be features selected\n",
    "final_cols = X_train.columns[rfe.support_]\n",
    "final_cols"
   ]
  },
  {
   "cell_type": "code",
   "execution_count": 75,
   "id": "bf094d72",
   "metadata": {},
   "outputs": [
    {
     "data": {
      "text/html": [
       "<div>\n",
       "<style scoped>\n",
       "    .dataframe tbody tr th:only-of-type {\n",
       "        vertical-align: middle;\n",
       "    }\n",
       "\n",
       "    .dataframe tbody tr th {\n",
       "        vertical-align: top;\n",
       "    }\n",
       "\n",
       "    .dataframe thead th {\n",
       "        text-align: right;\n",
       "    }\n",
       "</style>\n",
       "<table border=\"1\" class=\"dataframe\">\n",
       "  <thead>\n",
       "    <tr style=\"text-align: right;\">\n",
       "      <th></th>\n",
       "      <th>const</th>\n",
       "      <th>holiday</th>\n",
       "      <th>temp</th>\n",
       "      <th>atemp</th>\n",
       "      <th>casual</th>\n",
       "      <th>registered</th>\n",
       "      <th>spring</th>\n",
       "      <th>summer</th>\n",
       "      <th>dec</th>\n",
       "      <th>jan</th>\n",
       "      <th>may</th>\n",
       "    </tr>\n",
       "  </thead>\n",
       "  <tbody>\n",
       "    <tr>\n",
       "      <th>653</th>\n",
       "      <td>1.0</td>\n",
       "      <td>0</td>\n",
       "      <td>0.515152</td>\n",
       "      <td>0.500000</td>\n",
       "      <td>0.280402</td>\n",
       "      <td>0.951776</td>\n",
       "      <td>0</td>\n",
       "      <td>0</td>\n",
       "      <td>0</td>\n",
       "      <td>0</td>\n",
       "      <td>0</td>\n",
       "    </tr>\n",
       "    <tr>\n",
       "      <th>576</th>\n",
       "      <td>1.0</td>\n",
       "      <td>0</td>\n",
       "      <td>0.818182</td>\n",
       "      <td>0.763158</td>\n",
       "      <td>0.294422</td>\n",
       "      <td>0.899220</td>\n",
       "      <td>0</td>\n",
       "      <td>0</td>\n",
       "      <td>0</td>\n",
       "      <td>0</td>\n",
       "      <td>0</td>\n",
       "    </tr>\n",
       "    <tr>\n",
       "      <th>426</th>\n",
       "      <td>1.0</td>\n",
       "      <td>0</td>\n",
       "      <td>0.454545</td>\n",
       "      <td>0.447368</td>\n",
       "      <td>0.290765</td>\n",
       "      <td>0.446145</td>\n",
       "      <td>1</td>\n",
       "      <td>0</td>\n",
       "      <td>0</td>\n",
       "      <td>0</td>\n",
       "      <td>0</td>\n",
       "    </tr>\n",
       "    <tr>\n",
       "      <th>728</th>\n",
       "      <td>1.0</td>\n",
       "      <td>0</td>\n",
       "      <td>0.242424</td>\n",
       "      <td>0.210526</td>\n",
       "      <td>0.110332</td>\n",
       "      <td>0.203869</td>\n",
       "      <td>1</td>\n",
       "      <td>0</td>\n",
       "      <td>1</td>\n",
       "      <td>0</td>\n",
       "      <td>0</td>\n",
       "    </tr>\n",
       "    <tr>\n",
       "      <th>482</th>\n",
       "      <td>1.0</td>\n",
       "      <td>0</td>\n",
       "      <td>0.393939</td>\n",
       "      <td>0.394737</td>\n",
       "      <td>0.340750</td>\n",
       "      <td>0.444701</td>\n",
       "      <td>0</td>\n",
       "      <td>1</td>\n",
       "      <td>0</td>\n",
       "      <td>0</td>\n",
       "      <td>0</td>\n",
       "    </tr>\n",
       "  </tbody>\n",
       "</table>\n",
       "</div>"
      ],
      "text/plain": [
       "     const  holiday      temp     atemp    casual  registered  spring  summer  \\\n",
       "653    1.0        0  0.515152  0.500000  0.280402    0.951776       0       0   \n",
       "576    1.0        0  0.818182  0.763158  0.294422    0.899220       0       0   \n",
       "426    1.0        0  0.454545  0.447368  0.290765    0.446145       1       0   \n",
       "728    1.0        0  0.242424  0.210526  0.110332    0.203869       1       0   \n",
       "482    1.0        0  0.393939  0.394737  0.340750    0.444701       0       1   \n",
       "\n",
       "     dec  jan  may  \n",
       "653    0    0    0  \n",
       "576    0    0    0  \n",
       "426    0    0    0  \n",
       "728    1    0    0  \n",
       "482    0    0    0  "
      ]
     },
     "execution_count": 75,
     "metadata": {},
     "output_type": "execute_result"
    }
   ],
   "source": [
    "# drilling features for model manually using statsmodel\n",
    "\n",
    "X_train_new = X_train[final_cols]\n",
    "\n",
    "X_train_sm = sm.add_constant(X_train_new)\n",
    "\n",
    "X_train_sm.head()"
   ]
  },
  {
   "cell_type": "code",
   "execution_count": 76,
   "id": "960fad88",
   "metadata": {
    "scrolled": true
   },
   "outputs": [
    {
     "name": "stdout",
     "output_type": "stream",
     "text": [
      "                            OLS Regression Results                            \n",
      "==============================================================================\n",
      "Dep. Variable:                    cnt   R-squared:                       1.000\n",
      "Model:                            OLS   Adj. R-squared:                  1.000\n",
      "Method:                 Least Squares   F-statistic:                 9.058e+29\n",
      "Date:                Wed, 08 Dec 2021   Prob (F-statistic):               0.00\n",
      "Time:                        15:29:59   Log-Likelihood:                 16631.\n",
      "No. Observations:                 510   AIC:                        -3.324e+04\n",
      "Df Residuals:                     499   BIC:                        -3.319e+04\n",
      "Df Model:                          10                                         \n",
      "Covariance Type:            nonrobust                                         \n",
      "==============================================================================\n",
      "                 coef    std err          t      P>|t|      [0.025      0.975]\n",
      "------------------------------------------------------------------------------\n",
      "const       1.155e-15   3.57e-16      3.237      0.001    4.54e-16    1.86e-15\n",
      "holiday    -9.333e-16   4.78e-16     -1.952      0.051   -1.87e-15    5.89e-18\n",
      "temp       -4.441e-16   2.17e-15     -0.205      0.838   -4.71e-15    3.82e-15\n",
      "atemp       5.551e-16   2.31e-15      0.240      0.810   -3.98e-15    5.09e-15\n",
      "casual         0.3775   4.47e-16   8.44e+14      0.000       0.377       0.377\n",
      "registered     0.7968   4.14e-16   1.93e+15      0.000       0.797       0.797\n",
      "spring      5.551e-17   2.57e-16      0.216      0.829    -4.5e-16    5.61e-16\n",
      "summer      1.943e-16   2.23e-16      0.870      0.384   -2.44e-16    6.33e-16\n",
      "dec        -5.135e-16   2.98e-16     -1.724      0.085    -1.1e-15    7.16e-17\n",
      "jan        -4.788e-16   3.27e-16     -1.462      0.144   -1.12e-15    1.65e-16\n",
      "may         1.527e-16   3.21e-16      0.476      0.634   -4.78e-16    7.83e-16\n",
      "==============================================================================\n",
      "Omnibus:                       18.756   Durbin-Watson:                   0.141\n",
      "Prob(Omnibus):                  0.000   Jarque-Bera (JB):               19.870\n",
      "Skew:                           0.477   Prob(JB):                     4.84e-05\n",
      "Kurtosis:                       3.155   Cond. No.                         61.1\n",
      "==============================================================================\n",
      "\n",
      "Notes:\n",
      "[1] Standard Errors assume that the covariance matrix of the errors is correctly specified.\n"
     ]
    }
   ],
   "source": [
    "lr1 = sm.OLS(y_train, X_train_sm).fit()\n",
    "\n",
    "print(lr1.summary())"
   ]
  },
  {
   "cell_type": "code",
   "execution_count": 77,
   "id": "f8c12272",
   "metadata": {},
   "outputs": [
    {
     "name": "stdout",
     "output_type": "stream",
     "text": [
      "     Features     VIF\n",
      "2       atemp  296.58\n",
      "1        temp  292.73\n",
      "4  registered    8.43\n",
      "3      casual    3.86\n",
      "6      summer    1.91\n",
      "5      spring    1.77\n",
      "8         jan    1.61\n",
      "9         may    1.54\n",
      "7         dec    1.14\n",
      "0     holiday    1.03\n"
     ]
    }
   ],
   "source": [
    "get_VIF(X_train_new)"
   ]
  },
  {
   "cell_type": "code",
   "execution_count": 78,
   "id": "0c002962",
   "metadata": {},
   "outputs": [],
   "source": [
    "X_train_new.drop(['temp'], axis=1, inplace=True)"
   ]
  },
  {
   "cell_type": "code",
   "execution_count": 79,
   "id": "26916857",
   "metadata": {},
   "outputs": [
    {
     "name": "stdout",
     "output_type": "stream",
     "text": [
      "                            OLS Regression Results                            \n",
      "==============================================================================\n",
      "Dep. Variable:                    cnt   R-squared:                       1.000\n",
      "Model:                            OLS   Adj. R-squared:                  1.000\n",
      "Method:                 Least Squares   F-statistic:                 1.658e+31\n",
      "Date:                Wed, 08 Dec 2021   Prob (F-statistic):               0.00\n",
      "Time:                        15:29:59   Log-Likelihood:                 17345.\n",
      "No. Observations:                 510   AIC:                        -3.467e+04\n",
      "Df Residuals:                     500   BIC:                        -3.463e+04\n",
      "Df Model:                           9                                         \n",
      "Covariance Type:            nonrobust                                         \n",
      "==============================================================================\n",
      "                 coef    std err          t      P>|t|      [0.025      0.975]\n",
      "------------------------------------------------------------------------------\n",
      "const       4.372e-16   8.71e-17      5.017      0.000    2.66e-16    6.08e-16\n",
      "holiday    -1.908e-16   1.18e-16     -1.620      0.106   -4.22e-16    4.06e-17\n",
      "atemp      -1.166e-15   1.35e-16     -8.643      0.000   -1.43e-15   -9.01e-16\n",
      "casual         0.3775    1.1e-16   3.43e+15      0.000       0.377       0.377\n",
      "registered     0.7968   1.02e-16   7.82e+15      0.000       0.797       0.797\n",
      "spring     -5.482e-16   6.33e-17     -8.657      0.000   -6.73e-16   -4.24e-16\n",
      "summer      6.245e-17   5.47e-17      1.141      0.254   -4.51e-17     1.7e-16\n",
      "dec        -2.446e-16   7.28e-17     -3.360      0.001   -3.88e-16   -1.02e-16\n",
      "jan         1.095e-15   8.06e-17     13.574      0.000    9.36e-16    1.25e-15\n",
      "may         7.286e-16   7.91e-17      9.216      0.000    5.73e-16    8.84e-16\n",
      "==============================================================================\n",
      "Omnibus:                       36.086   Durbin-Watson:                   2.011\n",
      "Prob(Omnibus):                  0.000   Jarque-Bera (JB):               41.819\n",
      "Skew:                          -0.689   Prob(JB):                     8.30e-10\n",
      "Kurtosis:                       2.735   Cond. No.                         11.7\n",
      "==============================================================================\n",
      "\n",
      "Notes:\n",
      "[1] Standard Errors assume that the covariance matrix of the errors is correctly specified.\n"
     ]
    }
   ],
   "source": [
    "X_train_sm = sm.add_constant(X_train_new)\n",
    "\n",
    "lr2 = sm.OLS(y_train, X_train_sm).fit()\n",
    "\n",
    "print(lr2.summary())"
   ]
  },
  {
   "cell_type": "code",
   "execution_count": 80,
   "id": "ce967d5a",
   "metadata": {},
   "outputs": [
    {
     "name": "stdout",
     "output_type": "stream",
     "text": [
      "     Features   VIF\n",
      "1       atemp  9.89\n",
      "3  registered  8.41\n",
      "2      casual  3.86\n",
      "5      summer  1.91\n",
      "4      spring  1.77\n",
      "7         jan  1.61\n",
      "8         may  1.54\n",
      "6         dec  1.13\n",
      "0     holiday  1.03\n"
     ]
    }
   ],
   "source": [
    "get_VIF(X_train_new)"
   ]
  },
  {
   "cell_type": "code",
   "execution_count": 81,
   "id": "398f6c38",
   "metadata": {},
   "outputs": [
    {
     "data": {
      "text/plain": [
       "Index(['holiday', 'casual', 'registered', 'spring', 'summer', 'dec', 'jan',\n",
       "       'may'],\n",
       "      dtype='object')"
      ]
     },
     "execution_count": 81,
     "metadata": {},
     "output_type": "execute_result"
    }
   ],
   "source": [
    "X_train_new.drop(['atemp'], axis=1, inplace=True)\n",
    "\n",
    "X_train_new.columns"
   ]
  },
  {
   "cell_type": "code",
   "execution_count": 82,
   "id": "185beb32",
   "metadata": {},
   "outputs": [
    {
     "name": "stdout",
     "output_type": "stream",
     "text": [
      "                            OLS Regression Results                            \n",
      "==============================================================================\n",
      "Dep. Variable:                    cnt   R-squared:                       1.000\n",
      "Model:                            OLS   Adj. R-squared:                  1.000\n",
      "Method:                 Least Squares   F-statistic:                 7.137e+31\n",
      "Date:                Wed, 08 Dec 2021   Prob (F-statistic):               0.00\n",
      "Time:                        15:29:59   Log-Likelihood:                 17687.\n",
      "No. Observations:                 510   AIC:                        -3.536e+04\n",
      "Df Residuals:                     501   BIC:                        -3.532e+04\n",
      "Df Model:                           8                                         \n",
      "Covariance Type:            nonrobust                                         \n",
      "==============================================================================\n",
      "                 coef    std err          t      P>|t|      [0.025      0.975]\n",
      "------------------------------------------------------------------------------\n",
      "const      -7.633e-17   3.43e-17     -2.225      0.027   -1.44e-16   -8.92e-18\n",
      "holiday      -3.4e-16   6.02e-17     -5.651      0.000   -4.58e-16   -2.22e-16\n",
      "casual         0.3775   5.33e-17   7.08e+15      0.000       0.377       0.377\n",
      "registered     0.7968      5e-17   1.59e+16      0.000       0.797       0.797\n",
      "spring      2.064e-16   3.03e-17      6.806      0.000    1.47e-16    2.66e-16\n",
      "summer      1.665e-16   2.75e-17      6.065      0.000    1.13e-16     2.2e-16\n",
      "dec         1.006e-16   3.56e-17      2.828      0.005    3.07e-17    1.71e-16\n",
      "jan         5.551e-17   4.05e-17      1.372      0.171    -2.4e-17    1.35e-16\n",
      "may        -1.596e-16      4e-17     -3.988      0.000   -2.38e-16    -8.1e-17\n",
      "==============================================================================\n",
      "Omnibus:                       33.507   Durbin-Watson:                   0.590\n",
      "Prob(Omnibus):                  0.000   Jarque-Bera (JB):               79.903\n",
      "Skew:                           0.331   Prob(JB):                     4.46e-18\n",
      "Kurtosis:                       4.823   Cond. No.                         8.36\n",
      "==============================================================================\n",
      "\n",
      "Notes:\n",
      "[1] Standard Errors assume that the covariance matrix of the errors is correctly specified.\n"
     ]
    }
   ],
   "source": [
    "X_train_sm = sm.add_constant(X_train_new)\n",
    "\n",
    "lr3 = sm.OLS(y_train, X_train_sm).fit()\n",
    "\n",
    "print(lr3.summary())"
   ]
  },
  {
   "cell_type": "code",
   "execution_count": 83,
   "id": "fd1ec4e2",
   "metadata": {},
   "outputs": [
    {
     "name": "stdout",
     "output_type": "stream",
     "text": [
      "     Features   VIF\n",
      "2  registered  3.53\n",
      "1      casual  3.20\n",
      "4      summer  1.90\n",
      "3      spring  1.76\n",
      "6         jan  1.61\n",
      "7         may  1.53\n",
      "5         dec  1.13\n",
      "0     holiday  1.03\n"
     ]
    }
   ],
   "source": [
    "get_VIF(X_train_new)"
   ]
  },
  {
   "cell_type": "markdown",
   "id": "7078e751",
   "metadata": {},
   "source": [
    "### I would like to add yr to this model to see what changes in the model"
   ]
  },
  {
   "cell_type": "code",
   "execution_count": 84,
   "id": "8b7f4926",
   "metadata": {},
   "outputs": [
    {
     "data": {
      "text/html": [
       "<div>\n",
       "<style scoped>\n",
       "    .dataframe tbody tr th:only-of-type {\n",
       "        vertical-align: middle;\n",
       "    }\n",
       "\n",
       "    .dataframe tbody tr th {\n",
       "        vertical-align: top;\n",
       "    }\n",
       "\n",
       "    .dataframe thead th {\n",
       "        text-align: right;\n",
       "    }\n",
       "</style>\n",
       "<table border=\"1\" class=\"dataframe\">\n",
       "  <thead>\n",
       "    <tr style=\"text-align: right;\">\n",
       "      <th></th>\n",
       "      <th>holiday</th>\n",
       "      <th>casual</th>\n",
       "      <th>registered</th>\n",
       "      <th>spring</th>\n",
       "      <th>summer</th>\n",
       "      <th>dec</th>\n",
       "      <th>jan</th>\n",
       "      <th>may</th>\n",
       "      <th>yr</th>\n",
       "    </tr>\n",
       "  </thead>\n",
       "  <tbody>\n",
       "    <tr>\n",
       "      <th>653</th>\n",
       "      <td>0</td>\n",
       "      <td>0.280402</td>\n",
       "      <td>0.951776</td>\n",
       "      <td>0</td>\n",
       "      <td>0</td>\n",
       "      <td>0</td>\n",
       "      <td>0</td>\n",
       "      <td>0</td>\n",
       "      <td>1</td>\n",
       "    </tr>\n",
       "    <tr>\n",
       "      <th>576</th>\n",
       "      <td>0</td>\n",
       "      <td>0.294422</td>\n",
       "      <td>0.899220</td>\n",
       "      <td>0</td>\n",
       "      <td>0</td>\n",
       "      <td>0</td>\n",
       "      <td>0</td>\n",
       "      <td>0</td>\n",
       "      <td>1</td>\n",
       "    </tr>\n",
       "    <tr>\n",
       "      <th>426</th>\n",
       "      <td>0</td>\n",
       "      <td>0.290765</td>\n",
       "      <td>0.446145</td>\n",
       "      <td>1</td>\n",
       "      <td>0</td>\n",
       "      <td>0</td>\n",
       "      <td>0</td>\n",
       "      <td>0</td>\n",
       "      <td>1</td>\n",
       "    </tr>\n",
       "    <tr>\n",
       "      <th>728</th>\n",
       "      <td>0</td>\n",
       "      <td>0.110332</td>\n",
       "      <td>0.203869</td>\n",
       "      <td>1</td>\n",
       "      <td>0</td>\n",
       "      <td>1</td>\n",
       "      <td>0</td>\n",
       "      <td>0</td>\n",
       "      <td>1</td>\n",
       "    </tr>\n",
       "    <tr>\n",
       "      <th>482</th>\n",
       "      <td>0</td>\n",
       "      <td>0.340750</td>\n",
       "      <td>0.444701</td>\n",
       "      <td>0</td>\n",
       "      <td>1</td>\n",
       "      <td>0</td>\n",
       "      <td>0</td>\n",
       "      <td>0</td>\n",
       "      <td>1</td>\n",
       "    </tr>\n",
       "  </tbody>\n",
       "</table>\n",
       "</div>"
      ],
      "text/plain": [
       "     holiday    casual  registered  spring  summer  dec  jan  may  yr\n",
       "653        0  0.280402    0.951776       0       0    0    0    0   1\n",
       "576        0  0.294422    0.899220       0       0    0    0    0   1\n",
       "426        0  0.290765    0.446145       1       0    0    0    0   1\n",
       "728        0  0.110332    0.203869       1       0    1    0    0   1\n",
       "482        0  0.340750    0.444701       0       1    0    0    0   1"
      ]
     },
     "execution_count": 84,
     "metadata": {},
     "output_type": "execute_result"
    }
   ],
   "source": [
    "X_train_combined = pd.concat([X_train_new, df_train['yr']], axis=1)\n",
    "\n",
    "X_train_combined.head()"
   ]
  },
  {
   "cell_type": "code",
   "execution_count": 85,
   "id": "5f3b700c",
   "metadata": {},
   "outputs": [
    {
     "name": "stdout",
     "output_type": "stream",
     "text": [
      "                            OLS Regression Results                            \n",
      "==============================================================================\n",
      "Dep. Variable:                    cnt   R-squared:                       1.000\n",
      "Model:                            OLS   Adj. R-squared:                  1.000\n",
      "Method:                 Least Squares   F-statistic:                 6.333e+29\n",
      "Date:                Wed, 08 Dec 2021   Prob (F-statistic):               0.00\n",
      "Time:                        15:29:59   Log-Likelihood:                 16512.\n",
      "No. Observations:                 510   AIC:                        -3.300e+04\n",
      "Df Residuals:                     500   BIC:                        -3.296e+04\n",
      "Df Model:                           9                                         \n",
      "Covariance Type:            nonrobust                                         \n",
      "==============================================================================\n",
      "                 coef    std err          t      P>|t|      [0.025      0.975]\n",
      "------------------------------------------------------------------------------\n",
      "const       1.228e-15   3.87e-16      3.174      0.002    4.68e-16    1.99e-15\n",
      "holiday     2.949e-16   6.04e-16      0.488      0.626   -8.92e-16    1.48e-15\n",
      "casual         0.3775    5.4e-16      7e+14      0.000       0.377       0.377\n",
      "registered     0.7968   6.93e-16   1.15e+15      0.000       0.797       0.797\n",
      "spring      1.804e-16   3.26e-16      0.553      0.581   -4.61e-16    8.21e-16\n",
      "summer      3.331e-16   2.78e-16      1.198      0.231   -2.13e-16    8.79e-16\n",
      "dec          2.22e-16   3.58e-16      0.621      0.535    -4.8e-16    9.25e-16\n",
      "jan         1.769e-16   4.08e-16      0.433      0.665   -6.25e-16    9.79e-16\n",
      "may         1.874e-16   4.04e-16      0.464      0.643   -6.06e-16     9.8e-16\n",
      "yr           7.13e-16   2.71e-16      2.631      0.009    1.81e-16    1.25e-15\n",
      "==============================================================================\n",
      "Omnibus:                    16090.302   Durbin-Watson:                   0.091\n",
      "Prob(Omnibus):                  0.000   Jarque-Bera (JB):               42.069\n",
      "Skew:                          -0.038   Prob(JB):                     7.32e-10\n",
      "Kurtosis:                       1.595   Cond. No.                         12.0\n",
      "==============================================================================\n",
      "\n",
      "Notes:\n",
      "[1] Standard Errors assume that the covariance matrix of the errors is correctly specified.\n"
     ]
    }
   ],
   "source": [
    "X_train_sm = sm.add_constant(X_train_combined)\n",
    "\n",
    "lr4 = sm.OLS(y_train, X_train_sm).fit()\n",
    "\n",
    "print(lr4.summary())"
   ]
  },
  {
   "cell_type": "code",
   "execution_count": 86,
   "id": "61f8aa39",
   "metadata": {},
   "outputs": [
    {
     "name": "stdout",
     "output_type": "stream",
     "text": [
      "     Features   VIF\n",
      "2  registered  5.73\n",
      "8          yr  3.32\n",
      "1      casual  3.20\n",
      "4      summer  1.90\n",
      "3      spring  1.78\n",
      "6         jan  1.61\n",
      "7         may  1.54\n",
      "5         dec  1.13\n",
      "0     holiday  1.03\n"
     ]
    }
   ],
   "source": [
    "get_VIF(X_train_combined)"
   ]
  },
  {
   "cell_type": "code",
   "execution_count": 87,
   "id": "d445502f",
   "metadata": {},
   "outputs": [
    {
     "data": {
      "text/plain": [
       "Index(['holiday', 'casual', 'registered', 'spring', 'summer', 'dec', 'may',\n",
       "       'yr'],\n",
       "      dtype='object')"
      ]
     },
     "execution_count": 87,
     "metadata": {},
     "output_type": "execute_result"
    }
   ],
   "source": [
    "#dropping jan with high p value \n",
    "\n",
    "X_train_combined.drop(['jan'], axis=1, inplace=True)\n",
    "\n",
    "X_train_combined.columns"
   ]
  },
  {
   "cell_type": "code",
   "execution_count": 88,
   "id": "4bafbfae",
   "metadata": {},
   "outputs": [
    {
     "name": "stdout",
     "output_type": "stream",
     "text": [
      "                            OLS Regression Results                            \n",
      "==============================================================================\n",
      "Dep. Variable:                    cnt   R-squared:                       1.000\n",
      "Model:                            OLS   Adj. R-squared:                  1.000\n",
      "Method:                 Least Squares   F-statistic:                 1.876e+31\n",
      "Date:                Wed, 08 Dec 2021   Prob (F-statistic):               0.00\n",
      "Time:                        15:29:59   Log-Likelihood:                 17346.\n",
      "No. Observations:                 510   AIC:                        -3.467e+04\n",
      "Df Residuals:                     501   BIC:                        -3.464e+04\n",
      "Df Model:                           8                                         \n",
      "Covariance Type:            nonrobust                                         \n",
      "==============================================================================\n",
      "                 coef    std err          t      P>|t|      [0.025      0.975]\n",
      "------------------------------------------------------------------------------\n",
      "const       1.735e-16   7.42e-17      2.338      0.020    2.77e-17    3.19e-16\n",
      "holiday     1.433e-15   1.18e-16     12.170      0.000     1.2e-15    1.66e-15\n",
      "casual         0.3775   1.04e-16   3.62e+15      0.000       0.377       0.377\n",
      "registered     0.7968   1.34e-16   5.96e+15      0.000       0.797       0.797\n",
      "spring     -2.463e-16      6e-17     -4.109      0.000   -3.64e-16   -1.29e-16\n",
      "summer     -2.776e-16   5.41e-17     -5.129      0.000   -3.84e-16   -1.71e-16\n",
      "dec         9.402e-16   6.86e-17     13.714      0.000    8.06e-16    1.07e-15\n",
      "may                 0   7.86e-17          0      1.000   -1.54e-16    1.54e-16\n",
      "yr         -1.613e-16   5.24e-17     -3.081      0.002   -2.64e-16   -5.84e-17\n",
      "==============================================================================\n",
      "Omnibus:                      232.285   Durbin-Watson:                   1.716\n",
      "Prob(Omnibus):                  0.000   Jarque-Bera (JB):              881.740\n",
      "Skew:                          -2.145   Prob(JB):                    3.41e-192\n",
      "Kurtosis:                       7.805   Cond. No.                         11.8\n",
      "==============================================================================\n",
      "\n",
      "Notes:\n",
      "[1] Standard Errors assume that the covariance matrix of the errors is correctly specified.\n"
     ]
    }
   ],
   "source": [
    "X_train_sm = sm.add_constant(X_train_combined)\n",
    "\n",
    "lr5 = sm.OLS(y_train, X_train_sm).fit()\n",
    "\n",
    "print(lr5.summary())"
   ]
  },
  {
   "cell_type": "code",
   "execution_count": 89,
   "id": "cab24443",
   "metadata": {},
   "outputs": [
    {
     "name": "stdout",
     "output_type": "stream",
     "text": [
      "     Features   VIF\n",
      "2  registered  5.73\n",
      "7          yr  3.32\n",
      "1      casual  3.18\n",
      "4      summer  1.90\n",
      "6         may  1.54\n",
      "3      spring  1.18\n",
      "5         dec  1.11\n",
      "0     holiday  1.03\n"
     ]
    }
   ],
   "source": [
    "get_VIF(X_train_combined)"
   ]
  },
  {
   "cell_type": "code",
   "execution_count": 90,
   "id": "6a8add4b",
   "metadata": {},
   "outputs": [
    {
     "data": {
      "text/plain": [
       "Index(['holiday', 'casual', 'registered', 'spring', 'summer', 'dec', 'yr'], dtype='object')"
      ]
     },
     "execution_count": 90,
     "metadata": {},
     "output_type": "execute_result"
    }
   ],
   "source": [
    "#dropping may with high p value \n",
    "\n",
    "X_train_combined.drop(['may'], axis=1, inplace=True)\n",
    "\n",
    "X_train_combined.columns"
   ]
  },
  {
   "cell_type": "code",
   "execution_count": 91,
   "id": "9868ea3a",
   "metadata": {},
   "outputs": [
    {
     "name": "stdout",
     "output_type": "stream",
     "text": [
      "                            OLS Regression Results                            \n",
      "==============================================================================\n",
      "Dep. Variable:                    cnt   R-squared:                       1.000\n",
      "Model:                            OLS   Adj. R-squared:                  1.000\n",
      "Method:                 Least Squares   F-statistic:                 2.879e+31\n",
      "Date:                Wed, 08 Dec 2021   Prob (F-statistic):               0.00\n",
      "Time:                        15:29:59   Log-Likelihood:                 17421.\n",
      "No. Observations:                 510   AIC:                        -3.483e+04\n",
      "Df Residuals:                     502   BIC:                        -3.479e+04\n",
      "Df Model:                           7                                         \n",
      "Covariance Type:            nonrobust                                         \n",
      "==============================================================================\n",
      "                 coef    std err          t      P>|t|      [0.025      0.975]\n",
      "------------------------------------------------------------------------------\n",
      "const       -2.22e-16   6.37e-17     -3.486      0.001   -3.47e-16   -9.69e-17\n",
      "holiday      1.65e-15   1.02e-16     16.236      0.000    1.45e-15    1.85e-15\n",
      "casual         0.3775   9.01e-17   4.19e+15      0.000       0.377       0.377\n",
      "registered     0.7968   1.14e-16   6.97e+15      0.000       0.797       0.797\n",
      "spring      1.735e-16   5.16e-17      3.363      0.001    7.21e-17    2.75e-16\n",
      "summer     -6.939e-17      4e-17     -1.735      0.083   -1.48e-16    9.19e-18\n",
      "dec         3.053e-16   5.92e-17      5.161      0.000    1.89e-16    4.22e-16\n",
      "yr         -5.152e-16   4.49e-17    -11.483      0.000   -6.03e-16   -4.27e-16\n",
      "==============================================================================\n",
      "Omnibus:                      254.627   Durbin-Watson:                   1.768\n",
      "Prob(Omnibus):                  0.000   Jarque-Bera (JB):             1944.777\n",
      "Skew:                          -2.047   Prob(JB):                         0.00\n",
      "Kurtosis:                      11.647   Cond. No.                         11.6\n",
      "==============================================================================\n",
      "\n",
      "Notes:\n",
      "[1] Standard Errors assume that the covariance matrix of the errors is correctly specified.\n"
     ]
    }
   ],
   "source": [
    "X_train_sm = sm.add_constant(X_train_combined)\n",
    "\n",
    "lr6 = sm.OLS(y_train, X_train_sm).fit()\n",
    "\n",
    "print(lr6.summary())"
   ]
  },
  {
   "cell_type": "code",
   "execution_count": 92,
   "id": "2ac29c29",
   "metadata": {},
   "outputs": [
    {
     "name": "stdout",
     "output_type": "stream",
     "text": [
      "     Features   VIF\n",
      "2  registered  5.69\n",
      "6          yr  3.29\n",
      "1      casual  3.18\n",
      "4      summer  1.40\n",
      "3      spring  1.18\n",
      "5         dec  1.11\n",
      "0     holiday  1.03\n"
     ]
    }
   ],
   "source": [
    "get_VIF(X_train_combined)"
   ]
  },
  {
   "cell_type": "code",
   "execution_count": 93,
   "id": "cbc3a5c6",
   "metadata": {},
   "outputs": [
    {
     "data": {
      "text/plain": [
       "Index(['holiday', 'casual', 'spring', 'summer', 'dec', 'yr'], dtype='object')"
      ]
     },
     "execution_count": 93,
     "metadata": {},
     "output_type": "execute_result"
    }
   ],
   "source": [
    "#dropping registered with high p value \n",
    "\n",
    "X_train_combined.drop(['registered'], axis=1, inplace=True)\n",
    "\n",
    "X_train_combined.columns"
   ]
  },
  {
   "cell_type": "code",
   "execution_count": 94,
   "id": "7f99d574",
   "metadata": {},
   "outputs": [
    {
     "name": "stdout",
     "output_type": "stream",
     "text": [
      "                            OLS Regression Results                            \n",
      "==============================================================================\n",
      "Dep. Variable:                    cnt   R-squared:                       0.759\n",
      "Model:                            OLS   Adj. R-squared:                  0.756\n",
      "Method:                 Least Squares   F-statistic:                     264.3\n",
      "Date:                Wed, 08 Dec 2021   Prob (F-statistic):          5.92e-152\n",
      "Time:                        15:30:00   Log-Likelihood:                 401.53\n",
      "No. Observations:                 510   AIC:                            -789.1\n",
      "Df Residuals:                     503   BIC:                            -759.4\n",
      "Df Model:                           6                                         \n",
      "Covariance Type:            nonrobust                                         \n",
      "==============================================================================\n",
      "                 coef    std err          t      P>|t|      [0.025      0.975]\n",
      "------------------------------------------------------------------------------\n",
      "const          0.3625      0.011     31.760      0.000       0.340       0.385\n",
      "holiday       -0.1002      0.031     -3.207      0.001      -0.162      -0.039\n",
      "casual         0.4282      0.028     15.355      0.000       0.373       0.483\n",
      "spring        -0.2038      0.013    -15.441      0.000      -0.230      -0.178\n",
      "summer        -0.0451      0.012     -3.680      0.000      -0.069      -0.021\n",
      "dec           -0.0343      0.018     -1.875      0.061      -0.070       0.002\n",
      "yr             0.2129      0.010     20.867      0.000       0.193       0.233\n",
      "==============================================================================\n",
      "Omnibus:                       73.947   Durbin-Watson:                   1.936\n",
      "Prob(Omnibus):                  0.000   Jarque-Bera (JB):              137.638\n",
      "Skew:                          -0.846   Prob(JB):                     1.30e-30\n",
      "Kurtosis:                       4.901   Cond. No.                         7.85\n",
      "==============================================================================\n",
      "\n",
      "Notes:\n",
      "[1] Standard Errors assume that the covariance matrix of the errors is correctly specified.\n"
     ]
    }
   ],
   "source": [
    "X_train_sm = sm.add_constant(X_train_combined)\n",
    "\n",
    "lr7 = sm.OLS(y_train, X_train_sm).fit()\n",
    "\n",
    "print(lr7.summary())"
   ]
  },
  {
   "cell_type": "markdown",
   "id": "603ee1cf",
   "metadata": {},
   "source": [
    "### R2 value has dropped after removing registered column, hence we need to add it back to dataset for modelling"
   ]
  },
  {
   "cell_type": "code",
   "execution_count": 95,
   "id": "94849d3f",
   "metadata": {},
   "outputs": [
    {
     "data": {
      "text/html": [
       "<div>\n",
       "<style scoped>\n",
       "    .dataframe tbody tr th:only-of-type {\n",
       "        vertical-align: middle;\n",
       "    }\n",
       "\n",
       "    .dataframe tbody tr th {\n",
       "        vertical-align: top;\n",
       "    }\n",
       "\n",
       "    .dataframe thead th {\n",
       "        text-align: right;\n",
       "    }\n",
       "</style>\n",
       "<table border=\"1\" class=\"dataframe\">\n",
       "  <thead>\n",
       "    <tr style=\"text-align: right;\">\n",
       "      <th></th>\n",
       "      <th>holiday</th>\n",
       "      <th>casual</th>\n",
       "      <th>spring</th>\n",
       "      <th>summer</th>\n",
       "      <th>dec</th>\n",
       "      <th>yr</th>\n",
       "      <th>registered</th>\n",
       "    </tr>\n",
       "  </thead>\n",
       "  <tbody>\n",
       "    <tr>\n",
       "      <th>653</th>\n",
       "      <td>0</td>\n",
       "      <td>0.280402</td>\n",
       "      <td>0</td>\n",
       "      <td>0</td>\n",
       "      <td>0</td>\n",
       "      <td>1</td>\n",
       "      <td>0.951776</td>\n",
       "    </tr>\n",
       "    <tr>\n",
       "      <th>576</th>\n",
       "      <td>0</td>\n",
       "      <td>0.294422</td>\n",
       "      <td>0</td>\n",
       "      <td>0</td>\n",
       "      <td>0</td>\n",
       "      <td>1</td>\n",
       "      <td>0.899220</td>\n",
       "    </tr>\n",
       "    <tr>\n",
       "      <th>426</th>\n",
       "      <td>0</td>\n",
       "      <td>0.290765</td>\n",
       "      <td>1</td>\n",
       "      <td>0</td>\n",
       "      <td>0</td>\n",
       "      <td>1</td>\n",
       "      <td>0.446145</td>\n",
       "    </tr>\n",
       "    <tr>\n",
       "      <th>728</th>\n",
       "      <td>0</td>\n",
       "      <td>0.110332</td>\n",
       "      <td>1</td>\n",
       "      <td>0</td>\n",
       "      <td>1</td>\n",
       "      <td>1</td>\n",
       "      <td>0.203869</td>\n",
       "    </tr>\n",
       "    <tr>\n",
       "      <th>482</th>\n",
       "      <td>0</td>\n",
       "      <td>0.340750</td>\n",
       "      <td>0</td>\n",
       "      <td>1</td>\n",
       "      <td>0</td>\n",
       "      <td>1</td>\n",
       "      <td>0.444701</td>\n",
       "    </tr>\n",
       "  </tbody>\n",
       "</table>\n",
       "</div>"
      ],
      "text/plain": [
       "     holiday    casual  spring  summer  dec  yr  registered\n",
       "653        0  0.280402       0       0    0   1    0.951776\n",
       "576        0  0.294422       0       0    0   1    0.899220\n",
       "426        0  0.290765       1       0    0   1    0.446145\n",
       "728        0  0.110332       1       0    1   1    0.203869\n",
       "482        0  0.340750       0       1    0   1    0.444701"
      ]
     },
     "execution_count": 95,
     "metadata": {},
     "output_type": "execute_result"
    }
   ],
   "source": [
    "X_train_combined = pd.concat([X_train_combined, df_train['registered']], axis=1)\n",
    "\n",
    "X_train_combined.head()"
   ]
  },
  {
   "cell_type": "code",
   "execution_count": 96,
   "id": "81c81f35",
   "metadata": {},
   "outputs": [
    {
     "name": "stdout",
     "output_type": "stream",
     "text": [
      "                            OLS Regression Results                            \n",
      "==============================================================================\n",
      "Dep. Variable:                    cnt   R-squared:                       1.000\n",
      "Model:                            OLS   Adj. R-squared:                  1.000\n",
      "Method:                 Least Squares   F-statistic:                 4.736e+31\n",
      "Date:                Wed, 08 Dec 2021   Prob (F-statistic):               0.00\n",
      "Time:                        15:30:00   Log-Likelihood:                 17547.\n",
      "No. Observations:                 510   AIC:                        -3.508e+04\n",
      "Df Residuals:                     502   BIC:                        -3.505e+04\n",
      "Df Model:                           7                                         \n",
      "Covariance Type:            nonrobust                                         \n",
      "==============================================================================\n",
      "                 coef    std err          t      P>|t|      [0.025      0.975]\n",
      "------------------------------------------------------------------------------\n",
      "const      -4.857e-17   4.97e-17     -0.978      0.329   -1.46e-16     4.9e-17\n",
      "holiday     1.006e-15   7.92e-17     12.700      0.000     8.5e-16    1.16e-15\n",
      "casual         0.3775   7.02e-17   5.38e+15      0.000       0.377       0.377\n",
      "spring     -1.527e-16   4.02e-17     -3.796      0.000   -2.32e-16   -7.37e-17\n",
      "summer     -1.318e-16   3.12e-17     -4.228      0.000   -1.93e-16   -7.06e-17\n",
      "dec         1.735e-16   4.61e-17      3.761      0.000    8.28e-17    2.64e-16\n",
      "yr         -3.261e-16    3.5e-17     -9.323      0.000   -3.95e-16   -2.57e-16\n",
      "registered     0.7968   8.92e-17   8.94e+15      0.000       0.797       0.797\n",
      "==============================================================================\n",
      "Omnibus:                      160.156   Durbin-Watson:                   1.521\n",
      "Prob(Omnibus):                  0.000   Jarque-Bera (JB):              597.956\n",
      "Skew:                          -1.402   Prob(JB):                    1.43e-130\n",
      "Kurtosis:                       7.503   Cond. No.                         11.6\n",
      "==============================================================================\n",
      "\n",
      "Notes:\n",
      "[1] Standard Errors assume that the covariance matrix of the errors is correctly specified.\n"
     ]
    }
   ],
   "source": [
    "X_train_sm = sm.add_constant(X_train_combined)\n",
    "\n",
    "lrm = sm.OLS(y_train, X_train_sm).fit()\n",
    "\n",
    "print(lrm.summary())"
   ]
  },
  {
   "cell_type": "markdown",
   "id": "fb38b702",
   "metadata": {},
   "source": [
    "#### Looks like we got our model, lets check the error distribution for this model"
   ]
  },
  {
   "cell_type": "code",
   "execution_count": 97,
   "id": "8b774e54",
   "metadata": {},
   "outputs": [],
   "source": [
    "X_train_lm = sm.add_constant(X_train_combined)"
   ]
  },
  {
   "cell_type": "code",
   "execution_count": 98,
   "id": "082215d1",
   "metadata": {},
   "outputs": [],
   "source": [
    "y_train_pred = lrm.predict(X_train_lm)"
   ]
  },
  {
   "cell_type": "code",
   "execution_count": 99,
   "id": "a4b5f924",
   "metadata": {},
   "outputs": [
    {
     "data": {
      "image/png": "[encoded data removed]",
      "text/plain": [
       "<Figure size 432x288 with 1 Axes>"
      ]
     },
     "metadata": {
      "needs_background": "light"
     },
     "output_type": "display_data"
    }
   ],
   "source": [
    "res = y_train - y_train_pred\n",
    "sns.distplot(res, bins=20)\n",
    "plt.show()"
   ]
  },
  {
   "cell_type": "markdown",
   "id": "167dbd21",
   "metadata": {},
   "source": [
    "#### We have below observations for above chart\n",
    "1. Error distribution is normal\n",
    "2. Mean of distribution is not exactly zero."
   ]
  },
  {
   "cell_type": "markdown",
   "id": "4abb9ddc",
   "metadata": {},
   "source": [
    "#### I would like to drop few more variables from model and check the distribution again"
   ]
  },
  {
   "cell_type": "code",
   "execution_count": 100,
   "id": "bc645985",
   "metadata": {},
   "outputs": [
    {
     "name": "stdout",
     "output_type": "stream",
     "text": [
      "                            OLS Regression Results                            \n",
      "==============================================================================\n",
      "Dep. Variable:                    cnt   R-squared:                       1.000\n",
      "Model:                            OLS   Adj. R-squared:                  1.000\n",
      "Method:                 Least Squares   F-statistic:                 8.436e+31\n",
      "Date:                Wed, 08 Dec 2021   Prob (F-statistic):               0.00\n",
      "Time:                        15:30:00   Log-Likelihood:                 17655.\n",
      "No. Observations:                 510   AIC:                        -3.530e+04\n",
      "Df Residuals:                     503   BIC:                        -3.527e+04\n",
      "Df Model:                           6                                         \n",
      "Covariance Type:            nonrobust                                         \n",
      "==============================================================================\n",
      "                 coef    std err          t      P>|t|      [0.025      0.975]\n",
      "------------------------------------------------------------------------------\n",
      "const       1.232e-16   3.79e-17      3.247      0.001    4.86e-17    1.98e-16\n",
      "holiday    -5.586e-16   6.39e-17     -8.736      0.000   -6.84e-16   -4.33e-16\n",
      "casual         0.3775   5.68e-17   6.65e+15      0.000       0.377       0.377\n",
      "spring     -2.012e-16   3.09e-17     -6.518      0.000   -2.62e-16   -1.41e-16\n",
      "dec         -7.98e-17   3.68e-17     -2.169      0.031   -1.52e-16   -7.51e-18\n",
      "yr         -6.592e-17   2.82e-17     -2.340      0.020   -1.21e-16   -1.06e-17\n",
      "registered     0.7968   7.12e-17   1.12e+16      0.000       0.797       0.797\n",
      "==============================================================================\n",
      "Omnibus:                      116.014   Durbin-Watson:                   1.125\n",
      "Prob(Omnibus):                  0.000   Jarque-Bera (JB):              253.130\n",
      "Skew:                           1.201   Prob(JB):                     1.08e-55\n",
      "Kurtosis:                       5.479   Cond. No.                         11.1\n",
      "==============================================================================\n",
      "\n",
      "Notes:\n",
      "[1] Standard Errors assume that the covariance matrix of the errors is correctly specified.\n"
     ]
    }
   ],
   "source": [
    "#dropping summer with high p value \n",
    "\n",
    "X_train_combined_new = X_train_combined.drop(['summer'], axis=1)\n",
    "\n",
    "X_train_sm = sm.add_constant(X_train_combined_new)\n",
    "\n",
    "lr_7 = sm.OLS(y_train, X_train_sm).fit()\n",
    "\n",
    "print(lr_7.summary())"
   ]
  },
  {
   "cell_type": "code",
   "execution_count": null,
   "id": "16538874",
   "metadata": {},
   "outputs": [],
   "source": []
  },
  {
   "cell_type": "code",
   "execution_count": 101,
   "id": "4f027f67",
   "metadata": {},
   "outputs": [
    {
     "name": "stdout",
     "output_type": "stream",
     "text": [
      "                            OLS Regression Results                            \n",
      "==============================================================================\n",
      "Dep. Variable:                    cnt   R-squared:                       1.000\n",
      "Model:                            OLS   Adj. R-squared:                  1.000\n",
      "Method:                 Least Squares   F-statistic:                 1.105e+32\n",
      "Date:                Wed, 08 Dec 2021   Prob (F-statistic):               0.00\n",
      "Time:                        15:30:00   Log-Likelihood:                 17677.\n",
      "No. Observations:                 510   AIC:                        -3.534e+04\n",
      "Df Residuals:                     504   BIC:                        -3.532e+04\n",
      "Df Model:                           5                                         \n",
      "Covariance Type:            nonrobust                                         \n",
      "==============================================================================\n",
      "                 coef    std err          t      P>|t|      [0.025      0.975]\n",
      "------------------------------------------------------------------------------\n",
      "const      -3.556e-16   3.55e-17    -10.018      0.000   -4.25e-16   -2.86e-16\n",
      "holiday    -5.794e-16   6.12e-17     -9.467      0.000      -7e-16   -4.59e-16\n",
      "casual         0.3775   5.32e-17   7.09e+15      0.000       0.377       0.377\n",
      "spring     -3.469e-17   2.95e-17     -1.177      0.240   -9.26e-17    2.32e-17\n",
      "yr         -1.561e-16   2.69e-17     -5.798      0.000   -2.09e-16   -1.03e-16\n",
      "registered     0.7968   6.81e-17   1.17e+16      0.000       0.797       0.797\n",
      "==============================================================================\n",
      "Omnibus:                      190.745   Durbin-Watson:                   1.066\n",
      "Prob(Omnibus):                  0.000   Jarque-Bera (JB):              794.024\n",
      "Skew:                           1.655   Prob(JB):                    3.80e-173\n",
      "Kurtosis:                       8.139   Cond. No.                         11.0\n",
      "==============================================================================\n",
      "\n",
      "Notes:\n",
      "[1] Standard Errors assume that the covariance matrix of the errors is correctly specified.\n"
     ]
    }
   ],
   "source": [
    "#dropping dec with high p value \n",
    "\n",
    "X_train_combined_new = X_train_combined_new.drop(['dec'], axis=1)\n",
    "\n",
    "X_train_sm = sm.add_constant(X_train_combined_new)\n",
    "\n",
    "lr_8 = sm.OLS(y_train, X_train_sm).fit()\n",
    "\n",
    "print(lr_8.summary())"
   ]
  },
  {
   "cell_type": "code",
   "execution_count": 102,
   "id": "99e44766",
   "metadata": {},
   "outputs": [
    {
     "name": "stdout",
     "output_type": "stream",
     "text": [
      "                            OLS Regression Results                            \n",
      "==============================================================================\n",
      "Dep. Variable:                    cnt   R-squared:                       1.000\n",
      "Model:                            OLS   Adj. R-squared:                  1.000\n",
      "Method:                 Least Squares   F-statistic:                 5.220e+31\n",
      "Date:                Wed, 08 Dec 2021   Prob (F-statistic):               0.00\n",
      "Time:                        15:30:00   Log-Likelihood:                 17532.\n",
      "No. Observations:                 510   AIC:                        -3.505e+04\n",
      "Df Residuals:                     503   BIC:                        -3.502e+04\n",
      "Df Model:                           6                                         \n",
      "Covariance Type:            nonrobust                                         \n",
      "==============================================================================\n",
      "                 coef    std err          t      P>|t|      [0.025      0.975]\n",
      "------------------------------------------------------------------------------\n",
      "const         3.4e-16   3.45e-17      9.847      0.000    2.72e-16    4.08e-16\n",
      "holiday    -2.984e-16   8.14e-17     -3.665      0.000   -4.58e-16   -1.38e-16\n",
      "casual         0.3775   6.93e-17   5.44e+15      0.000       0.377       0.377\n",
      "summer     -4.094e-16   3.04e-17    -13.452      0.000   -4.69e-16    -3.5e-16\n",
      "dec         2.567e-16   4.71e-17      5.451      0.000    1.64e-16    3.49e-16\n",
      "yr         -3.365e-16   3.25e-17    -10.369      0.000      -4e-16   -2.73e-16\n",
      "registered     0.7968   7.56e-17   1.05e+16      0.000       0.797       0.797\n",
      "==============================================================================\n",
      "Omnibus:                       14.243   Durbin-Watson:                   1.688\n",
      "Prob(Omnibus):                  0.001   Jarque-Bera (JB):                9.901\n",
      "Skew:                           0.219   Prob(JB):                      0.00708\n",
      "Kurtosis:                       2.476   Cond. No.                         9.44\n",
      "==============================================================================\n",
      "\n",
      "Notes:\n",
      "[1] Standard Errors assume that the covariance matrix of the errors is correctly specified.\n"
     ]
    }
   ],
   "source": [
    "#dropping spring with high p value \n",
    "\n",
    "X_train_combined_new = X_train_combined.drop(['spring'], axis=1)\n",
    "\n",
    "X_train_sm = sm.add_constant(X_train_combined_new)\n",
    "\n",
    "lr_9 = sm.OLS(y_train, X_train_sm).fit()\n",
    "\n",
    "print(lr_9.summary())"
   ]
  },
  {
   "cell_type": "code",
   "execution_count": 103,
   "id": "74da5aeb",
   "metadata": {},
   "outputs": [
    {
     "name": "stdout",
     "output_type": "stream",
     "text": [
      "     Features   VIF\n",
      "5  registered  5.64\n",
      "4          yr  3.19\n",
      "1      casual  3.15\n",
      "2      summer  1.38\n",
      "3         dec  1.10\n",
      "0     holiday  1.02\n"
     ]
    }
   ],
   "source": [
    "get_VIF(X_train_combined_new)"
   ]
  },
  {
   "cell_type": "markdown",
   "id": "7d296fdd",
   "metadata": {},
   "source": [
    "#### Let's check the error distribution again based on this model viz. lr_9"
   ]
  },
  {
   "cell_type": "code",
   "execution_count": 104,
   "id": "48025634",
   "metadata": {},
   "outputs": [],
   "source": [
    "X_train_lm = sm.add_constant(X_train_combined_new)"
   ]
  },
  {
   "cell_type": "code",
   "execution_count": 105,
   "id": "7cd52585",
   "metadata": {},
   "outputs": [],
   "source": [
    "y_train_pred = lr_9.predict(X_train_lm)"
   ]
  },
  {
   "cell_type": "code",
   "execution_count": 106,
   "id": "ae162c6d",
   "metadata": {},
   "outputs": [
    {
     "data": {
      "image/png": "[encoded data removed]",
      "text/plain": [
       "<Figure size 432x288 with 1 Axes>"
      ]
     },
     "metadata": {
      "needs_background": "light"
     },
     "output_type": "display_data"
    }
   ],
   "source": [
    "res = y_train - y_train_pred\n",
    "sns.distplot(res, bins=20)\n",
    "plt.show()"
   ]
  },
  {
   "cell_type": "markdown",
   "id": "3f8c4562",
   "metadata": {},
   "source": [
    "####  We have below observations for this model\n",
    "1. Error distribution is normal\n",
    "2. Mean of the distribution is zero."
   ]
  },
  {
   "cell_type": "markdown",
   "id": "cb16f8be",
   "metadata": {},
   "source": [
    "#### I am choosing lr_9 as my final model for test evaluation and prediction.\n",
    "#### My final list of independent variables is:\n",
    "1. holiday\n",
    "2. casual\n",
    "3. summer\n",
    "4. dec\n",
    "5. yr\n",
    "6. registered"
   ]
  },
  {
   "cell_type": "markdown",
   "id": "339cc4a6",
   "metadata": {},
   "source": [
    "## Making Predictions Using the Final Mode\n",
    "\n"
   ]
  },
  {
   "cell_type": "code",
   "execution_count": 107,
   "id": "a0841b3a",
   "metadata": {},
   "outputs": [],
   "source": [
    "# Apply scaling on test sets\n",
    "df_test[num_vars] = scaler.transform(df_test[num_vars])"
   ]
  },
  {
   "cell_type": "code",
   "execution_count": 108,
   "id": "8ebecbc7",
   "metadata": {},
   "outputs": [
    {
     "data": {
      "text/html": [
       "<div>\n",
       "<style scoped>\n",
       "    .dataframe tbody tr th:only-of-type {\n",
       "        vertical-align: middle;\n",
       "    }\n",
       "\n",
       "    .dataframe tbody tr th {\n",
       "        vertical-align: top;\n",
       "    }\n",
       "\n",
       "    .dataframe thead th {\n",
       "        text-align: right;\n",
       "    }\n",
       "</style>\n",
       "<table border=\"1\" class=\"dataframe\">\n",
       "  <thead>\n",
       "    <tr style=\"text-align: right;\">\n",
       "      <th></th>\n",
       "      <th>yr</th>\n",
       "      <th>holiday</th>\n",
       "      <th>temp</th>\n",
       "      <th>atemp</th>\n",
       "      <th>hum</th>\n",
       "      <th>windspeed</th>\n",
       "      <th>casual</th>\n",
       "      <th>registered</th>\n",
       "      <th>cnt</th>\n",
       "      <th>spring</th>\n",
       "      <th>...</th>\n",
       "      <th>oct</th>\n",
       "      <th>sep</th>\n",
       "      <th>Mon</th>\n",
       "      <th>Sat</th>\n",
       "      <th>Sun</th>\n",
       "      <th>Thu</th>\n",
       "      <th>Tue</th>\n",
       "      <th>Wed</th>\n",
       "      <th>WCAT2</th>\n",
       "      <th>WCAT3</th>\n",
       "    </tr>\n",
       "  </thead>\n",
       "  <tbody>\n",
       "    <tr>\n",
       "      <th>count</th>\n",
       "      <td>219.000000</td>\n",
       "      <td>219.000000</td>\n",
       "      <td>219.000000</td>\n",
       "      <td>219.000000</td>\n",
       "      <td>219.000000</td>\n",
       "      <td>219.000000</td>\n",
       "      <td>219.000000</td>\n",
       "      <td>219.000000</td>\n",
       "      <td>219.000000</td>\n",
       "      <td>219.000000</td>\n",
       "      <td>...</td>\n",
       "      <td>219.000000</td>\n",
       "      <td>219.000000</td>\n",
       "      <td>219.000000</td>\n",
       "      <td>219.000000</td>\n",
       "      <td>219.000000</td>\n",
       "      <td>219.000000</td>\n",
       "      <td>219.000000</td>\n",
       "      <td>219.000000</td>\n",
       "      <td>219.000000</td>\n",
       "      <td>219.000000</td>\n",
       "    </tr>\n",
       "    <tr>\n",
       "      <th>mean</th>\n",
       "      <td>0.479452</td>\n",
       "      <td>0.036530</td>\n",
       "      <td>0.570223</td>\n",
       "      <td>0.533045</td>\n",
       "      <td>0.638521</td>\n",
       "      <td>0.313450</td>\n",
       "      <td>0.266372</td>\n",
       "      <td>0.527146</td>\n",
       "      <td>0.520592</td>\n",
       "      <td>0.255708</td>\n",
       "      <td>...</td>\n",
       "      <td>0.082192</td>\n",
       "      <td>0.086758</td>\n",
       "      <td>0.118721</td>\n",
       "      <td>0.173516</td>\n",
       "      <td>0.155251</td>\n",
       "      <td>0.141553</td>\n",
       "      <td>0.123288</td>\n",
       "      <td>0.155251</td>\n",
       "      <td>0.319635</td>\n",
       "      <td>0.027397</td>\n",
       "    </tr>\n",
       "    <tr>\n",
       "      <th>std</th>\n",
       "      <td>0.500722</td>\n",
       "      <td>0.188034</td>\n",
       "      <td>0.233112</td>\n",
       "      <td>0.217719</td>\n",
       "      <td>0.148978</td>\n",
       "      <td>0.159911</td>\n",
       "      <td>0.217246</td>\n",
       "      <td>0.217921</td>\n",
       "      <td>0.218435</td>\n",
       "      <td>0.437258</td>\n",
       "      <td>...</td>\n",
       "      <td>0.275286</td>\n",
       "      <td>0.282125</td>\n",
       "      <td>0.324202</td>\n",
       "      <td>0.379560</td>\n",
       "      <td>0.362974</td>\n",
       "      <td>0.349389</td>\n",
       "      <td>0.329520</td>\n",
       "      <td>0.362974</td>\n",
       "      <td>0.467403</td>\n",
       "      <td>0.163612</td>\n",
       "    </tr>\n",
       "    <tr>\n",
       "      <th>min</th>\n",
       "      <td>0.000000</td>\n",
       "      <td>0.000000</td>\n",
       "      <td>0.060606</td>\n",
       "      <td>0.026316</td>\n",
       "      <td>0.261954</td>\n",
       "      <td>-0.042669</td>\n",
       "      <td>0.002133</td>\n",
       "      <td>0.059486</td>\n",
       "      <td>0.048205</td>\n",
       "      <td>0.000000</td>\n",
       "      <td>...</td>\n",
       "      <td>0.000000</td>\n",
       "      <td>0.000000</td>\n",
       "      <td>0.000000</td>\n",
       "      <td>0.000000</td>\n",
       "      <td>0.000000</td>\n",
       "      <td>0.000000</td>\n",
       "      <td>0.000000</td>\n",
       "      <td>0.000000</td>\n",
       "      <td>0.000000</td>\n",
       "      <td>0.000000</td>\n",
       "    </tr>\n",
       "    <tr>\n",
       "      <th>25%</th>\n",
       "      <td>0.000000</td>\n",
       "      <td>0.000000</td>\n",
       "      <td>0.363636</td>\n",
       "      <td>0.342105</td>\n",
       "      <td>0.527257</td>\n",
       "      <td>0.198588</td>\n",
       "      <td>0.101951</td>\n",
       "      <td>0.359154</td>\n",
       "      <td>0.377531</td>\n",
       "      <td>0.000000</td>\n",
       "      <td>...</td>\n",
       "      <td>0.000000</td>\n",
       "      <td>0.000000</td>\n",
       "      <td>0.000000</td>\n",
       "      <td>0.000000</td>\n",
       "      <td>0.000000</td>\n",
       "      <td>0.000000</td>\n",
       "      <td>0.000000</td>\n",
       "      <td>0.000000</td>\n",
       "      <td>0.000000</td>\n",
       "      <td>0.000000</td>\n",
       "    </tr>\n",
       "    <tr>\n",
       "      <th>50%</th>\n",
       "      <td>0.000000</td>\n",
       "      <td>0.000000</td>\n",
       "      <td>0.575758</td>\n",
       "      <td>0.552632</td>\n",
       "      <td>0.627782</td>\n",
       "      <td>0.299647</td>\n",
       "      <td>0.223712</td>\n",
       "      <td>0.526567</td>\n",
       "      <td>0.524275</td>\n",
       "      <td>0.000000</td>\n",
       "      <td>...</td>\n",
       "      <td>0.000000</td>\n",
       "      <td>0.000000</td>\n",
       "      <td>0.000000</td>\n",
       "      <td>0.000000</td>\n",
       "      <td>0.000000</td>\n",
       "      <td>0.000000</td>\n",
       "      <td>0.000000</td>\n",
       "      <td>0.000000</td>\n",
       "      <td>0.000000</td>\n",
       "      <td>0.000000</td>\n",
       "    </tr>\n",
       "    <tr>\n",
       "      <th>75%</th>\n",
       "      <td>1.000000</td>\n",
       "      <td>0.000000</td>\n",
       "      <td>0.772727</td>\n",
       "      <td>0.710526</td>\n",
       "      <td>0.743972</td>\n",
       "      <td>0.403272</td>\n",
       "      <td>0.362085</td>\n",
       "      <td>0.664742</td>\n",
       "      <td>0.672745</td>\n",
       "      <td>1.000000</td>\n",
       "      <td>...</td>\n",
       "      <td>0.000000</td>\n",
       "      <td>0.000000</td>\n",
       "      <td>0.000000</td>\n",
       "      <td>0.000000</td>\n",
       "      <td>0.000000</td>\n",
       "      <td>0.000000</td>\n",
       "      <td>0.000000</td>\n",
       "      <td>0.000000</td>\n",
       "      <td>1.000000</td>\n",
       "      <td>0.000000</td>\n",
       "    </tr>\n",
       "    <tr>\n",
       "      <th>max</th>\n",
       "      <td>1.000000</td>\n",
       "      <td>1.000000</td>\n",
       "      <td>1.000000</td>\n",
       "      <td>0.973684</td>\n",
       "      <td>1.002164</td>\n",
       "      <td>0.807507</td>\n",
       "      <td>1.038708</td>\n",
       "      <td>0.985273</td>\n",
       "      <td>0.963300</td>\n",
       "      <td>1.000000</td>\n",
       "      <td>...</td>\n",
       "      <td>1.000000</td>\n",
       "      <td>1.000000</td>\n",
       "      <td>1.000000</td>\n",
       "      <td>1.000000</td>\n",
       "      <td>1.000000</td>\n",
       "      <td>1.000000</td>\n",
       "      <td>1.000000</td>\n",
       "      <td>1.000000</td>\n",
       "      <td>1.000000</td>\n",
       "      <td>1.000000</td>\n",
       "    </tr>\n",
       "  </tbody>\n",
       "</table>\n",
       "<p>8 rows × 31 columns</p>\n",
       "</div>"
      ],
      "text/plain": [
       "               yr     holiday        temp       atemp         hum   windspeed  \\\n",
       "count  219.000000  219.000000  219.000000  219.000000  219.000000  219.000000   \n",
       "mean     0.479452    0.036530    0.570223    0.533045    0.638521    0.313450   \n",
       "std      0.500722    0.188034    0.233112    0.217719    0.148978    0.159911   \n",
       "min      0.000000    0.000000    0.060606    0.026316    0.261954   -0.042669   \n",
       "25%      0.000000    0.000000    0.363636    0.342105    0.527257    0.198588   \n",
       "50%      0.000000    0.000000    0.575758    0.552632    0.627782    0.299647   \n",
       "75%      1.000000    0.000000    0.772727    0.710526    0.743972    0.403272   \n",
       "max      1.000000    1.000000    1.000000    0.973684    1.002164    0.807507   \n",
       "\n",
       "           casual  registered         cnt      spring  ...         oct  \\\n",
       "count  219.000000  219.000000  219.000000  219.000000  ...  219.000000   \n",
       "mean     0.266372    0.527146    0.520592    0.255708  ...    0.082192   \n",
       "std      0.217246    0.217921    0.218435    0.437258  ...    0.275286   \n",
       "min      0.002133    0.059486    0.048205    0.000000  ...    0.000000   \n",
       "25%      0.101951    0.359154    0.377531    0.000000  ...    0.000000   \n",
       "50%      0.223712    0.526567    0.524275    0.000000  ...    0.000000   \n",
       "75%      0.362085    0.664742    0.672745    1.000000  ...    0.000000   \n",
       "max      1.038708    0.985273    0.963300    1.000000  ...    1.000000   \n",
       "\n",
       "              sep         Mon         Sat         Sun         Thu         Tue  \\\n",
       "count  219.000000  219.000000  219.000000  219.000000  219.000000  219.000000   \n",
       "mean     0.086758    0.118721    0.173516    0.155251    0.141553    0.123288   \n",
       "std      0.282125    0.324202    0.379560    0.362974    0.349389    0.329520   \n",
       "min      0.000000    0.000000    0.000000    0.000000    0.000000    0.000000   \n",
       "25%      0.000000    0.000000    0.000000    0.000000    0.000000    0.000000   \n",
       "50%      0.000000    0.000000    0.000000    0.000000    0.000000    0.000000   \n",
       "75%      0.000000    0.000000    0.000000    0.000000    0.000000    0.000000   \n",
       "max      1.000000    1.000000    1.000000    1.000000    1.000000    1.000000   \n",
       "\n",
       "              Wed       WCAT2       WCAT3  \n",
       "count  219.000000  219.000000  219.000000  \n",
       "mean     0.155251    0.319635    0.027397  \n",
       "std      0.362974    0.467403    0.163612  \n",
       "min      0.000000    0.000000    0.000000  \n",
       "25%      0.000000    0.000000    0.000000  \n",
       "50%      0.000000    0.000000    0.000000  \n",
       "75%      0.000000    1.000000    0.000000  \n",
       "max      1.000000    1.000000    1.000000  \n",
       "\n",
       "[8 rows x 31 columns]"
      ]
     },
     "execution_count": 108,
     "metadata": {},
     "output_type": "execute_result"
    }
   ],
   "source": [
    "df_test.describe()"
   ]
  },
  {
   "cell_type": "code",
   "execution_count": 109,
   "id": "1eac555c",
   "metadata": {},
   "outputs": [],
   "source": [
    "y_test = df_test['cnt']\n",
    "X_test = df_test.loc[:,df_test.columns != 'cnt']"
   ]
  },
  {
   "cell_type": "code",
   "execution_count": 110,
   "id": "d16936b7",
   "metadata": {},
   "outputs": [
    {
     "data": {
      "text/plain": [
       "Index(['yr', 'holiday', 'temp', 'atemp', 'hum', 'windspeed', 'casual',\n",
       "       'registered', 'spring', 'summer', 'winter', 'aug', 'dec', 'feb', 'jan',\n",
       "       'jul', 'jun', 'mar', 'may', 'nov', 'oct', 'sep', 'Mon', 'Sat', 'Sun',\n",
       "       'Thu', 'Tue', 'Wed', 'WCAT2', 'WCAT3'],\n",
       "      dtype='object')"
      ]
     },
     "execution_count": 110,
     "metadata": {},
     "output_type": "execute_result"
    }
   ],
   "source": [
    "X_test.columns "
   ]
  },
  {
   "cell_type": "code",
   "execution_count": 111,
   "id": "4bb51b23",
   "metadata": {},
   "outputs": [
    {
     "data": {
      "text/plain": [
       "184    0.692706\n",
       "535    0.712034\n",
       "299    0.303382\n",
       "221    0.547400\n",
       "152    0.569029\n",
       "         ...   \n",
       "400    0.336516\n",
       "702    0.757478\n",
       "127    0.495973\n",
       "640    0.868615\n",
       "72     0.232858\n",
       "Name: cnt, Length: 219, dtype: float64"
      ]
     },
     "execution_count": 111,
     "metadata": {},
     "output_type": "execute_result"
    }
   ],
   "source": [
    "y_test"
   ]
  },
  {
   "cell_type": "code",
   "execution_count": 112,
   "id": "23eb2e3f",
   "metadata": {},
   "outputs": [],
   "source": [
    "X_test = X_test.loc[:,['holiday','casual','summer','dec','yr','registered']]\n",
    "\n",
    "X_test_sm = sm.add_constant(X_test)\n"
   ]
  },
  {
   "cell_type": "code",
   "execution_count": 113,
   "id": "bb164ca7",
   "metadata": {},
   "outputs": [],
   "source": [
    "y_test_pred = lr_9.predict(X_test_sm)"
   ]
  },
  {
   "cell_type": "markdown",
   "id": "6c539641",
   "metadata": {},
   "source": [
    "## Model Evaluation\n",
    "\n"
   ]
  },
  {
   "cell_type": "code",
   "execution_count": 114,
   "id": "879e296f",
   "metadata": {},
   "outputs": [
    {
     "data": {
      "image/png": "[encoded data removed]",
      "text/plain": [
       "<Figure size 432x288 with 1 Axes>"
      ]
     },
     "metadata": {
      "needs_background": "light"
     },
     "output_type": "display_data"
    }
   ],
   "source": [
    "fig = plt.figure()\n",
    "plt.scatter(y_test, y_test_pred)\n",
    "fig.suptitle('y_test vs y_test_pred', fontsize = 20)              # Plot heading \n",
    "plt.xlabel('y_test', fontsize = 18)                          # X-label\n",
    "plt.ylabel('y_test_pred', fontsize = 16)  \n",
    "plt.show()"
   ]
  },
  {
   "cell_type": "code",
   "execution_count": 115,
   "id": "79107663",
   "metadata": {},
   "outputs": [
    {
     "data": {
      "text/plain": [
       "1.0"
      ]
     },
     "execution_count": 115,
     "metadata": {},
     "output_type": "execute_result"
    }
   ],
   "source": [
    "from sklearn.metrics import r2_score\n",
    "r2_score(y_test, y_test_pred)"
   ]
  },
  {
   "cell_type": "markdown",
   "id": "a6e37dcb",
   "metadata": {},
   "source": [
    "## We have achieved a perferct r2 score for test data. Looks like out model is behaving very good on the test data."
   ]
  },
  {
   "cell_type": "code",
   "execution_count": 1,
   "id": "d33c3626",
   "metadata": {},
   "outputs": [],
   "source": []
  }
 ],
 "metadata": {
  "kernelspec": {
   "display_name": "Python 3",
   "language": "python",
   "name": "python3"
  },
  "language_info": {
   "codemirror_mode": {
    "name": "ipython",
    "version": 3
   },
   "file_extension": ".py",
   "mimetype": "text/x-python",
   "name": "python",
   "nbconvert_exporter": "python",
   "pygments_lexer": "ipython3",
   "version": "3.12.1"
  }
 },
 "nbformat": 4,
 "nbformat_minor": 5
}
